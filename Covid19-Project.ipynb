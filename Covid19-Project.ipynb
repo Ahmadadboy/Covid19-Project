{
 "cells": [
  {
   "cell_type": "markdown",
   "metadata": {},
   "source": [
    "# Covid19-Project"
   ]
  },
  {
   "cell_type": "markdown",
   "metadata": {},
   "source": [
    "Importing Libraries & DataSet"
   ]
  },
  {
   "cell_type": "code",
   "execution_count": 1,
   "metadata": {},
   "outputs": [],
   "source": [
    "import pandas as pd\n",
    "import numpy as np\n",
    "from matplotlib import pyplot as plt\n",
    "import plotly.express as px\n",
    "import random as r\n",
    "df= pd.read_csv('12-12-2020.csv')"
   ]
  },
  {
   "cell_type": "markdown",
   "metadata": {},
   "source": [
    "# Task 1"
   ]
  },
  {
   "cell_type": "markdown",
   "metadata": {},
   "source": [
    "Write a Python program to display the first 5 rows from COVID-19 dataset. Also print the dataset information and check the missing values"
   ]
  },
  {
   "cell_type": "code",
   "execution_count": 11,
   "metadata": {},
   "outputs": [
    {
     "name": "stdout",
     "output_type": "stream",
     "text": [
      "      FIPS Admin2 Province_State      Country_Region          Last_Update  \\\n",
      "0      NaN    NaN            NaN         Afghanistan  2020-12-13 05:27:20   \n",
      "1      NaN    NaN            NaN             Albania  2020-12-13 05:27:20   \n",
      "2      NaN    NaN            NaN             Algeria  2020-12-13 05:27:20   \n",
      "3      NaN    NaN            NaN             Andorra  2020-12-13 05:27:20   \n",
      "4      NaN    NaN            NaN              Angola  2020-12-13 05:27:20   \n",
      "...    ...    ...            ...                 ...                  ...   \n",
      "3971   NaN    NaN            NaN             Vietnam  2020-12-13 05:27:20   \n",
      "3972   NaN    NaN            NaN  West Bank and Gaza  2020-12-13 05:27:20   \n",
      "3973   NaN    NaN            NaN               Yemen  2020-12-13 05:27:20   \n",
      "3974   NaN    NaN            NaN              Zambia  2020-12-13 05:27:20   \n",
      "3975   NaN    NaN            NaN            Zimbabwe  2020-12-13 05:27:20   \n",
      "\n",
      "            Lat       Long_  Confirmed  Deaths  Recovered   Active  \\\n",
      "0     33.939110   67.709953      48229    1956      38200   8073.0   \n",
      "1     41.153300   20.168300      47742     989      24520  22233.0   \n",
      "2     28.033900    1.659600      91638    2584      60028  29026.0   \n",
      "3     42.506300    1.521800       7288      78       6629    581.0   \n",
      "4    -11.202700   17.873900      16161     366       8841   6954.0   \n",
      "...         ...         ...        ...     ...        ...      ...   \n",
      "3971  14.058324  108.277199       1395      35       1238    122.0   \n",
      "3972  31.952200   35.233200     108099     961      83123  24015.0   \n",
      "3973  15.552727   48.516388       2083     606       1383     94.0   \n",
      "3974 -13.133897   27.849332      18217     366      17339    512.0   \n",
      "3975 -19.015438   29.154857      11219     307       9359   1553.0   \n",
      "\n",
      "            Combined_Key  Incident_Rate  Case_Fatality_Ratio  \n",
      "0            Afghanistan     123.891743             4.055651  \n",
      "1                Albania    1658.975606             2.071551  \n",
      "2                Algeria     208.975645             2.819791  \n",
      "3                Andorra    9432.472659             1.070252  \n",
      "4                 Angola      49.171996             2.264711  \n",
      "...                  ...            ...                  ...  \n",
      "3971             Vietnam       1.433142             2.508961  \n",
      "3972  West Bank and Gaza    2118.999901             0.889000  \n",
      "3973               Yemen       6.983847            29.092655  \n",
      "3974              Zambia      99.091839             2.009112  \n",
      "3975            Zimbabwe      75.483113             2.736429  \n",
      "\n",
      "[3976 rows x 14 columns]\n",
      "\n",
      "Dataset information:\n",
      "<class 'pandas.core.frame.DataFrame'>\n",
      "RangeIndex: 3976 entries, 0 to 3975\n",
      "Data columns (total 14 columns):\n",
      " #   Column               Non-Null Count  Dtype  \n",
      "---  ------               --------------  -----  \n",
      " 0   FIPS                 3263 non-null   float64\n",
      " 1   Admin2               3268 non-null   object \n",
      " 2   Province_State       3806 non-null   object \n",
      " 3   Country_Region       3976 non-null   object \n",
      " 4   Last_Update          3976 non-null   object \n",
      " 5   Lat                  3890 non-null   float64\n",
      " 6   Long_                3890 non-null   float64\n",
      " 7   Confirmed            3976 non-null   int64  \n",
      " 8   Deaths               3976 non-null   int64  \n",
      " 9   Recovered            3976 non-null   int64  \n",
      " 10  Active               3974 non-null   float64\n",
      " 11  Combined_Key         3976 non-null   object \n",
      " 12  Incident_Rate        3890 non-null   float64\n",
      " 13  Case_Fatality_Ratio  3935 non-null   float64\n",
      "dtypes: float64(6), int64(3), object(5)\n",
      "memory usage: 435.0+ KB\n",
      "None\n",
      "\n",
      "Missing data information:\n",
      "FIPS                   713\n",
      "Admin2                 708\n",
      "Province_State         170\n",
      "Country_Region           0\n",
      "Last_Update              0\n",
      "Lat                     86\n",
      "Long_                   86\n",
      "Confirmed                0\n",
      "Deaths                   0\n",
      "Recovered                0\n",
      "Active                   2\n",
      "Combined_Key             0\n",
      "Incident_Rate           86\n",
      "Case_Fatality_Ratio     41\n",
      "dtype: int64\n"
     ]
    }
   ],
   "source": [
    "print(df)\n",
    "print(\"\\nDataset information:\")\n",
    "print(df.info())\n",
    "print(\"\\nMissing data information:\")\n",
    "print(df.isna().sum())"
   ]
  },
  {
   "cell_type": "markdown",
   "metadata": {},
   "source": [
    "# Task 2"
   ]
  },
  {
   "cell_type": "markdown",
   "metadata": {},
   "source": [
    "Write a Python program to get the latest number of confirmed, deaths, recovered and active cases of Novel Coronavirus (COVID-19) Country wise"
   ]
  },
  {
   "cell_type": "code",
   "execution_count": 12,
   "metadata": {},
   "outputs": [
    {
     "name": "stdout",
     "output_type": "stream",
     "text": [
      "         Country_Region  Confirmed  Deaths  Recovered  Active\n",
      "0           Afghanistan      48229    1956      38200    8073\n",
      "1               Albania      47742     989      24520   22233\n",
      "2               Algeria      91638    2584      60028   29026\n",
      "3               Andorra       7288      78       6629     581\n",
      "4                Angola      16161     366       8841    6954\n",
      "..                  ...        ...     ...        ...     ...\n",
      "186             Vietnam       1395      35       1238     122\n",
      "187  West Bank and Gaza     108099     961      83123   24015\n",
      "188               Yemen       2083     606       1383      94\n",
      "189              Zambia      18217     366      17339     512\n",
      "190            Zimbabwe      11219     307       9359    1553\n",
      "\n",
      "[191 rows x 5 columns]\n"
     ]
    },
    {
     "name": "stderr",
     "output_type": "stream",
     "text": [
      "<ipython-input-12-8f8519d13b6c>:2: FutureWarning: Indexing with multiple keys (implicitly converted to a tuple of keys) will be deprecated, use a list instead.\n",
      "  results = df.groupby('Country_Region')['Confirmed', 'Deaths', 'Recovered', 'Active'].sum().reset_index()\n"
     ]
    }
   ],
   "source": [
    "df['Active'] = df['Confirmed'] - df['Deaths'] - df['Recovered']\n",
    "results = df.groupby('Country_Region')['Confirmed', 'Deaths', 'Recovered', 'Active'].sum().reset_index()\n",
    "print(results)"
   ]
  },
  {
   "cell_type": "markdown",
   "metadata": {},
   "source": [
    "# Task 3"
   ]
  },
  {
   "cell_type": "markdown",
   "metadata": {},
   "source": [
    "Write a Python program to get the latest number of confirmed deaths and recovered people of Novel Coronavirus (COVID-19) cases Country/Region - Province/State wise"
   ]
  },
  {
   "cell_type": "code",
   "execution_count": 14,
   "metadata": {},
   "outputs": [
    {
     "name": "stdout",
     "output_type": "stream",
     "text": [
      "                                                         Confirmed  Deaths  \\\n",
      "Country_Region Province_State                                                \n",
      "Australia      Australian Capital Territory                    117       3   \n",
      "               New South Wales                                4642      53   \n",
      "               Northern Territory                               62       0   \n",
      "               Queensland                                     1226       6   \n",
      "               South Australia                                 562       4   \n",
      "               Tasmania                                        234      13   \n",
      "               Victoria                                      20351     820   \n",
      "               Western Australia                               836       9   \n",
      "Belgium        Antwerp                                       71827       0   \n",
      "               Brussels                                      78384       0   \n",
      "               East Flanders                                 58025       0   \n",
      "               Flemish Brabant                               46136       0   \n",
      "               Hainaut                                       96715       0   \n",
      "               Liege                                         93672       0   \n",
      "               Limburg                                       26003       0   \n",
      "               Luxembourg                                    17211       0   \n",
      "               Namur                                         33442       0   \n",
      "               Unknown                                        9935   17792   \n",
      "               Walloon Brabant                               23902       0   \n",
      "               West Flanders                                 47907       0   \n",
      "Brazil         Acre                                          38363     749   \n",
      "               Alagoas                                       98177    2372   \n",
      "               Amapa                                         63042     849   \n",
      "               Amazonas                                     186274    4998   \n",
      "               Bahia                                        443465    8589   \n",
      "               Ceara                                        314674    9774   \n",
      "               Distrito Federal                             238634    4059   \n",
      "               Espirito Santo                               211992    4559   \n",
      "               Goias                                        292689    6534   \n",
      "               Maranhao                                     197006    4375   \n",
      "               Mato Grosso                                  165871    4194   \n",
      "               Mato Grosso do Sul                           112876    1913   \n",
      "               Minas Gerais                                 464545   10645   \n",
      "               Para                                         279600    6989   \n",
      "               Paraiba                                      153556    3430   \n",
      "               Parana                                       327299    6760   \n",
      "               Pernambuco                                   198426    9271   \n",
      "               Piaui                                        134429    2720   \n",
      "               Rio Grande do Norte                          102846    2790   \n",
      "               Rio Grande do Sul                            372699    7578   \n",
      "               Rio de Janeiro                               388431   23718   \n",
      "               Rondonia                                      85410    1638   \n",
      "               Roraima                                       66221     755   \n",
      "               Santa Catarina                               426095    4334   \n",
      "               Sao Paulo                                   1333763   43971   \n",
      "               Sergipe                                       98472    2361   \n",
      "               Tocantins                                     85272    1198   \n",
      "Canada         Alberta                                       78382     697   \n",
      "               British Columbia                              40797     598   \n",
      "               Diamond Princess                                  0       1   \n",
      "               Grand Princess                                   13       0   \n",
      "               Manitoba                                      20750     483   \n",
      "               New Brunswick                                   555       8   \n",
      "               Newfoundland and Labrador                       358       4   \n",
      "               Northwest Territories                            20       0   \n",
      "               Nova Scotia                                    1409      65   \n",
      "               Nunavut                                         247       0   \n",
      "               Ontario                                      142171    3949   \n",
      "               Prince Edward Island                             84       0   \n",
      "               Quebec                                       161921    7475   \n",
      "               Repatriated Travellers                           13       0   \n",
      "               Saskatchewan                                  11749      86   \n",
      "               Yukon                                            58       1   \n",
      "Chile          Antofagasta                                   22526     571   \n",
      "               Araucania                                     19518     260   \n",
      "               Arica y Parinacota                            10404     214   \n",
      "               Atacama                                        8261     108   \n",
      "               Aysen                                          1327      15   \n",
      "               Biobio                                        40373     669   \n",
      "               Coquimbo                                      13464     277   \n",
      "               Los Lagos                                     22346     226   \n",
      "               Los Rios                                       7087      66   \n",
      "               Magallanes                                    15388     215   \n",
      "               Maule                                         22055     512   \n",
      "               Metropolitana                                309491   10517   \n",
      "               Nuble                                          9422     189   \n",
      "               OHiggins                                      20416     562   \n",
      "               Tarapaca                                      14238     263   \n",
      "               Unknown                                          45       1   \n",
      "               Valparaiso                                    33420    1181   \n",
      "China          Anhui                                           992       6   \n",
      "               Beijing                                         954       9   \n",
      "               Chongqing                                       590       6   \n",
      "               Fujian                                          502       1   \n",
      "               Gansu                                           182       2   \n",
      "               Guangdong                                      2016       8   \n",
      "               Guangxi                                         264       2   \n",
      "               Guizhou                                         147       2   \n",
      "               Hainan                                          171       6   \n",
      "               Hebei                                           373       6   \n",
      "               Heilongjiang                                    956      13   \n",
      "               Henan                                          1295      22   \n",
      "               Hong Kong                                      7446     115   \n",
      "               Hubei                                         68149    4512   \n",
      "               Hunan                                          1020       4   \n",
      "               Inner Mongolia                                  337       1   \n",
      "               Jiangsu                                         684       0   \n",
      "               Jiangxi                                         935       1   \n",
      "               Jilin                                           157       2   \n",
      "               Liaoning                                        289       2   \n",
      "               Macau                                            46       0   \n",
      "               Ningxia                                          75       0   \n",
      "               Qinghai                                          18       0   \n",
      "               Shaanxi                                         502       3   \n",
      "               Shandong                                        858       7   \n",
      "               Shanghai                                       1405       7   \n",
      "               Shanxi                                          222       0   \n",
      "               Sichuan                                         829       3   \n",
      "               Tianjin                                         302       3   \n",
      "               Tibet                                             1       0   \n",
      "               Xinjiang                                        980       3   \n",
      "               Yunnan                                          224       2   \n",
      "               Zhejiang                                       1296       1   \n",
      "Colombia       Amazonas                                       3174     123   \n",
      "               Antioquia                                    228441    4318   \n",
      "               Arauca                                         4340     125   \n",
      "               Atlantico                                     82113    3262   \n",
      "               Bolivar                                       42717     970   \n",
      "               Boyaca                                        24128     526   \n",
      "               Caldas                                        27853     535   \n",
      "               Capital District                             403145    8880   \n",
      "               Caqueta                                       13880     494   \n",
      "               Casanare                                       7695     158   \n",
      "               Cauca                                         16655     463   \n",
      "               Cesar                                         31025     939   \n",
      "               Choco                                          4614     166   \n",
      "               Cordoba                                       28743    1659   \n",
      "               Cundinamarca                                  56837    1502   \n",
      "               Guainia                                        1217      19   \n",
      "               Guaviare                                       1882      34   \n",
      "               Huila                                         31705    1026   \n",
      "               La Guajira                                    12787     503   \n",
      "               Magdalena                                     21733     995   \n",
      "               Meta                                          30008     667   \n",
      "               Narino                                        27050     885   \n",
      "               Norte de Santander                            32898    1565   \n",
      "               Putumayo                                       5250     232   \n",
      "               Quindio                                       19347     523   \n",
      "               Risaralda                                     26168     629   \n",
      "               San Andres y Providencia                       2345      36   \n",
      "               Santander                                     57940    2130   \n",
      "               Sucre                                         16873     664   \n",
      "               Tolima                                        33583    1024   \n",
      "               Unknown                                           0       0   \n",
      "               Valle del Cauca                              118737    3790   \n",
      "               Vaupes                                         1124      12   \n",
      "               Vichada                                        1065      12   \n",
      "Denmark        Faroe Islands                                   525       0   \n",
      "               Greenland                                        19       0   \n",
      "France         French Guiana                                 11800      71   \n",
      "               French Polynesia                              15618      91   \n",
      "               Guadeloupe                                     8472     151   \n",
      "               Martinique                                     5575      42   \n",
      "               Mayotte                                        5551      52   \n",
      "               New Caledonia                                    36       0   \n",
      "               Reunion                                        8431      41   \n",
      "               Saint Barthelemy                                162       1   \n",
      "               Saint Pierre and Miquelon                        14       0   \n",
      "               St Martin                                       801      12   \n",
      "Germany        Baden-Wurttemberg                            186044    3400   \n",
      "               Bayern                                       256903    4848   \n",
      "               Berlin                                        78250     813   \n",
      "               Brandenburg                                   28302     559   \n",
      "               Bremen                                        11663     154   \n",
      "               Hamburg                                       29139     478   \n",
      "               Hessen                                       107361    1749   \n",
      "               Mecklenburg-Vorpommern                         8071      96   \n",
      "               Niedersachsen                                 84771    1419   \n",
      "               Nordrhein-Westfalen                          314937    4455   \n",
      "               Rheinland-Pfalz                               55536     846   \n",
      "               Saarland                                      16024     336   \n",
      "               Sachsen                                       84245    1652   \n",
      "               Sachsen-Anhalt                                18179     271   \n",
      "               Schleswig-Holstein                            17960     291   \n",
      "               Thuringen                                     25672     533   \n",
      "               Unknown                                       13044       0   \n",
      "India          Andaman and Nicobar Islands                    4805      61   \n",
      "               Andhra Pradesh                               875025    7052   \n",
      "               Arunachal Pradesh                             16509      55   \n",
      "               Assam                                        214584    1000   \n",
      "               Bihar                                        241776    1317   \n",
      "               Chandigarh                                    18572     300   \n",
      "               Chhattisgarh                                 255761    3084   \n",
      "               Dadra and Nagar Haveli and Daman and Diu       3356       2   \n",
      "               Delhi                                        605470    9981   \n",
      "               Goa                                           49305     705   \n",
      "               Gujarat                                      226508    4160   \n",
      "               Haryana                                      251402    2710   \n",
      "               Himachal Pradesh                              48951     803   \n",
      "               Jammu and Kashmir                            115626    1793   \n",
      "               Jharkhand                                    111366     995   \n",
      "               Karnataka                                    900214   11939   \n",
      "               Kerala                                       664632    2594   \n",
      "               Ladakh                                         9138     123   \n",
      "               Lakshadweep                                       0       0   \n",
      "               Madhya Pradesh                               222397    3391   \n",
      "               Maharashtra                                 1876699   48139   \n",
      "               Manipur                                       27036     322   \n",
      "               Meghalaya                                     12743     125   \n",
      "               Mizoram                                        4035       7   \n",
      "               Nagaland                                      11676      68   \n",
      "               Odisha                                       323364    1802   \n",
      "               Puducherry                                    37444     619   \n",
      "               Punjab                                       159579    5057   \n",
      "               Rajasthan                                    289999    2528   \n",
      "               Sikkim                                         5316     118   \n",
      "               Tamil Nadu                                   797693   11883   \n",
      "               Telangana                                    277724    1493   \n",
      "               Tripura                                       33038     376   \n",
      "               Unknown                                           0       0   \n",
      "               Uttar Pradesh                                564132    8056   \n",
      "               Uttarakhand                                   81939    1351   \n",
      "               West Bengal                                  519215    9010   \n",
      "Italy          Abruzzo                                       31740    1029   \n",
      "               Basilicata                                     9375     196   \n",
      "               Calabria                                      19568     384   \n",
      "               Campania                                     172746    2275   \n",
      "               Emilia-Romagna                               142816    6529   \n",
      "               Friuli Venezia Giulia                         39516    1215   \n",
      "               Lazio                                        138337    2911   \n",
      "               Liguria                                       55287    2649   \n",
      "               Lombardia                                    441327   23666   \n",
      "               Marche                                        34317    1390   \n",
      "               Molise                                         5562     160   \n",
      "               P.A. Bolzano                                  26533     634   \n",
      "               P.A. Trento                                   18198     765   \n",
      "               Piemonte                                     184527    7052   \n",
      "               Puglia                                        71797    1911   \n",
      "               Sardegna                                      25645     570   \n",
      "               Sicilia                                       77382    1946   \n",
      "               Toscana                                      111671    3117   \n",
      "               Umbria                                        26045     517   \n",
      "               Valle d'Aosta                                  6837     351   \n",
      "               Veneto                                       186549    4769   \n",
      "Japan          Aichi                                         12538     127   \n",
      "               Akita                                            94       1   \n",
      "               Aomori                                          371       6   \n",
      "               Chiba                                          8082      96   \n",
      "               Ehime                                           358       8   \n",
      "               Fukui                                           331      11   \n",
      "               Fukuoka                                        6547     108   \n",
      "               Fukushima                                       611       9   \n",
      "               Gifu                                           1461      21   \n",
      "               Gunma                                          1612      24   \n",
      "               Hiroshima                                      1541       7   \n",
      "               Hokkaido                                      11160     295   \n",
      "               Hyogo                                          7245     103   \n",
      "               Ibaraki                                        1973      27   \n",
      "               Ishikawa                                        907      51   \n",
      "               Iwate                                           295       8   \n",
      "               Kagawa                                          200       3   \n",
      "               Kagoshima                                       813      15   \n",
      "               Kanagawa                                      14850     219   \n",
      "               Kochi                                           339       4   \n",
      "               Kumamoto                                       1227      14   \n",
      "               Kyoto                                          3208      40   \n",
      "               Mie                                            1041      11   \n",
      "               Miyagi                                         1499      11   \n",
      "               Miyazaki                                        590       4   \n",
      "               Nagano                                          940       6   \n",
      "               Nagasaki                                        308       3   \n",
      "               Nara                                           1444      13   \n",
      "               Niigata                                         390       2   \n",
      "               Oita                                            508       3   \n",
      "               Okayama                                         769      11   \n",
      "               Okinawa                                        4790      78   \n",
      "               Osaka                                         24622     355   \n",
      "               Port Quarantine                                1671       1   \n",
      "               Saga                                            376       3   \n",
      "               Saitama                                       10311     167   \n",
      "               Shiga                                           857      11   \n",
      "               Shimane                                         166       0   \n",
      "               Shizuoka                                       2148      19   \n",
      "               Tochigi                                         860       3   \n",
      "               Tokushima                                       187      10   \n",
      "               Tokyo                                         46794     510   \n",
      "               Tottori                                          67       0   \n",
      "               Toyama                                          474      26   \n",
      "               Unknown                                           8       0   \n",
      "               Wakayama                                        551       7   \n",
      "               Yamagata                                        253       1   \n",
      "               Yamaguchi                                       434       2   \n",
      "               Yamanashi                                       451       8   \n",
      "Mexico         Aguascalientes                                15438    1218   \n",
      "               Baja California                               29616    4751   \n",
      "               Baja California Sur                           15626     709   \n",
      "               Campeche                                       6960     946   \n",
      "               Chiapas                                        7914    1177   \n",
      "               Chihuahua                                     33210    4072   \n",
      "               Ciudad de Mexico                             259553   14611   \n",
      "               Coahuila                                      44875    3728   \n",
      "               Colima                                         7505     771   \n",
      "               Durango                                       23217    1390   \n",
      "               Guanajuato                                    71581    4508   \n",
      "               Guerrero                                      24588    2569   \n",
      "               Hidalgo                                       21129    2969   \n",
      "               Jalisco                                       45499    5218   \n",
      "               Mexico                                       124094   16682   \n",
      "               Michoacan                                     30145    2481   \n",
      "               Morelos                                        8575    1348   \n",
      "               Nayarit                                        7472     998   \n",
      "               Nuevo Leon                                    73077    4805   \n",
      "               Oaxaca                                        25959    2006   \n",
      "               Puebla                                        42447    5337   \n",
      "               Queretaro                                     26536    1626   \n",
      "               Quintana Roo                                  14977    1974   \n",
      "               San Luis Potosi                               37032    2779   \n",
      "               Sinaloa                                       25365    4089   \n",
      "               Sonora                                        47008    3686   \n",
      "               Tabasco                                       39767    3098   \n",
      "               Tamaulipas                                    37183    3108   \n",
      "               Tlaxcala                                       9902    1311   \n",
      "               Unknown                                           0       0   \n",
      "               Veracruz                                      41101    6100   \n",
      "               Yucatan                                       25073    2086   \n",
      "               Zacatecas                                     19012    1553   \n",
      "Netherlands    Aruba                                          5044      46   \n",
      "               Bonaire, Sint Eustatius and Saba                175       3   \n",
      "               Curacao                                        3576      10   \n",
      "               Drenthe                                        8957     117   \n",
      "               Flevoland                                     13515     149   \n",
      "               Friesland                                     10294     145   \n",
      "               Gelderland                                    62098    1125   \n",
      "               Groningen                                     10293      58   \n",
      "               Limburg                                       31194     925   \n",
      "               Noord-Brabant                                 96028    2143   \n",
      "               Noord-Holland                                106914    1388   \n",
      "               Overijssel                                    37243     575   \n",
      "               Sint Maarten                                   1232      26   \n",
      "               Unknown                                        3186      32   \n",
      "               Utrecht                                       51279     748   \n",
      "               Zeeland                                        7435     105   \n",
      "               Zuid-Holland                                 165167    2509   \n",
      "Pakistan       Azad Jammu and Kashmir                         7663     191   \n",
      "               Balochistan                                   17737     175   \n",
      "               Gilgit-Baltistan                               4783      99   \n",
      "               Islamabad                                     34579     368   \n",
      "               Khyber Pakhtunkhwa                            52092    1463   \n",
      "               Punjab                                       127212    3351   \n",
      "               Sindh                                        194359    3149   \n",
      "Peru           Amazonas                                      18180     245   \n",
      "               Ancash                                        29356    1454   \n",
      "               Apurimac                                       6866     145   \n",
      "               Arequipa                                      46982    1554   \n",
      "               Ayacucho                                      14825     362   \n",
      "               Cajamarca                                     24395     582   \n",
      "               Callao                                        41760    1932   \n",
      "               Cusco                                         24462     513   \n",
      "               Huancavelica                                   7756     137   \n",
      "               Huanuco                                       19596     462   \n",
      "               Ica                                           31353    1740   \n",
      "               Junin                                         26309     924   \n",
      "               La Libertad                                   36165    2409   \n",
      "               Lambayeque                                    31816    1880   \n",
      "               Lima                                         436101   16353   \n",
      "               Loreto                                        25328     995   \n",
      "               Madre de Dios                                  9353     151   \n",
      "               Moquegua                                      15590     292   \n",
      "               Pasco                                          6354     127   \n",
      "               Piura                                         41598    2157   \n",
      "               Puno                                          18819     377   \n",
      "               San Martin                                    24713     783   \n",
      "               Tacna                                         14305     256   \n",
      "               Tumbes                                         9272     336   \n",
      "               Ucayali                                       19689     378   \n",
      "               Unknown                                           0       0   \n",
      "Russia         Adygea Republic                                9237      71   \n",
      "               Altai Krai                                    28803     676   \n",
      "               Altai Republic                                12328      52   \n",
      "               Amur Oblast                                   13161      98   \n",
      "               Arkhangelsk Oblast                            35996     377   \n",
      "               Astrakhan Oblast                              15610     300   \n",
      "               Bashkortostan Republic                        16012     100   \n",
      "               Belgorod Oblast                               18342     158   \n",
      "               Bryansk Oblast                                19327     168   \n",
      "               Buryatia Republic                             21806     499   \n",
      "               Chechen Republic                               6039      83   \n",
      "               Chelyabinsk Oblast                            28829     388   \n",
      "               Chukotka Autonomous Okrug                       438       4   \n",
      "               Chuvashia Republic                            14046     363   \n",
      "               Dagestan Republic                             20521    1031   \n",
      "               Ingushetia Republic                           10478     121   \n",
      "               Irkutsk Oblast                                35379     949   \n",
      "               Ivanovo Oblast                                17811     349   \n",
      "               Jewish Autonomous Okrug                        3300      53   \n",
      "               Kabardino-Balkarian Republic                  13898     238   \n",
      "               Kaliningrad Oblast                            13863     132   \n",
      "               Kalmykia Republic                             12813     169   \n",
      "               Kaluga Oblast                                 17839     128   \n",
      "               Kamchatka Krai                                 8606      82   \n",
      "               Karachay-Cherkess Republic                    13370      37   \n",
      "               Karelia Republic                              20496     124   \n",
      "               Kemerovo Oblast                               22866     422   \n",
      "               Khabarovsk Krai                               28610     178   \n",
      "               Khakassia Republic                            14231     171   \n",
      "               Khanty-Mansi Autonomous Okrug                 37015     464   \n",
      "               Kirov Oblast                                  21051     209   \n",
      "               Komi Republic                                 24813     452   \n",
      "               Kostroma Oblast                               12853     202   \n",
      "               Krasnodar Krai                                24191     694   \n",
      "               Krasnoyarsk Krai                              40246    1349   \n",
      "               Kurgan Oblast                                  9974     122   \n",
      "               Kursk Oblast                                  17333     238   \n",
      "               Leningrad Oblast                              19516     172   \n",
      "               Lipetsk Oblast                                12983     163   \n",
      "               Magadan Oblast                                 6227      57   \n",
      "               Mari El Republic                               8191     105   \n",
      "               Mordovia Republic                             11820      73   \n",
      "               Moscow                                       685785    9798   \n",
      "               Moscow Oblast                                126377    2442   \n",
      "               Murmansk Oblast                               30857     545   \n",
      "               Nenets Autonomous Okrug                         714       0   \n",
      "               Nizhny Novgorod Oblast                        60332    1350   \n",
      "               North Ossetia - Alania Republic               10348      81   \n",
      "               Novgorod Oblast                               14333      96   \n",
      "               Novosibirsk Oblast                            24798     826   \n",
      "               Omsk Oblast                                   25488     728   \n",
      "               Orel Oblast                                   17983     223   \n",
      "               Orenburg Oblast                               25346     259   \n",
      "               Penza Oblast                                  22364     271   \n",
      "               Perm Krai                                     24385     824   \n",
      "               Primorsky Krai                                24740     283   \n",
      "               Pskov Oblast                                  15945      82   \n",
      "               Rostov Oblast                                 44297    1626   \n",
      "               Ryazan Oblast                                 15557     109   \n",
      "               Saint Petersburg                             170718    6257   \n",
      "               Sakha (Yakutiya) Republic                     22565     321   \n",
      "               Sakhalin Oblast                               12963      10   \n",
      "               Samara Oblast                                 25633     493   \n",
      "               Saratov Oblast                                30246     306   \n",
      "               Smolensk Oblast                               14076     297   \n",
      "               Stavropol Krai                                30500     621   \n",
      "               Sverdlovsk Oblast                             50971    1195   \n",
      "               Tambov Oblast                                 14799     136   \n",
      "               Tatarstan Republic                            11412     164   \n",
      "               Tomsk Oblast                                  20851     190   \n",
      "               Tula Oblast                                   18902     552   \n",
      "               Tver Oblast                                   17798     413   \n",
      "               Tyumen Oblast                                 20229     161   \n",
      "               Tyva Republic                                 13533     140   \n",
      "               Udmurt Republic                               15628     327   \n",
      "               Ulyanovsk Oblast                              30895     405   \n",
      "               Vladimir Oblast                               15078     376   \n",
      "               Volgograd Oblast                              30216     363   \n",
      "               Vologda Oblast                                16515     281   \n",
      "               Voronezh Oblast                               38857     817   \n",
      "               Yamalo-Nenets Autonomous Okrug                28647     284   \n",
      "               Yaroslavl Oblast                              18685     111   \n",
      "               Zabaykalsky Krai                              22414     339   \n",
      "Spain          Andalusia                                    244828    4524   \n",
      "               Aragon                                        75638    2450   \n",
      "               Asturias                                      25159    1211   \n",
      "               Baleares                                      26888     427   \n",
      "               C. Valenciana                                115386    2548   \n",
      "               Canarias                                      22943     358   \n",
      "               Cantabria                                     16532     340   \n",
      "               Castilla - La Mancha                          90337    3895   \n",
      "               Castilla y Leon                              126229    4812   \n",
      "               Catalonia                                    317636    8330   \n",
      "               Ceuta                                          2907      56   \n",
      "               Extremadura                                   30106     996   \n",
      "               Galicia                                       53732    1287   \n",
      "               La Rioja                                      17184     573   \n",
      "               Madrid                                       361368   11537   \n",
      "               Melilla                                        4242      42   \n",
      "               Murcia                                        56087     658   \n",
      "               Navarra                                       40611     914   \n",
      "               Pais Vasco                                   102762    2666   \n",
      "               Unknown                                           0       0   \n",
      "Sweden         Blekinge                                       2864      26   \n",
      "               Dalarna                                        7656     201   \n",
      "               Gavleborg                                      9926     230   \n",
      "               Gotland                                        1702      19   \n",
      "               Halland                                        8249     118   \n",
      "               Jamtland Harjedalen                            3380      69   \n",
      "               Jonkoping                                     13583     260   \n",
      "               Kalmar                                         4168      93   \n",
      "               Kronoberg                                      6213     159   \n",
      "               Norrbotten                                     6183     117   \n",
      "               Orebro                                        11032     201   \n",
      "               Ostergotland                                  10633     331   \n",
      "               Skane                                         40584     496   \n",
      "               Sormland                                       7030     286   \n",
      "               Stockholm                                     93383    2936   \n",
      "               Uppsala                                       13868     328   \n",
      "               Varmland                                       4362      98   \n",
      "               Vasterbotten                                   5804      60   \n",
      "               Vasternorrland                                 7021     174   \n",
      "               Vastmanland                                   10823     230   \n",
      "               Vastra Gotaland                               51634    1082   \n",
      "US             Alabama                                       40232     558   \n",
      "               Alaska                                        20050      98   \n",
      "               Arizona                                      250319    4324   \n",
      "               Arkansas                                      19611     317   \n",
      "               California                                   512872    8269   \n",
      "               Colorado                                      42288     596   \n",
      "               Connecticut                                   46615    1686   \n",
      "               Delaware                                      25771     402   \n",
      "               Diamond Princess                                 49       0   \n",
      "               District of Columbia                          24643     713   \n",
      "               Florida                                      255462    3965   \n",
      "               Georgia                                       46499     748   \n",
      "               Grand Princess                                  103       3   \n",
      "               Guam                                           7079     115   \n",
      "               Hawaii                                        16335     208   \n",
      "               Idaho                                         31070     285   \n",
      "               Illinois                                     349461    7319   \n",
      "               Indiana                                       57178     958   \n",
      "               Iowa                                          37334     368   \n",
      "               Kansas                                        32709     339   \n",
      "               Kentucky                                      44085     480   \n",
      "               Louisiana                                     26277     653   \n",
      "               Maine                                          4794      79   \n",
      "               Maryland                                      46877    1017   \n",
      "               Massachusetts                                 57947    2522   \n",
      "               Michigan                                      75798    3412   \n",
      "               Minnesota                                     78430    1231   \n",
      "               Mississippi                                   11868     220   \n",
      "               Missouri                                      59470    1152   \n",
      "               Montana                                       12530     144   \n",
      "               Nebraska                                      46634     417   \n",
      "               Nevada                                       139053    1994   \n",
      "               New Hampshire                                 12822     361   \n",
      "               New Jersey                                    40650    2294   \n",
      "               New Mexico                                    33702     418   \n",
      "               New York                                     101449    7555   \n",
      "               North Carolina                                50535     483   \n",
      "               North Dakota                                  18680     158   \n",
      "               Northern Mariana Islands                        113       2   \n",
      "               Ohio                                          68157     828   \n",
      "               Oklahoma                                      48215     367   \n",
      "               Oregon                                        21156     305   \n",
      "               Pennsylvania                                  79646    2127   \n",
      "               Puerto Rico                                    9558    1266   \n",
      "               Recovered                                         0       0   \n",
      "               Rhode Island                                  46213    1114   \n",
      "               South Carolina                                28453     435   \n",
      "               South Dakota                                  22930     229   \n",
      "               Tennessee                                     54465     737   \n",
      "               Texas                                        205928    3142   \n",
      "               Utah                                          93065     466   \n",
      "               Vermont                                        1978      51   \n",
      "               Virgin Islands                                 1791      23   \n",
      "               Virginia                                      36115     641   \n",
      "               Washington                                    53282     912   \n",
      "               West Virginia                                  6886     166   \n",
      "               Wisconsin                                     82328     826   \n",
      "               Wyoming                                        6312      62   \n",
      "Ukraine        Cherkasy Oblast                               30784     261   \n",
      "               Chernihiv Oblast                              23754     209   \n",
      "               Chernivtsi Oblast                             36496     704   \n",
      "               Crimea Republic*                              18589     365   \n",
      "               Dnipropetrovsk Oblast                         48365    1135   \n",
      "               Donetsk Oblast                                29031     594   \n",
      "               Ivano-Frankivsk Oblast                        40484     725   \n",
      "               Kharkiv Oblast                                61985     877   \n",
      "               Kherson Oblast                                13723     305   \n",
      "               Khmelnytskyi Oblast                           34417     516   \n",
      "               Kiev                                          90013    1574   \n",
      "               Kiev Oblast                                   47783     817   \n",
      "               Kirovohrad Oblast                              7059     198   \n",
      "               Luhansk Oblast                                 7705     206   \n",
      "               Lviv Oblast                                   53299    1465   \n",
      "               Mykolaiv Oblast                               23479     381   \n",
      "               Odessa Oblast                                 57071     782   \n",
      "               Poltava Oblast                                28811     603   \n",
      "               Rivne Oblast                                  35900     445   \n",
      "               Sevastopol*                                    5211     165   \n",
      "               Sumy Oblast                                   35327     456   \n",
      "               Ternopil Oblast                               30964     422   \n",
      "               Vinnytsia Oblast                              19680     331   \n",
      "               Volyn Oblast                                  27852     465   \n",
      "               Zakarpattia Oblast                            25883     577   \n",
      "               Zaporizhia Oblast                             41460     381   \n",
      "               Zhytomyr Oblast                               33714     569   \n",
      "United Kingdom Anguilla                                         10       0   \n",
      "               Bermuda                                         391       9   \n",
      "               British Virgin Islands                           76       1   \n",
      "               Cayman Islands                                  298       2   \n",
      "               Channel Islands                                1977      48   \n",
      "               England                                     1567128   55948   \n",
      "               Falkland Islands (Malvinas)                      17       0   \n",
      "               Gibraltar                                      1072       5   \n",
      "               Isle of Man                                     370      25   \n",
      "               Montserrat                                       13       1   \n",
      "               Northern Ireland                              57733    1120   \n",
      "               Scotland                                     105370    4109   \n",
      "               Turks and Caicos Islands                        769       6   \n",
      "               Unknown                                           0       0   \n",
      "               Wales                                        100725    2849   \n",
      "\n",
      "                                                         Recovered  \n",
      "Country_Region Province_State                                       \n",
      "Australia      Australian Capital Territory                    114  \n",
      "               New South Wales                                3191  \n",
      "               Northern Territory                               52  \n",
      "               Queensland                                     1202  \n",
      "               South Australia                                 558  \n",
      "               Tasmania                                        217  \n",
      "               Victoria                                      19525  \n",
      "               Western Australia                               816  \n",
      "Belgium        Antwerp                                           0  \n",
      "               Brussels                                          0  \n",
      "               East Flanders                                     0  \n",
      "               Flemish Brabant                                   0  \n",
      "               Hainaut                                           0  \n",
      "               Liege                                             0  \n",
      "               Limburg                                           0  \n",
      "               Luxembourg                                        0  \n",
      "               Namur                                             0  \n",
      "               Unknown                                           0  \n",
      "               Walloon Brabant                                   0  \n",
      "               West Flanders                                     0  \n",
      "Brazil         Acre                                          32536  \n",
      "               Alagoas                                       93519  \n",
      "               Amapa                                         48386  \n",
      "               Amazonas                                     158846  \n",
      "               Bahia                                        419448  \n",
      "               Ceara                                        257263  \n",
      "               Distrito Federal                             226300  \n",
      "               Espirito Santo                               193721  \n",
      "               Goias                                        281538  \n",
      "               Maranhao                                     187984  \n",
      "               Mato Grosso                                  157600  \n",
      "               Mato Grosso do Sul                            95302  \n",
      "               Minas Gerais                                 416183  \n",
      "               Para                                         260763  \n",
      "               Paraiba                                      119971  \n",
      "               Parana                                       227791  \n",
      "               Pernambuco                                   171535  \n",
      "               Piaui                                        131274  \n",
      "               Rio Grande do Norte                           48821  \n",
      "               Rio Grande do Sul                            341444  \n",
      "               Rio de Janeiro                               353207  \n",
      "               Rondonia                                      74621  \n",
      "               Roraima                                       61934  \n",
      "               Santa Catarina                               388872  \n",
      "               Sao Paulo                                   1166823  \n",
      "               Sergipe                                       86601  \n",
      "               Tocantins                                     76004  \n",
      "Canada         Alberta                                       57613  \n",
      "               British Columbia                              29598  \n",
      "               Diamond Princess                                  0  \n",
      "               Grand Princess                                   13  \n",
      "               Manitoba                                      14637  \n",
      "               New Brunswick                                   475  \n",
      "               Newfoundland and Labrador                       331  \n",
      "               Northwest Territories                            15  \n",
      "               Nova Scotia                                    1283  \n",
      "               Nunavut                                         197  \n",
      "               Ontario                                      123761  \n",
      "               Prince Edward Island                             72  \n",
      "               Quebec                                       138270  \n",
      "               Repatriated Travellers                           13  \n",
      "               Saskatchewan                                   7566  \n",
      "               Yukon                                            54  \n",
      "Chile          Antofagasta                                   21727  \n",
      "               Araucania                                     18300  \n",
      "               Arica y Parinacota                            10057  \n",
      "               Atacama                                        8098  \n",
      "               Aysen                                          1274  \n",
      "               Biobio                                        37445  \n",
      "               Coquimbo                                      13004  \n",
      "               Los Lagos                                     21184  \n",
      "               Los Rios                                       6476  \n",
      "               Magallanes                                    14649  \n",
      "               Maule                                         20891  \n",
      "               Metropolitana                                296146  \n",
      "               Nuble                                          8868  \n",
      "               OHiggins                                      19533  \n",
      "               Tarapaca                                      13750  \n",
      "               Unknown                                          45  \n",
      "               Valparaiso                                    31639  \n",
      "China          Anhui                                           986  \n",
      "               Beijing                                         940  \n",
      "               Chongqing                                       583  \n",
      "               Fujian                                          460  \n",
      "               Gansu                                           180  \n",
      "               Guangdong                                      1972  \n",
      "               Guangxi                                         261  \n",
      "               Guizhou                                         145  \n",
      "               Hainan                                          165  \n",
      "               Hebei                                           367  \n",
      "               Heilongjiang                                    936  \n",
      "               Henan                                          1266  \n",
      "               Hong Kong                                      6114  \n",
      "               Hubei                                         63636  \n",
      "               Hunan                                          1016  \n",
      "               Inner Mongolia                                  313  \n",
      "               Jiangsu                                         675  \n",
      "               Jiangxi                                         934  \n",
      "               Jilin                                           155  \n",
      "               Liaoning                                        287  \n",
      "               Macau                                            46  \n",
      "               Ningxia                                          75  \n",
      "               Qinghai                                          18  \n",
      "               Shaanxi                                         481  \n",
      "               Shandong                                        841  \n",
      "               Shanghai                                       1309  \n",
      "               Shanxi                                          218  \n",
      "               Sichuan                                         792  \n",
      "               Tianjin                                         295  \n",
      "               Tibet                                             1  \n",
      "               Xinjiang                                        977  \n",
      "               Yunnan                                          210  \n",
      "               Zhejiang                                       1290  \n",
      "Colombia       Amazonas                                       3033  \n",
      "               Antioquia                                    213115  \n",
      "               Arauca                                         4042  \n",
      "               Atlantico                                     76967  \n",
      "               Bolivar                                       40277  \n",
      "               Boyaca                                        22111  \n",
      "               Caldas                                        25594  \n",
      "               Capital District                             371802  \n",
      "               Caqueta                                       12664  \n",
      "               Casanare                                       7192  \n",
      "               Cauca                                         15167  \n",
      "               Cesar                                         28544  \n",
      "               Choco                                          4344  \n",
      "               Cordoba                                       26096  \n",
      "               Cundinamarca                                  52770  \n",
      "               Guainia                                        1190  \n",
      "               Guaviare                                       1837  \n",
      "               Huila                                         29909  \n",
      "               La Guajira                                    11842  \n",
      "               Magdalena                                     19909  \n",
      "               Meta                                          28539  \n",
      "               Narino                                        24791  \n",
      "               Norte de Santander                            29546  \n",
      "               Putumayo                                       4726  \n",
      "               Quindio                                       17718  \n",
      "               Risaralda                                     23893  \n",
      "               San Andres y Providencia                       2244  \n",
      "               Santander                                     52404  \n",
      "               Sucre                                         15768  \n",
      "               Tolima                                        31157  \n",
      "               Unknown                                           0  \n",
      "               Valle del Cauca                              109095  \n",
      "               Vaupes                                         1106  \n",
      "               Vichada                                        1033  \n",
      "Denmark        Faroe Islands                                   506  \n",
      "               Greenland                                        18  \n",
      "France         French Guiana                                  9995  \n",
      "               French Polynesia                               4842  \n",
      "               Guadeloupe                                     2242  \n",
      "               Martinique                                       98  \n",
      "               Mayotte                                        2964  \n",
      "               New Caledonia                                    32  \n",
      "               Reunion                                        8037  \n",
      "               Saint Barthelemy                                127  \n",
      "               Saint Pierre and Miquelon                        14  \n",
      "               St Martin                                       675  \n",
      "Germany        Baden-Wurttemberg                            134003  \n",
      "               Bayern                                       191165  \n",
      "               Berlin                                        58198  \n",
      "               Brandenburg                                   19900  \n",
      "               Bremen                                         9713  \n",
      "               Hamburg                                       21592  \n",
      "               Hessen                                        77837  \n",
      "               Mecklenburg-Vorpommern                         5845  \n",
      "               Niedersachsen                                 70244  \n",
      "               Nordrhein-Westfalen                          242720  \n",
      "               Rheinland-Pfalz                               37378  \n",
      "               Saarland                                      12776  \n",
      "               Sachsen                                       52000  \n",
      "               Sachsen-Anhalt                                11728  \n",
      "               Schleswig-Holstein                            13761  \n",
      "               Thuringen                                     17071  \n",
      "               Unknown                                           0  \n",
      "India          Andaman and Nicobar Islands                    4665  \n",
      "               Andhra Pradesh                               862895  \n",
      "               Arunachal Pradesh                             16185  \n",
      "               Assam                                        210057  \n",
      "               Bihar                                        234958  \n",
      "               Chandigarh                                    17457  \n",
      "               Chhattisgarh                                 234037  \n",
      "               Dadra and Nagar Haveli and Daman and Diu       3337  \n",
      "               Delhi                                        578116  \n",
      "               Goa                                           47489  \n",
      "               Gujarat                                      208867  \n",
      "               Haryana                                      238374  \n",
      "               Himachal Pradesh                              40573  \n",
      "               Jammu and Kashmir                            109002  \n",
      "               Jharkhand                                    108761  \n",
      "               Karnataka                                    870002  \n",
      "               Kerala                                       601861  \n",
      "               Ladakh                                         8252  \n",
      "               Lakshadweep                                       0  \n",
      "               Madhya Pradesh                               206059  \n",
      "               Maharashtra                                 1753922  \n",
      "               Manipur                                       23657  \n",
      "               Meghalaya                                     11977  \n",
      "               Mizoram                                        3836  \n",
      "               Nagaland                                      10998  \n",
      "               Odisha                                       318683  \n",
      "               Puducherry                                    36479  \n",
      "               Punjab                                       147431  \n",
      "               Rajasthan                                    270650  \n",
      "               Sikkim                                         4834  \n",
      "               Tamil Nadu                                   775602  \n",
      "               Telangana                                    268601  \n",
      "               Tripura                                       32310  \n",
      "               Unknown                                           0  \n",
      "               Uttar Pradesh                                535985  \n",
      "               Uttarakhand                                   74381  \n",
      "               West Bengal                                  487171  \n",
      "Italy          Abruzzo                                       15567  \n",
      "               Basilicata                                     2917  \n",
      "               Calabria                                       9835  \n",
      "               Campania                                      76382  \n",
      "               Emilia-Romagna                                72315  \n",
      "               Friuli Venezia Giulia                         23946  \n",
      "               Lazio                                         48108  \n",
      "               Liguria                                       44169  \n",
      "               Lombardia                                    332595  \n",
      "               Marche                                        20324  \n",
      "               Molise                                         2858  \n",
      "               P.A. Bolzano                                  15277  \n",
      "               P.A. Trento                                   14997  \n",
      "               Piemonte                                     119614  \n",
      "               Puglia                                        18650  \n",
      "               Sardegna                                      10085  \n",
      "               Sicilia                                       39675  \n",
      "               Toscana                                       89462  \n",
      "               Umbria                                        20644  \n",
      "               Valle d'Aosta                                  5823  \n",
      "               Veneto                                        93648  \n",
      "Japan          Aichi                                          9922  \n",
      "               Akita                                            89  \n",
      "               Aomori                                          293  \n",
      "               Chiba                                          6988  \n",
      "               Ehime                                           281  \n",
      "               Fukui                                           305  \n",
      "               Fukuoka                                        5748  \n",
      "               Fukushima                                       493  \n",
      "               Gifu                                           1105  \n",
      "               Gunma                                          1242  \n",
      "               Hiroshima                                       878  \n",
      "               Hokkaido                                       8239  \n",
      "               Hyogo                                          6072  \n",
      "               Ibaraki                                        1580  \n",
      "               Ishikawa                                        807  \n",
      "               Iwate                                           173  \n",
      "               Kagawa                                          141  \n",
      "               Kagoshima                                       621  \n",
      "               Kanagawa                                      12843  \n",
      "               Kochi                                           180  \n",
      "               Kumamoto                                       1020  \n",
      "               Kyoto                                          2644  \n",
      "               Mie                                             834  \n",
      "               Miyagi                                         1197  \n",
      "               Miyazaki                                        497  \n",
      "               Nagano                                          743  \n",
      "               Nagasaki                                        265  \n",
      "               Nara                                           1183  \n",
      "               Niigata                                         306  \n",
      "               Oita                                            319  \n",
      "               Okayama                                         562  \n",
      "               Okinawa                                        4284  \n",
      "               Osaka                                         19524  \n",
      "               Port Quarantine                                1522  \n",
      "               Saga                                            315  \n",
      "               Saitama                                        8208  \n",
      "               Shiga                                           776  \n",
      "               Shimane                                         154  \n",
      "               Shizuoka                                       1428  \n",
      "               Tochigi                                         627  \n",
      "               Tokushima                                       173  \n",
      "               Tokyo                                         40970  \n",
      "               Tottori                                          57  \n",
      "               Toyama                                          430  \n",
      "               Unknown                                           8  \n",
      "               Wakayama                                        457  \n",
      "               Yamagata                                        145  \n",
      "               Yamaguchi                                       372  \n",
      "               Yamanashi                                       348  \n",
      "Mexico         Aguascalientes                                    0  \n",
      "               Baja California                                   0  \n",
      "               Baja California Sur                               0  \n",
      "               Campeche                                          0  \n",
      "               Chiapas                                           0  \n",
      "               Chihuahua                                         0  \n",
      "               Ciudad de Mexico                                  0  \n",
      "               Coahuila                                          0  \n",
      "               Colima                                            0  \n",
      "               Durango                                           0  \n",
      "               Guanajuato                                        0  \n",
      "               Guerrero                                          0  \n",
      "               Hidalgo                                           0  \n",
      "               Jalisco                                           0  \n",
      "               Mexico                                            0  \n",
      "               Michoacan                                         0  \n",
      "               Morelos                                           0  \n",
      "               Nayarit                                           0  \n",
      "               Nuevo Leon                                        0  \n",
      "               Oaxaca                                            0  \n",
      "               Puebla                                            0  \n",
      "               Queretaro                                         0  \n",
      "               Quintana Roo                                      0  \n",
      "               San Luis Potosi                                   0  \n",
      "               Sinaloa                                           0  \n",
      "               Sonora                                            0  \n",
      "               Tabasco                                           0  \n",
      "               Tamaulipas                                        0  \n",
      "               Tlaxcala                                          0  \n",
      "               Unknown                                      911965  \n",
      "               Veracruz                                          0  \n",
      "               Yucatan                                           0  \n",
      "               Zacatecas                                         0  \n",
      "Netherlands    Aruba                                          4890  \n",
      "               Bonaire, Sint Eustatius and Saba                165  \n",
      "               Curacao                                        1708  \n",
      "               Drenthe                                           0  \n",
      "               Flevoland                                         0  \n",
      "               Friesland                                         0  \n",
      "               Gelderland                                        0  \n",
      "               Groningen                                         0  \n",
      "               Limburg                                           0  \n",
      "               Noord-Brabant                                     0  \n",
      "               Noord-Holland                                     0  \n",
      "               Overijssel                                        0  \n",
      "               Sint Maarten                                   1075  \n",
      "               Unknown                                           0  \n",
      "               Utrecht                                           0  \n",
      "               Zeeland                                           0  \n",
      "               Zuid-Holland                                      0  \n",
      "Pakistan       Azad Jammu and Kashmir                         6156  \n",
      "               Balochistan                                   16997  \n",
      "               Gilgit-Baltistan                               4559  \n",
      "               Islamabad                                     28020  \n",
      "               Khyber Pakhtunkhwa                            45866  \n",
      "               Punjab                                       114910  \n",
      "               Sindh                                        166492  \n",
      "Peru           Amazonas                                          0  \n",
      "               Ancash                                            0  \n",
      "               Apurimac                                          0  \n",
      "               Arequipa                                          0  \n",
      "               Ayacucho                                          0  \n",
      "               Cajamarca                                         0  \n",
      "               Callao                                            0  \n",
      "               Cusco                                             0  \n",
      "               Huancavelica                                      0  \n",
      "               Huanuco                                           0  \n",
      "               Ica                                               0  \n",
      "               Junin                                             0  \n",
      "               La Libertad                                       0  \n",
      "               Lambayeque                                        0  \n",
      "               Lima                                              0  \n",
      "               Loreto                                            0  \n",
      "               Madre de Dios                                     0  \n",
      "               Moquegua                                          0  \n",
      "               Pasco                                             0  \n",
      "               Piura                                             0  \n",
      "               Puno                                              0  \n",
      "               San Martin                                        0  \n",
      "               Tacna                                             0  \n",
      "               Tumbes                                            0  \n",
      "               Ucayali                                           0  \n",
      "               Unknown                                      916335  \n",
      "Russia         Adygea Republic                                7342  \n",
      "               Altai Krai                                    26685  \n",
      "               Altai Republic                                11871  \n",
      "               Amur Oblast                                   11737  \n",
      "               Arkhangelsk Oblast                            26661  \n",
      "               Astrakhan Oblast                              11003  \n",
      "               Bashkortostan Republic                        13018  \n",
      "               Belgorod Oblast                               16463  \n",
      "               Bryansk Oblast                                17025  \n",
      "               Buryatia Republic                             19906  \n",
      "               Chechen Republic                               2956  \n",
      "               Chelyabinsk Oblast                            22682  \n",
      "               Chukotka Autonomous Okrug                       394  \n",
      "               Chuvashia Republic                            12632  \n",
      "               Dagestan Republic                             17980  \n",
      "               Ingushetia Republic                            8975  \n",
      "               Irkutsk Oblast                                31174  \n",
      "               Ivanovo Oblast                                13079  \n",
      "               Jewish Autonomous Okrug                        2212  \n",
      "               Kabardino-Balkarian Republic                  11546  \n",
      "               Kaliningrad Oblast                            10581  \n",
      "               Kalmykia Republic                             10471  \n",
      "               Kaluga Oblast                                 16750  \n",
      "               Kamchatka Krai                                 7581  \n",
      "               Karachay-Cherkess Republic                    11861  \n",
      "               Karelia Republic                              13063  \n",
      "               Kemerovo Oblast                               19548  \n",
      "               Khabarovsk Krai                               22754  \n",
      "               Khakassia Republic                            10931  \n",
      "               Khanty-Mansi Autonomous Okrug                 32720  \n",
      "               Kirov Oblast                                  14406  \n",
      "               Komi Republic                                 21252  \n",
      "               Kostroma Oblast                                9632  \n",
      "               Krasnodar Krai                                16359  \n",
      "               Krasnoyarsk Krai                              32945  \n",
      "               Kurgan Oblast                                  8753  \n",
      "               Kursk Oblast                                  15604  \n",
      "               Leningrad Oblast                              16590  \n",
      "               Lipetsk Oblast                                10175  \n",
      "               Magadan Oblast                                 5688  \n",
      "               Mari El Republic                               7310  \n",
      "               Mordovia Republic                              9617  \n",
      "               Moscow                                       524779  \n",
      "               Moscow Oblast                                 89299  \n",
      "               Murmansk Oblast                               28115  \n",
      "               Nenets Autonomous Okrug                         674  \n",
      "               Nizhny Novgorod Oblast                        53813  \n",
      "               North Ossetia - Alania Republic                8954  \n",
      "               Novgorod Oblast                               10375  \n",
      "               Novosibirsk Oblast                            20521  \n",
      "               Omsk Oblast                                   23135  \n",
      "               Orel Oblast                                   15938  \n",
      "               Orenburg Oblast                               22026  \n",
      "               Penza Oblast                                  18689  \n",
      "               Perm Krai                                     18542  \n",
      "               Primorsky Krai                                17445  \n",
      "               Pskov Oblast                                   8173  \n",
      "               Rostov Oblast                                 35701  \n",
      "               Ryazan Oblast                                 14143  \n",
      "               Saint Petersburg                              96557  \n",
      "               Sakha (Yakutiya) Republic                     20123  \n",
      "               Sakhalin Oblast                                9870  \n",
      "               Samara Oblast                                 23470  \n",
      "               Saratov Oblast                                25622  \n",
      "               Smolensk Oblast                               10275  \n",
      "               Stavropol Krai                                27113  \n",
      "               Sverdlovsk Oblast                             43237  \n",
      "               Tambov Oblast                                 13165  \n",
      "               Tatarstan Republic                            10007  \n",
      "               Tomsk Oblast                                  16109  \n",
      "               Tula Oblast                                   16596  \n",
      "               Tver Oblast                                   12701  \n",
      "               Tyumen Oblast                                 18955  \n",
      "               Tyva Republic                                 12403  \n",
      "               Udmurt Republic                               12383  \n",
      "               Ulyanovsk Oblast                              27691  \n",
      "               Vladimir Oblast                               13428  \n",
      "               Volgograd Oblast                              28886  \n",
      "               Vologda Oblast                                12057  \n",
      "               Voronezh Oblast                               37235  \n",
      "               Yamalo-Nenets Autonomous Okrug                20517  \n",
      "               Yaroslavl Oblast                              17751  \n",
      "               Zabaykalsky Krai                              20305  \n",
      "Spain          Andalusia                                     10671  \n",
      "               Aragon                                         3772  \n",
      "               Asturias                                       1063  \n",
      "               Baleares                                       1533  \n",
      "               C. Valenciana                                  9970  \n",
      "               Canarias                                       1537  \n",
      "               Cantabria                                      2287  \n",
      "               Castilla - La Mancha                           6392  \n",
      "               Castilla y Leon                                8716  \n",
      "               Catalonia                                     26203  \n",
      "               Ceuta                                           163  \n",
      "               Extremadura                                    2652  \n",
      "               Galicia                                        9204  \n",
      "               La Rioja                                       3107  \n",
      "               Madrid                                        40736  \n",
      "               Melilla                                         125  \n",
      "               Murcia                                         2180  \n",
      "               Navarra                                        3905  \n",
      "               Pais Vasco                                    16160  \n",
      "               Unknown                                           0  \n",
      "Sweden         Blekinge                                          0  \n",
      "               Dalarna                                           0  \n",
      "               Gavleborg                                         0  \n",
      "               Gotland                                           0  \n",
      "               Halland                                           0  \n",
      "               Jamtland Harjedalen                               0  \n",
      "               Jonkoping                                         0  \n",
      "               Kalmar                                            0  \n",
      "               Kronoberg                                         0  \n",
      "               Norrbotten                                        0  \n",
      "               Orebro                                            0  \n",
      "               Ostergotland                                      0  \n",
      "               Skane                                             0  \n",
      "               Sormland                                          0  \n",
      "               Stockholm                                         0  \n",
      "               Uppsala                                           0  \n",
      "               Varmland                                          0  \n",
      "               Vasterbotten                                      0  \n",
      "               Vasternorrland                                    0  \n",
      "               Vastmanland                                       0  \n",
      "               Vastra Gotaland                                   0  \n",
      "US             Alabama                                           0  \n",
      "               Alaska                                            0  \n",
      "               Arizona                                           0  \n",
      "               Arkansas                                          0  \n",
      "               California                                        0  \n",
      "               Colorado                                          0  \n",
      "               Connecticut                                       0  \n",
      "               Delaware                                          0  \n",
      "               Diamond Princess                                  0  \n",
      "               District of Columbia                              0  \n",
      "               Florida                                           0  \n",
      "               Georgia                                           0  \n",
      "               Grand Princess                                    0  \n",
      "               Guam                                              0  \n",
      "               Hawaii                                            0  \n",
      "               Idaho                                             0  \n",
      "               Illinois                                          0  \n",
      "               Indiana                                           0  \n",
      "               Iowa                                              0  \n",
      "               Kansas                                            0  \n",
      "               Kentucky                                          0  \n",
      "               Louisiana                                         0  \n",
      "               Maine                                             0  \n",
      "               Maryland                                          0  \n",
      "               Massachusetts                                     0  \n",
      "               Michigan                                          0  \n",
      "               Minnesota                                         0  \n",
      "               Mississippi                                       0  \n",
      "               Missouri                                          0  \n",
      "               Montana                                           0  \n",
      "               Nebraska                                          0  \n",
      "               Nevada                                            0  \n",
      "               New Hampshire                                     0  \n",
      "               New Jersey                                        0  \n",
      "               New Mexico                                        0  \n",
      "               New York                                          0  \n",
      "               North Carolina                                    0  \n",
      "               North Dakota                                      0  \n",
      "               Northern Mariana Islands                          0  \n",
      "               Ohio                                              0  \n",
      "               Oklahoma                                          0  \n",
      "               Oregon                                            0  \n",
      "               Pennsylvania                                      0  \n",
      "               Puerto Rico                                       0  \n",
      "               Recovered                                   6246605  \n",
      "               Rhode Island                                      0  \n",
      "               South Carolina                                    0  \n",
      "               South Dakota                                      0  \n",
      "               Tennessee                                         0  \n",
      "               Texas                                             0  \n",
      "               Utah                                              0  \n",
      "               Vermont                                           0  \n",
      "               Virgin Islands                                    0  \n",
      "               Virginia                                          0  \n",
      "               Washington                                        0  \n",
      "               West Virginia                                     0  \n",
      "               Wisconsin                                         0  \n",
      "               Wyoming                                           0  \n",
      "Ukraine        Cherkasy Oblast                               13379  \n",
      "               Chernihiv Oblast                               8762  \n",
      "               Chernivtsi Oblast                             20516  \n",
      "               Crimea Republic*                              14407  \n",
      "               Dnipropetrovsk Oblast                         33715  \n",
      "               Donetsk Oblast                                18993  \n",
      "               Ivano-Frankivsk Oblast                        16459  \n",
      "               Kharkiv Oblast                                45584  \n",
      "               Kherson Oblast                                 6115  \n",
      "               Khmelnytskyi Oblast                           24666  \n",
      "               Kiev                                          28628  \n",
      "               Kiev Oblast                                   19626  \n",
      "               Kirovohrad Oblast                              2846  \n",
      "               Luhansk Oblast                                 5666  \n",
      "               Lviv Oblast                                   36871  \n",
      "               Mykolaiv Oblast                               10683  \n",
      "               Odessa Oblast                                 18981  \n",
      "               Poltava Oblast                                18761  \n",
      "               Rivne Oblast                                  29880  \n",
      "               Sevastopol*                                    4841  \n",
      "               Sumy Oblast                                   22937  \n",
      "               Ternopil Oblast                               25511  \n",
      "               Vinnytsia Oblast                              11565  \n",
      "               Volyn Oblast                                  20716  \n",
      "               Zakarpattia Oblast                            18518  \n",
      "               Zaporizhia Oblast                              9836  \n",
      "               Zhytomyr Oblast                               24787  \n",
      "United Kingdom Anguilla                                          3  \n",
      "               Bermuda                                         233  \n",
      "               British Virgin Islands                           72  \n",
      "               Cayman Islands                                  267  \n",
      "               Channel Islands                                1088  \n",
      "               England                                           0  \n",
      "               Falkland Islands (Malvinas)                      17  \n",
      "               Gibraltar                                      1028  \n",
      "               Isle of Man                                     344  \n",
      "               Montserrat                                       12  \n",
      "               Northern Ireland                                  0  \n",
      "               Scotland                                          0  \n",
      "               Turks and Caicos Islands                        741  \n",
      "               Unknown                                           0  \n",
      "               Wales                                             0  \n"
     ]
    },
    {
     "name": "stderr",
     "output_type": "stream",
     "text": [
      "<ipython-input-14-e373c63155f6>:1: FutureWarning: Indexing with multiple keys (implicitly converted to a tuple of keys) will be deprecated, use a list instead.\n",
      "  data = df.groupby(['Country_Region', 'Province_State'])['Confirmed', 'Deaths', 'Recovered'].max()\n"
     ]
    }
   ],
   "source": [
    "data = df.groupby(['Country_Region', 'Province_State'])['Confirmed', 'Deaths', 'Recovered'].max()\n",
    "pd.set_option('display.max_rows', None)\n",
    "print(data)"
   ]
  },
  {
   "cell_type": "markdown",
   "metadata": {},
   "source": [
    "# Task 4"
   ]
  },
  {
   "cell_type": "markdown",
   "metadata": {},
   "source": [
    "Write a Python program to get the Chinese province wise cases of confirmed, deaths and recovered cases of Novel Coronavirus (COVID-19)."
   ]
  },
  {
   "cell_type": "code",
   "execution_count": 19,
   "metadata": {},
   "outputs": [
    {
     "name": "stdout",
     "output_type": "stream",
     "text": [
      "    Province_State  Confirmed  Deaths  Recovered\n",
      "0            Hubei      68149    4512      63636\n",
      "1        Hong Kong       7446     115       6114\n",
      "2        Guangdong       2016       8       1972\n",
      "3         Shanghai       1405       7       1309\n",
      "4         Zhejiang       1296       1       1290\n",
      "5            Henan       1295      22       1266\n",
      "6            Hunan       1020       4       1016\n",
      "7            Anhui        992       6        986\n",
      "8         Xinjiang        980       3        977\n",
      "9     Heilongjiang        956      13        936\n",
      "10         Beijing        954       9        940\n",
      "11         Jiangxi        935       1        934\n",
      "12        Shandong        858       7        841\n",
      "13         Sichuan        829       3        792\n",
      "14         Jiangsu        684       0        675\n",
      "15       Chongqing        590       6        583\n",
      "16          Fujian        502       1        460\n",
      "17         Shaanxi        502       3        481\n",
      "18           Hebei        373       6        367\n",
      "19  Inner Mongolia        337       1        313\n",
      "20         Tianjin        302       3        295\n",
      "21        Liaoning        289       2        287\n",
      "22         Guangxi        264       2        261\n",
      "23          Yunnan        224       2        210\n",
      "24          Shanxi        222       0        218\n",
      "25           Gansu        182       2        180\n",
      "26          Hainan        171       6        165\n",
      "27           Jilin        157       2        155\n",
      "28         Guizhou        147       2        145\n",
      "29         Ningxia         75       0         75\n",
      "30           Macau         46       0         46\n",
      "31         Qinghai         18       0         18\n",
      "32           Tibet          1       0          1\n"
     ]
    }
   ],
   "source": [
    "c_data = df[df['Country_Region']=='China']\n",
    "c_data = c_data[['Province_State', 'Confirmed', 'Deaths', 'Recovered']]\n",
    "rs1 = c_data.sort_values(by='Confirmed', ascending=False)\n",
    "rs1 = rs1.reset_index(drop=True)\n",
    "print(rs1)"
   ]
  },
  {
   "cell_type": "markdown",
   "metadata": {},
   "source": [
    "# Task 5"
   ]
  },
  {
   "cell_type": "markdown",
   "metadata": {},
   "source": [
    "Write a Python program to get the latest country wise deaths cases of Novel Coronavirus (COVID-19)"
   ]
  },
  {
   "cell_type": "code",
   "execution_count": 20,
   "metadata": {},
   "outputs": [
    {
     "name": "stdout",
     "output_type": "stream",
     "text": [
      "               Country_Region  Deaths\n",
      "0                 Afghanistan    1956\n",
      "1                     Albania     989\n",
      "2                     Algeria    2584\n",
      "3                     Andorra      78\n",
      "4                      Angola     366\n",
      "5         Antigua and Barbuda       4\n",
      "6                   Argentina   40668\n",
      "7                     Armenia    2462\n",
      "8                   Australia     908\n",
      "9                     Austria    4415\n",
      "10                 Azerbaijan    1883\n",
      "11                    Bahamas     163\n",
      "12                    Bahrain     348\n",
      "13                 Bangladesh    7020\n",
      "14                   Barbados       7\n",
      "15                    Belarus    1254\n",
      "16                    Belgium   17792\n",
      "17                     Belize     192\n",
      "18                      Benin      44\n",
      "20                    Bolivia    9014\n",
      "21     Bosnia and Herzegovina    3298\n",
      "22                   Botswana      37\n",
      "23                     Brazil  181123\n",
      "24                     Brunei       3\n",
      "25                   Bulgaria    5626\n",
      "26               Burkina Faso      71\n",
      "27                      Burma    2245\n",
      "28                    Burundi       1\n",
      "29                 Cabo Verde     110\n",
      "31                   Cameroon     443\n",
      "32                     Canada   13367\n",
      "33   Central African Republic      63\n",
      "34                       Chad     102\n",
      "35                      Chile   15846\n",
      "36                      China    4749\n",
      "37                   Colombia   38866\n",
      "38                    Comoros       7\n",
      "39        Congo (Brazzaville)      99\n",
      "40           Congo (Kinshasa)     352\n",
      "41                 Costa Rica    1895\n",
      "42              Cote d'Ivoire     133\n",
      "43                    Croatia    2562\n",
      "44                       Cuba     137\n",
      "45                     Cyprus      75\n",
      "46                    Czechia    9450\n",
      "47                    Denmark     935\n",
      "48           Diamond Princess      13\n",
      "49                   Djibouti      61\n",
      "51         Dominican Republic    2360\n",
      "52                    Ecuador   13874\n",
      "53                      Egypt    6898\n",
      "54                El Salvador    1193\n",
      "55          Equatorial Guinea      85\n",
      "57                    Estonia     148\n",
      "58                   Eswatini     127\n",
      "59                   Ethiopia    1803\n",
      "60                       Fiji       2\n",
      "61                    Finland     453\n",
      "62                     France   57671\n",
      "63                      Gabon      63\n",
      "64                     Gambia     123\n",
      "65                    Georgia    1744\n",
      "66                    Germany   21900\n",
      "67                      Ghana     327\n",
      "68                     Greece    3540\n",
      "70                  Guatemala    4405\n",
      "71                     Guinea      79\n",
      "72              Guinea-Bissau      44\n",
      "73                     Guyana     154\n",
      "74                      Haiti     233\n",
      "76                   Honduras    2974\n",
      "77                    Hungary    6784\n",
      "78                    Iceland      28\n",
      "79                      India  143019\n",
      "80                  Indonesia   18653\n",
      "81                       Iran   51949\n",
      "82                       Iraq   12565\n",
      "83                    Ireland    2123\n",
      "84                     Israel    2983\n",
      "85                      Italy   64036\n",
      "86                    Jamaica     271\n",
      "87                      Japan    2462\n",
      "88                     Jordan    3335\n",
      "89                 Kazakhstan    2552\n",
      "90                      Kenya    1586\n",
      "91               Korea, South     580\n",
      "92                     Kosovo    1186\n",
      "93                     Kuwait     911\n",
      "94                 Kyrgyzstan    1307\n",
      "96                     Latvia     324\n",
      "97                    Lebanon    1190\n",
      "98                    Lesotho      44\n",
      "99                    Liberia      83\n",
      "100                     Libya    1278\n",
      "101             Liechtenstein      20\n",
      "102                 Lithuania     791\n",
      "103                Luxembourg     392\n",
      "104                MS Zaandam       2\n",
      "105                Madagascar     259\n",
      "106                    Malawi     186\n",
      "107                  Malaysia     411\n",
      "108                  Maldives      48\n",
      "109                      Mali     189\n",
      "110                     Malta     166\n",
      "112                Mauritania     222\n",
      "113                 Mauritius      10\n",
      "114                    Mexico  113704\n",
      "115                   Moldova    2547\n",
      "116                    Monaco       3\n",
      "118                Montenegro     578\n",
      "119                   Morocco    6589\n",
      "120                Mozambique     140\n",
      "121                   Namibia     160\n",
      "122                     Nepal    1689\n",
      "123               Netherlands   10104\n",
      "124               New Zealand      25\n",
      "125                 Nicaragua     162\n",
      "126                     Niger      80\n",
      "127                   Nigeria    1194\n",
      "128           North Macedonia    2096\n",
      "129                    Norway     387\n",
      "130                      Oman    1463\n",
      "131                  Pakistan    8796\n",
      "132                    Panama    3331\n",
      "133          Papua New Guinea       8\n",
      "134                  Paraguay    1937\n",
      "135                      Peru   36544\n",
      "136               Philippines    8730\n",
      "137                    Poland   22676\n",
      "138                  Portugal    5461\n",
      "139                     Qatar     240\n",
      "140                   Romania   13264\n",
      "141                    Russia   45923\n",
      "142                    Rwanda      56\n",
      "144               Saint Lucia       4\n",
      "147                San Marino      51\n",
      "148     Sao Tome and Principe      17\n",
      "149              Saudi Arabia    6036\n",
      "150                   Senegal     349\n",
      "151                    Serbia    2275\n",
      "153              Sierra Leone      75\n",
      "154                 Singapore      29\n",
      "155                  Slovakia    1148\n",
      "156                  Slovenia    2041\n",
      "158                   Somalia     121\n",
      "159              South Africa   23106\n",
      "160               South Sudan      62\n",
      "161                     Spain   47624\n",
      "162                 Sri Lanka     149\n",
      "163                     Sudan    1344\n",
      "164                  Suriname     117\n",
      "165                    Sweden    7514\n",
      "166               Switzerland    5976\n",
      "167                     Syria     506\n",
      "168                   Taiwan*       7\n",
      "169                Tajikistan      89\n",
      "170                  Tanzania      21\n",
      "171                  Thailand      60\n",
      "173                      Togo      66\n",
      "174       Trinidad and Tobago     122\n",
      "175                   Tunisia    3836\n",
      "176                    Turkey   16199\n",
      "177                        US  297818\n",
      "178                    Uganda     220\n",
      "179                   Ukraine   15528\n",
      "180      United Arab Emirates     609\n",
      "181            United Kingdom   64123\n",
      "182                   Uruguay      91\n",
      "183                Uzbekistan     612\n",
      "185                 Venezuela     949\n",
      "186                   Vietnam      35\n",
      "187        West Bank and Gaza     961\n",
      "188                     Yemen     606\n",
      "189                    Zambia     366\n",
      "190                  Zimbabwe     307\n"
     ]
    },
    {
     "name": "stderr",
     "output_type": "stream",
     "text": [
      "<ipython-input-20-ab2e5e2d5dc9>:1: FutureWarning: Indexing with multiple keys (implicitly converted to a tuple of keys) will be deprecated, use a list instead.\n",
      "  data = df.groupby('Country_Region')['Confirmed', 'Deaths', 'Recovered'].sum().reset_index()\n"
     ]
    }
   ],
   "source": [
    "data = df.groupby('Country_Region')['Confirmed', 'Deaths', 'Recovered'].sum().reset_index()\n",
    "rs2 = data[data['Deaths']>0][['Country_Region', 'Deaths']]\n",
    "print(rs2)"
   ]
  },
  {
   "cell_type": "markdown",
   "metadata": {},
   "source": [
    "# Task 6"
   ]
  },
  {
   "cell_type": "markdown",
   "metadata": {},
   "source": [
    "Write a Python program to list countries with no cases of Novel Coronavirus (COVID-19) recovered"
   ]
  },
  {
   "cell_type": "code",
   "execution_count": 21,
   "metadata": {},
   "outputs": [
    {
     "name": "stdout",
     "output_type": "stream",
     "text": [
      "    Country_Region  Confirmed  Deaths  Recovered\n",
      "16         Belgium     603159   17792          0\n",
      "151         Serbia     261437    2275          0\n",
      "165         Sweden     320098    7514          0\n"
     ]
    },
    {
     "name": "stderr",
     "output_type": "stream",
     "text": [
      "<ipython-input-21-a30f6399d1ac>:1: FutureWarning: Indexing with multiple keys (implicitly converted to a tuple of keys) will be deprecated, use a list instead.\n",
      "  data2 = df.groupby('Country_Region')['Confirmed', 'Deaths', 'Recovered'].sum().reset_index()\n"
     ]
    }
   ],
   "source": [
    "data2 = df.groupby('Country_Region')['Confirmed', 'Deaths', 'Recovered'].sum().reset_index()\n",
    "rs3 = data[data['Recovered']==0][['Country_Region', 'Confirmed', 'Deaths', 'Recovered']]\n",
    "print(rs3)"
   ]
  },
  {
   "cell_type": "markdown",
   "metadata": {},
   "source": [
    "# Task 7"
   ]
  },
  {
   "cell_type": "markdown",
   "metadata": {},
   "source": [
    "Write a Python program to list countries with all cases of Novel Coronavirus (COVID-19) died"
   ]
  },
  {
   "cell_type": "code",
   "execution_count": 24,
   "metadata": {},
   "outputs": [
    {
     "name": "stdout",
     "output_type": "stream",
     "text": [
      "Empty DataFrame\n",
      "Columns: [Country_Region, Confirmed, Deaths]\n",
      "Index: []\n"
     ]
    },
    {
     "name": "stderr",
     "output_type": "stream",
     "text": [
      "<ipython-input-24-420a6d6ff369>:1: FutureWarning: Indexing with multiple keys (implicitly converted to a tuple of keys) will be deprecated, use a list instead.\n",
      "  data3 = df.groupby('Country_Region')['Confirmed', 'Deaths', 'Recovered'].sum().reset_index()\n",
      "<ipython-input-24-420a6d6ff369>:5: UserWarning: Boolean Series key will be reindexed to match DataFrame index.\n",
      "  result5 = result5[result['Confirmed']>0]\n"
     ]
    }
   ],
   "source": [
    "data3 = df.groupby('Country_Region')['Confirmed', 'Deaths', 'Recovered'].sum().reset_index()\n",
    "rs4 = data3[data['Confirmed']==data['Deaths']]\n",
    "rs4 = rs4[['Country_Region', 'Confirmed', 'Deaths']]\n",
    "rs4 = rs4.sort_values('Confirmed', ascending=False)\n",
    "rs4 = rs4[result['Confirmed']>0]\n",
    "rs4 = rs4.reset_index(drop=True)\n",
    "print(rs4)"
   ]
  },
  {
   "cell_type": "markdown",
   "metadata": {},
   "source": [
    "# Task 8"
   ]
  },
  {
   "cell_type": "markdown",
   "metadata": {},
   "source": [
    "Write a Python program to list countries with all cases of Novel Coronavirus (COVID-19) recovered"
   ]
  },
  {
   "cell_type": "code",
   "execution_count": 26,
   "metadata": {},
   "outputs": [
    {
     "name": "stdout",
     "output_type": "stream",
     "text": [
      "     Country_Region  Confirmed  Recovered\n",
      "0  Marshall Islands          4          4\n",
      "1             Samoa          2          2\n",
      "2           Vanuatu          1          1\n"
     ]
    },
    {
     "name": "stderr",
     "output_type": "stream",
     "text": [
      "<ipython-input-26-0358076f383f>:1: FutureWarning: Indexing with multiple keys (implicitly converted to a tuple of keys) will be deprecated, use a list instead.\n",
      "  data4 = df.groupby('Country_Region')['Confirmed', 'Deaths', 'Recovered'].sum().reset_index()\n"
     ]
    }
   ],
   "source": [
    "data4 = df.groupby('Country_Region')['Confirmed', 'Deaths', 'Recovered'].sum().reset_index()\n",
    "rs5 = data4[data['Confirmed']==data['Recovered']]\n",
    "rs5 = rs5[['Country_Region', 'Confirmed', 'Recovered']]\n",
    "rs5 = rs5.sort_values('Confirmed', ascending=False)\n",
    "rs5 = rs5[rs5['Confirmed']>0]\n",
    "rs5 = rs5.reset_index(drop=True)\n",
    "print(rs5)"
   ]
  },
  {
   "cell_type": "markdown",
   "metadata": {},
   "source": [
    "# Task 9"
   ]
  },
  {
   "cell_type": "markdown",
   "metadata": {},
   "source": [
    "Write a Python program to get the top 10 countries data (Last Update, Country/Region, Confirmed, Deaths, Recovered) of Novel Coronavirus (COVID-19)"
   ]
  },
  {
   "cell_type": "code",
   "execution_count": null,
   "metadata": {},
   "outputs": [],
   "source": []
  },
  {
   "cell_type": "markdown",
   "metadata": {},
   "source": [
    "# Task 10"
   ]
  },
  {
   "cell_type": "markdown",
   "metadata": {},
   "source": [
    "Write a Python program to create a plot (lines) of total deaths, confirmed, recovered and active cases Country wise where deaths greater than 150"
   ]
  },
  {
   "cell_type": "code",
   "execution_count": 27,
   "metadata": {},
   "outputs": [
    {
     "name": "stderr",
     "output_type": "stream",
     "text": [
      "<ipython-input-27-f3d793ec7c93>:3: FutureWarning: Indexing with multiple keys (implicitly converted to a tuple of keys) will be deprecated, use a list instead.\n",
      "  r_data = df.groupby([\"Country_Region\"])[\"Deaths\", \"Confirmed\", \"Recovered\", \"Active\"].sum().reset_index()\n"
     ]
    },
    {
     "data": {
      "image/png": "[encoded data removed]",
      "text/plain": [
       "<Figure size 1080x360 with 1 Axes>"
      ]
     },
     "metadata": {
      "needs_background": "light"
     },
     "output_type": "display_data"
    }
   ],
   "source": [
    "df['Active'] = df['Confirmed'] - df['Deaths'] - df['Recovered']\n",
    " \n",
    "r_data = df.groupby([\"Country_Region\"])[\"Deaths\", \"Confirmed\", \"Recovered\", \"Active\"].sum().reset_index()\n",
    "r_data = r_data.sort_values(by='Deaths', ascending=False)\n",
    "r_data = r_data[r_data['Deaths']>50]\n",
    "plt.figure(figsize=(15, 5))\n",
    "plt.plot(r_data['Country_Region'], r_data['Deaths'],color='red')\n",
    "plt.plot(r_data['Country_Region'], r_data['Confirmed'],color='green')\n",
    "plt.plot(r_data['Country_Region'], r_data['Recovered'], color='blue')\n",
    "plt.plot(r_data['Country_Region'], r_data['Active'], color='black')\n",
    " \n",
    "plt.title('Total Deaths(>150), Confirmed, Recovered and Active Cases by Country')\n",
    "plt.show()"
   ]
  },
  {
   "cell_type": "markdown",
   "metadata": {},
   "source": [
    "# Task 11"
   ]
  },
  {
   "cell_type": "markdown",
   "metadata": {},
   "source": [
    "Write a Python program to visualize the state/province wise death cases of Novel Coronavirus (COVID-19) in USA"
   ]
  },
  {
   "cell_type": "code",
   "execution_count": 7,
   "metadata": {},
   "outputs": [
    {
     "data": {
      "application/vnd.plotly.v1+json": {
       "config": {
        "plotlyServerURL": "https://plot.ly"
       },
       "data": [
        {
         "alignmentgroup": "True",
         "hovertemplate": "Province_State=%{x}<br>Deaths=%{text}<extra></extra>",
         "legendgroup": "",
         "marker": {
          "color": "#636efa"
         },
         "name": "",
         "offsetgroup": "",
         "orientation": "v",
         "showlegend": false,
         "text": [
          4102,
          176,
          7322,
          2911,
          20958,
          3871,
          5363,
          815,
          713,
          19785,
          10075,
          3,
          115,
          271,
          1169,
          15231,
          6758,
          3208,
          2072,
          2192,
          6767,
          257,
          5100,
          11307,
          11195,
          4418,
          4180,
          4602,
          816,
          1365,
          2520,
          600,
          17732,
          1913,
          35441,
          5796,
          1152,
          2,
          7477,
          2042,
          1150,
          12371,
          1266,
          1509,
          4685,
          1243,
          5400,
          24347,
          1038,
          95,
          23,
          4409,
          2879,
          966,
          4324,
          321
         ],
         "textposition": "auto",
         "type": "bar",
         "x": [
          "Alabama",
          "Alaska",
          "Arizona",
          "Arkansas",
          "California",
          "Colorado",
          "Connecticut",
          "Delaware",
          "District of Columbia",
          "Florida",
          "Georgia",
          "Grand Princess",
          "Guam",
          "Hawaii",
          "Idaho",
          "Illinois",
          "Indiana",
          "Iowa",
          "Kansas",
          "Kentucky",
          "Louisiana",
          "Maine",
          "Maryland",
          "Massachusetts",
          "Michigan",
          "Minnesota",
          "Mississippi",
          "Missouri",
          "Montana",
          "Nebraska",
          "Nevada",
          "New Hampshire",
          "New Jersey",
          "New Mexico",
          "New York",
          "North Carolina",
          "North Dakota",
          "Northern Mariana Islands",
          "Ohio",
          "Oklahoma",
          "Oregon",
          "Pennsylvania",
          "Puerto Rico",
          "Rhode Island",
          "South Carolina",
          "South Dakota",
          "Tennessee",
          "Texas",
          "Utah",
          "Vermont",
          "Virgin Islands",
          "Virginia",
          "Washington",
          "West Virginia",
          "Wisconsin",
          "Wyoming"
         ],
         "xaxis": "x",
         "y": [
          4102,
          176,
          7322,
          2911,
          20958,
          3871,
          5363,
          815,
          713,
          19785,
          10075,
          3,
          115,
          271,
          1169,
          15231,
          6758,
          3208,
          2072,
          2192,
          6767,
          257,
          5100,
          11307,
          11195,
          4418,
          4180,
          4602,
          816,
          1365,
          2520,
          600,
          17732,
          1913,
          35441,
          5796,
          1152,
          2,
          7477,
          2042,
          1150,
          12371,
          1266,
          1509,
          4685,
          1243,
          5400,
          24347,
          1038,
          95,
          23,
          4409,
          2879,
          966,
          4324,
          321
         ],
         "yaxis": "y"
        }
       ],
       "layout": {
        "barmode": "relative",
        "legend": {
         "tracegroupgap": 0
        },
        "template": {
         "data": {
          "bar": [
           {
            "error_x": {
             "color": "#2a3f5f"
            },
            "error_y": {
             "color": "#2a3f5f"
            },
            "marker": {
             "line": {
              "color": "#E5ECF6",
              "width": 0.5
             }
            },
            "type": "bar"
           }
          ],
          "barpolar": [
           {
            "marker": {
             "line": {
              "color": "#E5ECF6",
              "width": 0.5
             }
            },
            "type": "barpolar"
           }
          ],
          "carpet": [
           {
            "aaxis": {
             "endlinecolor": "#2a3f5f",
             "gridcolor": "white",
             "linecolor": "white",
             "minorgridcolor": "white",
             "startlinecolor": "#2a3f5f"
            },
            "baxis": {
             "endlinecolor": "#2a3f5f",
             "gridcolor": "white",
             "linecolor": "white",
             "minorgridcolor": "white",
             "startlinecolor": "#2a3f5f"
            },
            "type": "carpet"
           }
          ],
          "choropleth": [
           {
            "colorbar": {
             "outlinewidth": 0,
             "ticks": ""
            },
            "type": "choropleth"
           }
          ],
          "contour": [
           {
            "colorbar": {
             "outlinewidth": 0,
             "ticks": ""
            },
            "colorscale": [
             [
              0,
              "#0d0887"
             ],
             [
              0.1111111111111111,
              "#46039f"
             ],
             [
              0.2222222222222222,
              "#7201a8"
             ],
             [
              0.3333333333333333,
              "#9c179e"
             ],
             [
              0.4444444444444444,
              "#bd3786"
             ],
             [
              0.5555555555555556,
              "#d8576b"
             ],
             [
              0.6666666666666666,
              "#ed7953"
             ],
             [
              0.7777777777777778,
              "#fb9f3a"
             ],
             [
              0.8888888888888888,
              "#fdca26"
             ],
             [
              1,
              "#f0f921"
             ]
            ],
            "type": "contour"
           }
          ],
          "contourcarpet": [
           {
            "colorbar": {
             "outlinewidth": 0,
             "ticks": ""
            },
            "type": "contourcarpet"
           }
          ],
          "heatmap": [
           {
            "colorbar": {
             "outlinewidth": 0,
             "ticks": ""
            },
            "colorscale": [
             [
              0,
              "#0d0887"
             ],
             [
              0.1111111111111111,
              "#46039f"
             ],
             [
              0.2222222222222222,
              "#7201a8"
             ],
             [
              0.3333333333333333,
              "#9c179e"
             ],
             [
              0.4444444444444444,
              "#bd3786"
             ],
             [
              0.5555555555555556,
              "#d8576b"
             ],
             [
              0.6666666666666666,
              "#ed7953"
             ],
             [
              0.7777777777777778,
              "#fb9f3a"
             ],
             [
              0.8888888888888888,
              "#fdca26"
             ],
             [
              1,
              "#f0f921"
             ]
            ],
            "type": "heatmap"
           }
          ],
          "heatmapgl": [
           {
            "colorbar": {
             "outlinewidth": 0,
             "ticks": ""
            },
            "colorscale": [
             [
              0,
              "#0d0887"
             ],
             [
              0.1111111111111111,
              "#46039f"
             ],
             [
              0.2222222222222222,
              "#7201a8"
             ],
             [
              0.3333333333333333,
              "#9c179e"
             ],
             [
              0.4444444444444444,
              "#bd3786"
             ],
             [
              0.5555555555555556,
              "#d8576b"
             ],
             [
              0.6666666666666666,
              "#ed7953"
             ],
             [
              0.7777777777777778,
              "#fb9f3a"
             ],
             [
              0.8888888888888888,
              "#fdca26"
             ],
             [
              1,
              "#f0f921"
             ]
            ],
            "type": "heatmapgl"
           }
          ],
          "histogram": [
           {
            "marker": {
             "colorbar": {
              "outlinewidth": 0,
              "ticks": ""
             }
            },
            "type": "histogram"
           }
          ],
          "histogram2d": [
           {
            "colorbar": {
             "outlinewidth": 0,
             "ticks": ""
            },
            "colorscale": [
             [
              0,
              "#0d0887"
             ],
             [
              0.1111111111111111,
              "#46039f"
             ],
             [
              0.2222222222222222,
              "#7201a8"
             ],
             [
              0.3333333333333333,
              "#9c179e"
             ],
             [
              0.4444444444444444,
              "#bd3786"
             ],
             [
              0.5555555555555556,
              "#d8576b"
             ],
             [
              0.6666666666666666,
              "#ed7953"
             ],
             [
              0.7777777777777778,
              "#fb9f3a"
             ],
             [
              0.8888888888888888,
              "#fdca26"
             ],
             [
              1,
              "#f0f921"
             ]
            ],
            "type": "histogram2d"
           }
          ],
          "histogram2dcontour": [
           {
            "colorbar": {
             "outlinewidth": 0,
             "ticks": ""
            },
            "colorscale": [
             [
              0,
              "#0d0887"
             ],
             [
              0.1111111111111111,
              "#46039f"
             ],
             [
              0.2222222222222222,
              "#7201a8"
             ],
             [
              0.3333333333333333,
              "#9c179e"
             ],
             [
              0.4444444444444444,
              "#bd3786"
             ],
             [
              0.5555555555555556,
              "#d8576b"
             ],
             [
              0.6666666666666666,
              "#ed7953"
             ],
             [
              0.7777777777777778,
              "#fb9f3a"
             ],
             [
              0.8888888888888888,
              "#fdca26"
             ],
             [
              1,
              "#f0f921"
             ]
            ],
            "type": "histogram2dcontour"
           }
          ],
          "mesh3d": [
           {
            "colorbar": {
             "outlinewidth": 0,
             "ticks": ""
            },
            "type": "mesh3d"
           }
          ],
          "parcoords": [
           {
            "line": {
             "colorbar": {
              "outlinewidth": 0,
              "ticks": ""
             }
            },
            "type": "parcoords"
           }
          ],
          "pie": [
           {
            "automargin": true,
            "type": "pie"
           }
          ],
          "scatter": [
           {
            "marker": {
             "colorbar": {
              "outlinewidth": 0,
              "ticks": ""
             }
            },
            "type": "scatter"
           }
          ],
          "scatter3d": [
           {
            "line": {
             "colorbar": {
              "outlinewidth": 0,
              "ticks": ""
             }
            },
            "marker": {
             "colorbar": {
              "outlinewidth": 0,
              "ticks": ""
             }
            },
            "type": "scatter3d"
           }
          ],
          "scattercarpet": [
           {
            "marker": {
             "colorbar": {
              "outlinewidth": 0,
              "ticks": ""
             }
            },
            "type": "scattercarpet"
           }
          ],
          "scattergeo": [
           {
            "marker": {
             "colorbar": {
              "outlinewidth": 0,
              "ticks": ""
             }
            },
            "type": "scattergeo"
           }
          ],
          "scattergl": [
           {
            "marker": {
             "colorbar": {
              "outlinewidth": 0,
              "ticks": ""
             }
            },
            "type": "scattergl"
           }
          ],
          "scattermapbox": [
           {
            "marker": {
             "colorbar": {
              "outlinewidth": 0,
              "ticks": ""
             }
            },
            "type": "scattermapbox"
           }
          ],
          "scatterpolar": [
           {
            "marker": {
             "colorbar": {
              "outlinewidth": 0,
              "ticks": ""
             }
            },
            "type": "scatterpolar"
           }
          ],
          "scatterpolargl": [
           {
            "marker": {
             "colorbar": {
              "outlinewidth": 0,
              "ticks": ""
             }
            },
            "type": "scatterpolargl"
           }
          ],
          "scatterternary": [
           {
            "marker": {
             "colorbar": {
              "outlinewidth": 0,
              "ticks": ""
             }
            },
            "type": "scatterternary"
           }
          ],
          "surface": [
           {
            "colorbar": {
             "outlinewidth": 0,
             "ticks": ""
            },
            "colorscale": [
             [
              0,
              "#0d0887"
             ],
             [
              0.1111111111111111,
              "#46039f"
             ],
             [
              0.2222222222222222,
              "#7201a8"
             ],
             [
              0.3333333333333333,
              "#9c179e"
             ],
             [
              0.4444444444444444,
              "#bd3786"
             ],
             [
              0.5555555555555556,
              "#d8576b"
             ],
             [
              0.6666666666666666,
              "#ed7953"
             ],
             [
              0.7777777777777778,
              "#fb9f3a"
             ],
             [
              0.8888888888888888,
              "#fdca26"
             ],
             [
              1,
              "#f0f921"
             ]
            ],
            "type": "surface"
           }
          ],
          "table": [
           {
            "cells": {
             "fill": {
              "color": "#EBF0F8"
             },
             "line": {
              "color": "white"
             }
            },
            "header": {
             "fill": {
              "color": "#C8D4E3"
             },
             "line": {
              "color": "white"
             }
            },
            "type": "table"
           }
          ]
         },
         "layout": {
          "annotationdefaults": {
           "arrowcolor": "#2a3f5f",
           "arrowhead": 0,
           "arrowwidth": 1
          },
          "autotypenumbers": "strict",
          "coloraxis": {
           "colorbar": {
            "outlinewidth": 0,
            "ticks": ""
           }
          },
          "colorscale": {
           "diverging": [
            [
             0,
             "#8e0152"
            ],
            [
             0.1,
             "#c51b7d"
            ],
            [
             0.2,
             "#de77ae"
            ],
            [
             0.3,
             "#f1b6da"
            ],
            [
             0.4,
             "#fde0ef"
            ],
            [
             0.5,
             "#f7f7f7"
            ],
            [
             0.6,
             "#e6f5d0"
            ],
            [
             0.7,
             "#b8e186"
            ],
            [
             0.8,
             "#7fbc41"
            ],
            [
             0.9,
             "#4d9221"
            ],
            [
             1,
             "#276419"
            ]
           ],
           "sequential": [
            [
             0,
             "#0d0887"
            ],
            [
             0.1111111111111111,
             "#46039f"
            ],
            [
             0.2222222222222222,
             "#7201a8"
            ],
            [
             0.3333333333333333,
             "#9c179e"
            ],
            [
             0.4444444444444444,
             "#bd3786"
            ],
            [
             0.5555555555555556,
             "#d8576b"
            ],
            [
             0.6666666666666666,
             "#ed7953"
            ],
            [
             0.7777777777777778,
             "#fb9f3a"
            ],
            [
             0.8888888888888888,
             "#fdca26"
            ],
            [
             1,
             "#f0f921"
            ]
           ],
           "sequentialminus": [
            [
             0,
             "#0d0887"
            ],
            [
             0.1111111111111111,
             "#46039f"
            ],
            [
             0.2222222222222222,
             "#7201a8"
            ],
            [
             0.3333333333333333,
             "#9c179e"
            ],
            [
             0.4444444444444444,
             "#bd3786"
            ],
            [
             0.5555555555555556,
             "#d8576b"
            ],
            [
             0.6666666666666666,
             "#ed7953"
            ],
            [
             0.7777777777777778,
             "#fb9f3a"
            ],
            [
             0.8888888888888888,
             "#fdca26"
            ],
            [
             1,
             "#f0f921"
            ]
           ]
          },
          "colorway": [
           "#636efa",
           "#EF553B",
           "#00cc96",
           "#ab63fa",
           "#FFA15A",
           "#19d3f3",
           "#FF6692",
           "#B6E880",
           "#FF97FF",
           "#FECB52"
          ],
          "font": {
           "color": "#2a3f5f"
          },
          "geo": {
           "bgcolor": "white",
           "lakecolor": "white",
           "landcolor": "#E5ECF6",
           "showlakes": true,
           "showland": true,
           "subunitcolor": "white"
          },
          "hoverlabel": {
           "align": "left"
          },
          "hovermode": "closest",
          "mapbox": {
           "style": "light"
          },
          "paper_bgcolor": "white",
          "plot_bgcolor": "#E5ECF6",
          "polar": {
           "angularaxis": {
            "gridcolor": "white",
            "linecolor": "white",
            "ticks": ""
           },
           "bgcolor": "#E5ECF6",
           "radialaxis": {
            "gridcolor": "white",
            "linecolor": "white",
            "ticks": ""
           }
          },
          "scene": {
           "xaxis": {
            "backgroundcolor": "#E5ECF6",
            "gridcolor": "white",
            "gridwidth": 2,
            "linecolor": "white",
            "showbackground": true,
            "ticks": "",
            "zerolinecolor": "white"
           },
           "yaxis": {
            "backgroundcolor": "#E5ECF6",
            "gridcolor": "white",
            "gridwidth": 2,
            "linecolor": "white",
            "showbackground": true,
            "ticks": "",
            "zerolinecolor": "white"
           },
           "zaxis": {
            "backgroundcolor": "#E5ECF6",
            "gridcolor": "white",
            "gridwidth": 2,
            "linecolor": "white",
            "showbackground": true,
            "ticks": "",
            "zerolinecolor": "white"
           }
          },
          "shapedefaults": {
           "line": {
            "color": "#2a3f5f"
           }
          },
          "ternary": {
           "aaxis": {
            "gridcolor": "white",
            "linecolor": "white",
            "ticks": ""
           },
           "baxis": {
            "gridcolor": "white",
            "linecolor": "white",
            "ticks": ""
           },
           "bgcolor": "#E5ECF6",
           "caxis": {
            "gridcolor": "white",
            "linecolor": "white",
            "ticks": ""
           }
          },
          "title": {
           "x": 0.05
          },
          "xaxis": {
           "automargin": true,
           "gridcolor": "white",
           "linecolor": "white",
           "ticks": "",
           "title": {
            "standoff": 15
           },
           "zerolinecolor": "white",
           "zerolinewidth": 2
          },
          "yaxis": {
           "automargin": true,
           "gridcolor": "white",
           "linecolor": "white",
           "ticks": "",
           "title": {
            "standoff": 15
           },
           "zerolinecolor": "white",
           "zerolinewidth": 2
          }
         }
        },
        "title": {
         "text": "State wise deaths reported of COVID-19 in USA"
        },
        "xaxis": {
         "anchor": "y",
         "domain": [
          0,
          1
         ],
         "title": {
          "text": "Province_State"
         }
        },
        "yaxis": {
         "anchor": "x",
         "domain": [
          0,
          1
         ],
         "title": {
          "text": "Deaths"
         }
        }
       }
      },
      "text/html": [
       "<div>                            <div id=\"cf645a44-13ca-4fcc-af47-cb7610f71fef\" class=\"plotly-graph-div\" style=\"height:525px; width:100%;\"></div>            <script type=\"text/javascript\">                require([\"plotly\"], function(Plotly) {                    window.PLOTLYENV=window.PLOTLYENV || {};                                    if (document.getElementById(\"cf645a44-13ca-4fcc-af47-cb7610f71fef\")) {                    Plotly.newPlot(                        \"cf645a44-13ca-4fcc-af47-cb7610f71fef\",                        [{\"alignmentgroup\": \"True\", \"hovertemplate\": \"Province_State=%{x}<br>Deaths=%{text}<extra></extra>\", \"legendgroup\": \"\", \"marker\": {\"color\": \"#636efa\"}, \"name\": \"\", \"offsetgroup\": \"\", \"orientation\": \"v\", \"showlegend\": false, \"text\": [4102.0, 176.0, 7322.0, 2911.0, 20958.0, 3871.0, 5363.0, 815.0, 713.0, 19785.0, 10075.0, 3.0, 115.0, 271.0, 1169.0, 15231.0, 6758.0, 3208.0, 2072.0, 2192.0, 6767.0, 257.0, 5100.0, 11307.0, 11195.0, 4418.0, 4180.0, 4602.0, 816.0, 1365.0, 2520.0, 600.0, 17732.0, 1913.0, 35441.0, 5796.0, 1152.0, 2.0, 7477.0, 2042.0, 1150.0, 12371.0, 1266.0, 1509.0, 4685.0, 1243.0, 5400.0, 24347.0, 1038.0, 95.0, 23.0, 4409.0, 2879.0, 966.0, 4324.0, 321.0], \"textposition\": \"auto\", \"type\": \"bar\", \"x\": [\"Alabama\", \"Alaska\", \"Arizona\", \"Arkansas\", \"California\", \"Colorado\", \"Connecticut\", \"Delaware\", \"District of Columbia\", \"Florida\", \"Georgia\", \"Grand Princess\", \"Guam\", \"Hawaii\", \"Idaho\", \"Illinois\", \"Indiana\", \"Iowa\", \"Kansas\", \"Kentucky\", \"Louisiana\", \"Maine\", \"Maryland\", \"Massachusetts\", \"Michigan\", \"Minnesota\", \"Mississippi\", \"Missouri\", \"Montana\", \"Nebraska\", \"Nevada\", \"New Hampshire\", \"New Jersey\", \"New Mexico\", \"New York\", \"North Carolina\", \"North Dakota\", \"Northern Mariana Islands\", \"Ohio\", \"Oklahoma\", \"Oregon\", \"Pennsylvania\", \"Puerto Rico\", \"Rhode Island\", \"South Carolina\", \"South Dakota\", \"Tennessee\", \"Texas\", \"Utah\", \"Vermont\", \"Virgin Islands\", \"Virginia\", \"Washington\", \"West Virginia\", \"Wisconsin\", \"Wyoming\"], \"xaxis\": \"x\", \"y\": [4102, 176, 7322, 2911, 20958, 3871, 5363, 815, 713, 19785, 10075, 3, 115, 271, 1169, 15231, 6758, 3208, 2072, 2192, 6767, 257, 5100, 11307, 11195, 4418, 4180, 4602, 816, 1365, 2520, 600, 17732, 1913, 35441, 5796, 1152, 2, 7477, 2042, 1150, 12371, 1266, 1509, 4685, 1243, 5400, 24347, 1038, 95, 23, 4409, 2879, 966, 4324, 321], \"yaxis\": \"y\"}],                        {\"barmode\": \"relative\", \"legend\": {\"tracegroupgap\": 0}, \"template\": {\"data\": {\"bar\": [{\"error_x\": {\"color\": \"#2a3f5f\"}, \"error_y\": {\"color\": \"#2a3f5f\"}, \"marker\": {\"line\": {\"color\": \"#E5ECF6\", \"width\": 0.5}}, \"type\": \"bar\"}], \"barpolar\": [{\"marker\": {\"line\": {\"color\": \"#E5ECF6\", \"width\": 0.5}}, \"type\": \"barpolar\"}], \"carpet\": [{\"aaxis\": {\"endlinecolor\": \"#2a3f5f\", \"gridcolor\": \"white\", \"linecolor\": \"white\", \"minorgridcolor\": \"white\", \"startlinecolor\": \"#2a3f5f\"}, \"baxis\": {\"endlinecolor\": \"#2a3f5f\", \"gridcolor\": \"white\", \"linecolor\": \"white\", \"minorgridcolor\": \"white\", \"startlinecolor\": \"#2a3f5f\"}, \"type\": \"carpet\"}], \"choropleth\": [{\"colorbar\": {\"outlinewidth\": 0, \"ticks\": \"\"}, \"type\": \"choropleth\"}], \"contour\": [{\"colorbar\": {\"outlinewidth\": 0, \"ticks\": \"\"}, \"colorscale\": [[0.0, \"#0d0887\"], [0.1111111111111111, \"#46039f\"], [0.2222222222222222, \"#7201a8\"], [0.3333333333333333, \"#9c179e\"], [0.4444444444444444, \"#bd3786\"], [0.5555555555555556, \"#d8576b\"], [0.6666666666666666, \"#ed7953\"], [0.7777777777777778, \"#fb9f3a\"], [0.8888888888888888, \"#fdca26\"], [1.0, \"#f0f921\"]], \"type\": \"contour\"}], \"contourcarpet\": [{\"colorbar\": {\"outlinewidth\": 0, \"ticks\": \"\"}, \"type\": \"contourcarpet\"}], \"heatmap\": [{\"colorbar\": {\"outlinewidth\": 0, \"ticks\": \"\"}, \"colorscale\": [[0.0, \"#0d0887\"], [0.1111111111111111, \"#46039f\"], [0.2222222222222222, \"#7201a8\"], [0.3333333333333333, \"#9c179e\"], [0.4444444444444444, \"#bd3786\"], [0.5555555555555556, \"#d8576b\"], [0.6666666666666666, \"#ed7953\"], [0.7777777777777778, \"#fb9f3a\"], [0.8888888888888888, \"#fdca26\"], [1.0, \"#f0f921\"]], \"type\": \"heatmap\"}], \"heatmapgl\": [{\"colorbar\": {\"outlinewidth\": 0, \"ticks\": \"\"}, \"colorscale\": [[0.0, \"#0d0887\"], [0.1111111111111111, \"#46039f\"], [0.2222222222222222, \"#7201a8\"], [0.3333333333333333, \"#9c179e\"], [0.4444444444444444, \"#bd3786\"], [0.5555555555555556, \"#d8576b\"], [0.6666666666666666, \"#ed7953\"], [0.7777777777777778, \"#fb9f3a\"], [0.8888888888888888, \"#fdca26\"], [1.0, \"#f0f921\"]], \"type\": \"heatmapgl\"}], \"histogram\": [{\"marker\": {\"colorbar\": {\"outlinewidth\": 0, \"ticks\": \"\"}}, \"type\": \"histogram\"}], \"histogram2d\": [{\"colorbar\": {\"outlinewidth\": 0, \"ticks\": \"\"}, \"colorscale\": [[0.0, \"#0d0887\"], [0.1111111111111111, \"#46039f\"], [0.2222222222222222, \"#7201a8\"], [0.3333333333333333, \"#9c179e\"], [0.4444444444444444, \"#bd3786\"], [0.5555555555555556, \"#d8576b\"], [0.6666666666666666, \"#ed7953\"], [0.7777777777777778, \"#fb9f3a\"], [0.8888888888888888, \"#fdca26\"], [1.0, \"#f0f921\"]], \"type\": \"histogram2d\"}], \"histogram2dcontour\": [{\"colorbar\": {\"outlinewidth\": 0, \"ticks\": \"\"}, \"colorscale\": [[0.0, \"#0d0887\"], [0.1111111111111111, \"#46039f\"], [0.2222222222222222, \"#7201a8\"], [0.3333333333333333, \"#9c179e\"], [0.4444444444444444, \"#bd3786\"], [0.5555555555555556, \"#d8576b\"], [0.6666666666666666, \"#ed7953\"], [0.7777777777777778, \"#fb9f3a\"], [0.8888888888888888, \"#fdca26\"], [1.0, \"#f0f921\"]], \"type\": \"histogram2dcontour\"}], \"mesh3d\": [{\"colorbar\": {\"outlinewidth\": 0, \"ticks\": \"\"}, \"type\": \"mesh3d\"}], \"parcoords\": [{\"line\": {\"colorbar\": {\"outlinewidth\": 0, \"ticks\": \"\"}}, \"type\": \"parcoords\"}], \"pie\": [{\"automargin\": true, \"type\": \"pie\"}], \"scatter\": [{\"marker\": {\"colorbar\": {\"outlinewidth\": 0, \"ticks\": \"\"}}, \"type\": \"scatter\"}], \"scatter3d\": [{\"line\": {\"colorbar\": {\"outlinewidth\": 0, \"ticks\": \"\"}}, \"marker\": {\"colorbar\": {\"outlinewidth\": 0, \"ticks\": \"\"}}, \"type\": \"scatter3d\"}], \"scattercarpet\": [{\"marker\": {\"colorbar\": {\"outlinewidth\": 0, \"ticks\": \"\"}}, \"type\": \"scattercarpet\"}], \"scattergeo\": [{\"marker\": {\"colorbar\": {\"outlinewidth\": 0, \"ticks\": \"\"}}, \"type\": \"scattergeo\"}], \"scattergl\": [{\"marker\": {\"colorbar\": {\"outlinewidth\": 0, \"ticks\": \"\"}}, \"type\": \"scattergl\"}], \"scattermapbox\": [{\"marker\": {\"colorbar\": {\"outlinewidth\": 0, \"ticks\": \"\"}}, \"type\": \"scattermapbox\"}], \"scatterpolar\": [{\"marker\": {\"colorbar\": {\"outlinewidth\": 0, \"ticks\": \"\"}}, \"type\": \"scatterpolar\"}], \"scatterpolargl\": [{\"marker\": {\"colorbar\": {\"outlinewidth\": 0, \"ticks\": \"\"}}, \"type\": \"scatterpolargl\"}], \"scatterternary\": [{\"marker\": {\"colorbar\": {\"outlinewidth\": 0, \"ticks\": \"\"}}, \"type\": \"scatterternary\"}], \"surface\": [{\"colorbar\": {\"outlinewidth\": 0, \"ticks\": \"\"}, \"colorscale\": [[0.0, \"#0d0887\"], [0.1111111111111111, \"#46039f\"], [0.2222222222222222, \"#7201a8\"], [0.3333333333333333, \"#9c179e\"], [0.4444444444444444, \"#bd3786\"], [0.5555555555555556, \"#d8576b\"], [0.6666666666666666, \"#ed7953\"], [0.7777777777777778, \"#fb9f3a\"], [0.8888888888888888, \"#fdca26\"], [1.0, \"#f0f921\"]], \"type\": \"surface\"}], \"table\": [{\"cells\": {\"fill\": {\"color\": \"#EBF0F8\"}, \"line\": {\"color\": \"white\"}}, \"header\": {\"fill\": {\"color\": \"#C8D4E3\"}, \"line\": {\"color\": \"white\"}}, \"type\": \"table\"}]}, \"layout\": {\"annotationdefaults\": {\"arrowcolor\": \"#2a3f5f\", \"arrowhead\": 0, \"arrowwidth\": 1}, \"autotypenumbers\": \"strict\", \"coloraxis\": {\"colorbar\": {\"outlinewidth\": 0, \"ticks\": \"\"}}, \"colorscale\": {\"diverging\": [[0, \"#8e0152\"], [0.1, \"#c51b7d\"], [0.2, \"#de77ae\"], [0.3, \"#f1b6da\"], [0.4, \"#fde0ef\"], [0.5, \"#f7f7f7\"], [0.6, \"#e6f5d0\"], [0.7, \"#b8e186\"], [0.8, \"#7fbc41\"], [0.9, \"#4d9221\"], [1, \"#276419\"]], \"sequential\": [[0.0, \"#0d0887\"], [0.1111111111111111, \"#46039f\"], [0.2222222222222222, \"#7201a8\"], [0.3333333333333333, \"#9c179e\"], [0.4444444444444444, \"#bd3786\"], [0.5555555555555556, \"#d8576b\"], [0.6666666666666666, \"#ed7953\"], [0.7777777777777778, \"#fb9f3a\"], [0.8888888888888888, \"#fdca26\"], [1.0, \"#f0f921\"]], \"sequentialminus\": [[0.0, \"#0d0887\"], [0.1111111111111111, \"#46039f\"], [0.2222222222222222, \"#7201a8\"], [0.3333333333333333, \"#9c179e\"], [0.4444444444444444, \"#bd3786\"], [0.5555555555555556, \"#d8576b\"], [0.6666666666666666, \"#ed7953\"], [0.7777777777777778, \"#fb9f3a\"], [0.8888888888888888, \"#fdca26\"], [1.0, \"#f0f921\"]]}, \"colorway\": [\"#636efa\", \"#EF553B\", \"#00cc96\", \"#ab63fa\", \"#FFA15A\", \"#19d3f3\", \"#FF6692\", \"#B6E880\", \"#FF97FF\", \"#FECB52\"], \"font\": {\"color\": \"#2a3f5f\"}, \"geo\": {\"bgcolor\": \"white\", \"lakecolor\": \"white\", \"landcolor\": \"#E5ECF6\", \"showlakes\": true, \"showland\": true, \"subunitcolor\": \"white\"}, \"hoverlabel\": {\"align\": \"left\"}, \"hovermode\": \"closest\", \"mapbox\": {\"style\": \"light\"}, \"paper_bgcolor\": \"white\", \"plot_bgcolor\": \"#E5ECF6\", \"polar\": {\"angularaxis\": {\"gridcolor\": \"white\", \"linecolor\": \"white\", \"ticks\": \"\"}, \"bgcolor\": \"#E5ECF6\", \"radialaxis\": {\"gridcolor\": \"white\", \"linecolor\": \"white\", \"ticks\": \"\"}}, \"scene\": {\"xaxis\": {\"backgroundcolor\": \"#E5ECF6\", \"gridcolor\": \"white\", \"gridwidth\": 2, \"linecolor\": \"white\", \"showbackground\": true, \"ticks\": \"\", \"zerolinecolor\": \"white\"}, \"yaxis\": {\"backgroundcolor\": \"#E5ECF6\", \"gridcolor\": \"white\", \"gridwidth\": 2, \"linecolor\": \"white\", \"showbackground\": true, \"ticks\": \"\", \"zerolinecolor\": \"white\"}, \"zaxis\": {\"backgroundcolor\": \"#E5ECF6\", \"gridcolor\": \"white\", \"gridwidth\": 2, \"linecolor\": \"white\", \"showbackground\": true, \"ticks\": \"\", \"zerolinecolor\": \"white\"}}, \"shapedefaults\": {\"line\": {\"color\": \"#2a3f5f\"}}, \"ternary\": {\"aaxis\": {\"gridcolor\": \"white\", \"linecolor\": \"white\", \"ticks\": \"\"}, \"baxis\": {\"gridcolor\": \"white\", \"linecolor\": \"white\", \"ticks\": \"\"}, \"bgcolor\": \"#E5ECF6\", \"caxis\": {\"gridcolor\": \"white\", \"linecolor\": \"white\", \"ticks\": \"\"}}, \"title\": {\"x\": 0.05}, \"xaxis\": {\"automargin\": true, \"gridcolor\": \"white\", \"linecolor\": \"white\", \"ticks\": \"\", \"title\": {\"standoff\": 15}, \"zerolinecolor\": \"white\", \"zerolinewidth\": 2}, \"yaxis\": {\"automargin\": true, \"gridcolor\": \"white\", \"linecolor\": \"white\", \"ticks\": \"\", \"title\": {\"standoff\": 15}, \"zerolinecolor\": \"white\", \"zerolinewidth\": 2}}}, \"title\": {\"text\": \"State wise deaths reported of COVID-19 in USA\"}, \"xaxis\": {\"anchor\": \"y\", \"domain\": [0.0, 1.0], \"title\": {\"text\": \"Province_State\"}}, \"yaxis\": {\"anchor\": \"x\", \"domain\": [0.0, 1.0], \"title\": {\"text\": \"Deaths\"}}},                        {\"responsive\": true}                    ).then(function(){\n",
       "                            \n",
       "var gd = document.getElementById('cf645a44-13ca-4fcc-af47-cb7610f71fef');\n",
       "var x = new MutationObserver(function (mutations, observer) {{\n",
       "        var display = window.getComputedStyle(gd).display;\n",
       "        if (!display || display === 'none') {{\n",
       "            console.log([gd, 'removed!']);\n",
       "            Plotly.purge(gd);\n",
       "            observer.disconnect();\n",
       "        }}\n",
       "}});\n",
       "\n",
       "// Listen for the removal of the full notebook cells\n",
       "var notebookContainer = gd.closest('#notebook-container');\n",
       "if (notebookContainer) {{\n",
       "    x.observe(notebookContainer, {childList: true});\n",
       "}}\n",
       "\n",
       "// Listen for the clearing of the current output cell\n",
       "var outputEl = gd.closest('.output');\n",
       "if (outputEl) {{\n",
       "    x.observe(outputEl, {childList: true});\n",
       "}}\n",
       "\n",
       "                        })                };                });            </script>        </div>"
      ]
     },
     "metadata": {},
     "output_type": "display_data"
    }
   ],
   "source": [
    "us_data1 = df[df['Country_Region']=='US'].drop(['Country_Region'], axis=1)\n",
    "us_data1 = us_data1[us_data1.sum(axis = 1) > 0]\n",
    "us_data1 = us_data1.groupby(['Province_State'])['Deaths'].sum().reset_index()\n",
    "us_data_death = us_data1[us_data1['Deaths'] > 0]\n",
    "state_fig = px.bar(us_data_death, x='Province_State', y='Deaths', title='State wise deaths reported of COVID-19 in USA', text='Deaths')\n",
    "state_fig.show()"
   ]
  },
  {
   "cell_type": "markdown",
   "metadata": {},
   "source": [
    "# Task 12"
   ]
  },
  {
   "cell_type": "markdown",
   "metadata": {},
   "source": [
    "Write a Python program to visualize the state/province wise Active cases of Novel Coronavirus (COVID-19) in USA"
   ]
  },
  {
   "cell_type": "code",
   "execution_count": 8,
   "metadata": {},
   "outputs": [
    {
     "data": {
      "application/vnd.plotly.v1+json": {
       "config": {
        "plotlyServerURL": "https://plot.ly"
       },
       "data": [
        {
         "alignmentgroup": "True",
         "hovertemplate": "Province_State=%{x}<br>Active=%{text}<extra></extra>",
         "legendgroup": "",
         "marker": {
          "color": "#636efa"
         },
         "name": "",
         "offsetgroup": "",
         "orientation": "v",
         "showlegend": false,
         "text": [
          288739,
          40321,
          395267,
          181341,
          1528218,
          281763,
          141398,
          44061,
          49,
          23930,
          1097188,
          527965,
          100,
          6964,
          19240,
          119463,
          826457,
          412778,
          251801,
          186388,
          218467,
          257424,
          15363,
          226909,
          274418,
          453964,
          370980,
          173767,
          345786,
          71828,
          146323,
          181429,
          29644,
          378764,
          116445,
          729525,
          423980,
          86438,
          111,
          545984,
          231294,
          91689,
          472959,
          60457,
          69309,
          244113,
          89164,
          437553,
          1376381,
          230783,
          5531,
          1768,
          274206,
          196856,
          61185,
          461667,
          38586
         ],
         "textposition": "auto",
         "type": "bar",
         "x": [
          "Alabama",
          "Alaska",
          "Arizona",
          "Arkansas",
          "California",
          "Colorado",
          "Connecticut",
          "Delaware",
          "Diamond Princess",
          "District of Columbia",
          "Florida",
          "Georgia",
          "Grand Princess",
          "Guam",
          "Hawaii",
          "Idaho",
          "Illinois",
          "Indiana",
          "Iowa",
          "Kansas",
          "Kentucky",
          "Louisiana",
          "Maine",
          "Maryland",
          "Massachusetts",
          "Michigan",
          "Minnesota",
          "Mississippi",
          "Missouri",
          "Montana",
          "Nebraska",
          "Nevada",
          "New Hampshire",
          "New Jersey",
          "New Mexico",
          "New York",
          "North Carolina",
          "North Dakota",
          "Northern Mariana Islands",
          "Ohio",
          "Oklahoma",
          "Oregon",
          "Pennsylvania",
          "Puerto Rico",
          "Rhode Island",
          "South Carolina",
          "South Dakota",
          "Tennessee",
          "Texas",
          "Utah",
          "Vermont",
          "Virgin Islands",
          "Virginia",
          "Washington",
          "West Virginia",
          "Wisconsin",
          "Wyoming"
         ],
         "xaxis": "x",
         "y": [
          288739,
          40321,
          395267,
          181341,
          1528218,
          281763,
          141398,
          44061,
          49,
          23930,
          1097188,
          527965,
          100,
          6964,
          19240,
          119463,
          826457,
          412778,
          251801,
          186388,
          218467,
          257424,
          15363,
          226909,
          274418,
          453964,
          370980,
          173767,
          345786,
          71828,
          146323,
          181429,
          29644,
          378764,
          116445,
          729525,
          423980,
          86438,
          111,
          545984,
          231294,
          91689,
          472959,
          60457,
          69309,
          244113,
          89164,
          437553,
          1376381,
          230783,
          5531,
          1768,
          274206,
          196856,
          61185,
          461667,
          38586
         ],
         "yaxis": "y"
        }
       ],
       "layout": {
        "barmode": "relative",
        "legend": {
         "tracegroupgap": 0
        },
        "template": {
         "data": {
          "bar": [
           {
            "error_x": {
             "color": "#2a3f5f"
            },
            "error_y": {
             "color": "#2a3f5f"
            },
            "marker": {
             "line": {
              "color": "#E5ECF6",
              "width": 0.5
             }
            },
            "type": "bar"
           }
          ],
          "barpolar": [
           {
            "marker": {
             "line": {
              "color": "#E5ECF6",
              "width": 0.5
             }
            },
            "type": "barpolar"
           }
          ],
          "carpet": [
           {
            "aaxis": {
             "endlinecolor": "#2a3f5f",
             "gridcolor": "white",
             "linecolor": "white",
             "minorgridcolor": "white",
             "startlinecolor": "#2a3f5f"
            },
            "baxis": {
             "endlinecolor": "#2a3f5f",
             "gridcolor": "white",
             "linecolor": "white",
             "minorgridcolor": "white",
             "startlinecolor": "#2a3f5f"
            },
            "type": "carpet"
           }
          ],
          "choropleth": [
           {
            "colorbar": {
             "outlinewidth": 0,
             "ticks": ""
            },
            "type": "choropleth"
           }
          ],
          "contour": [
           {
            "colorbar": {
             "outlinewidth": 0,
             "ticks": ""
            },
            "colorscale": [
             [
              0,
              "#0d0887"
             ],
             [
              0.1111111111111111,
              "#46039f"
             ],
             [
              0.2222222222222222,
              "#7201a8"
             ],
             [
              0.3333333333333333,
              "#9c179e"
             ],
             [
              0.4444444444444444,
              "#bd3786"
             ],
             [
              0.5555555555555556,
              "#d8576b"
             ],
             [
              0.6666666666666666,
              "#ed7953"
             ],
             [
              0.7777777777777778,
              "#fb9f3a"
             ],
             [
              0.8888888888888888,
              "#fdca26"
             ],
             [
              1,
              "#f0f921"
             ]
            ],
            "type": "contour"
           }
          ],
          "contourcarpet": [
           {
            "colorbar": {
             "outlinewidth": 0,
             "ticks": ""
            },
            "type": "contourcarpet"
           }
          ],
          "heatmap": [
           {
            "colorbar": {
             "outlinewidth": 0,
             "ticks": ""
            },
            "colorscale": [
             [
              0,
              "#0d0887"
             ],
             [
              0.1111111111111111,
              "#46039f"
             ],
             [
              0.2222222222222222,
              "#7201a8"
             ],
             [
              0.3333333333333333,
              "#9c179e"
             ],
             [
              0.4444444444444444,
              "#bd3786"
             ],
             [
              0.5555555555555556,
              "#d8576b"
             ],
             [
              0.6666666666666666,
              "#ed7953"
             ],
             [
              0.7777777777777778,
              "#fb9f3a"
             ],
             [
              0.8888888888888888,
              "#fdca26"
             ],
             [
              1,
              "#f0f921"
             ]
            ],
            "type": "heatmap"
           }
          ],
          "heatmapgl": [
           {
            "colorbar": {
             "outlinewidth": 0,
             "ticks": ""
            },
            "colorscale": [
             [
              0,
              "#0d0887"
             ],
             [
              0.1111111111111111,
              "#46039f"
             ],
             [
              0.2222222222222222,
              "#7201a8"
             ],
             [
              0.3333333333333333,
              "#9c179e"
             ],
             [
              0.4444444444444444,
              "#bd3786"
             ],
             [
              0.5555555555555556,
              "#d8576b"
             ],
             [
              0.6666666666666666,
              "#ed7953"
             ],
             [
              0.7777777777777778,
              "#fb9f3a"
             ],
             [
              0.8888888888888888,
              "#fdca26"
             ],
             [
              1,
              "#f0f921"
             ]
            ],
            "type": "heatmapgl"
           }
          ],
          "histogram": [
           {
            "marker": {
             "colorbar": {
              "outlinewidth": 0,
              "ticks": ""
             }
            },
            "type": "histogram"
           }
          ],
          "histogram2d": [
           {
            "colorbar": {
             "outlinewidth": 0,
             "ticks": ""
            },
            "colorscale": [
             [
              0,
              "#0d0887"
             ],
             [
              0.1111111111111111,
              "#46039f"
             ],
             [
              0.2222222222222222,
              "#7201a8"
             ],
             [
              0.3333333333333333,
              "#9c179e"
             ],
             [
              0.4444444444444444,
              "#bd3786"
             ],
             [
              0.5555555555555556,
              "#d8576b"
             ],
             [
              0.6666666666666666,
              "#ed7953"
             ],
             [
              0.7777777777777778,
              "#fb9f3a"
             ],
             [
              0.8888888888888888,
              "#fdca26"
             ],
             [
              1,
              "#f0f921"
             ]
            ],
            "type": "histogram2d"
           }
          ],
          "histogram2dcontour": [
           {
            "colorbar": {
             "outlinewidth": 0,
             "ticks": ""
            },
            "colorscale": [
             [
              0,
              "#0d0887"
             ],
             [
              0.1111111111111111,
              "#46039f"
             ],
             [
              0.2222222222222222,
              "#7201a8"
             ],
             [
              0.3333333333333333,
              "#9c179e"
             ],
             [
              0.4444444444444444,
              "#bd3786"
             ],
             [
              0.5555555555555556,
              "#d8576b"
             ],
             [
              0.6666666666666666,
              "#ed7953"
             ],
             [
              0.7777777777777778,
              "#fb9f3a"
             ],
             [
              0.8888888888888888,
              "#fdca26"
             ],
             [
              1,
              "#f0f921"
             ]
            ],
            "type": "histogram2dcontour"
           }
          ],
          "mesh3d": [
           {
            "colorbar": {
             "outlinewidth": 0,
             "ticks": ""
            },
            "type": "mesh3d"
           }
          ],
          "parcoords": [
           {
            "line": {
             "colorbar": {
              "outlinewidth": 0,
              "ticks": ""
             }
            },
            "type": "parcoords"
           }
          ],
          "pie": [
           {
            "automargin": true,
            "type": "pie"
           }
          ],
          "scatter": [
           {
            "marker": {
             "colorbar": {
              "outlinewidth": 0,
              "ticks": ""
             }
            },
            "type": "scatter"
           }
          ],
          "scatter3d": [
           {
            "line": {
             "colorbar": {
              "outlinewidth": 0,
              "ticks": ""
             }
            },
            "marker": {
             "colorbar": {
              "outlinewidth": 0,
              "ticks": ""
             }
            },
            "type": "scatter3d"
           }
          ],
          "scattercarpet": [
           {
            "marker": {
             "colorbar": {
              "outlinewidth": 0,
              "ticks": ""
             }
            },
            "type": "scattercarpet"
           }
          ],
          "scattergeo": [
           {
            "marker": {
             "colorbar": {
              "outlinewidth": 0,
              "ticks": ""
             }
            },
            "type": "scattergeo"
           }
          ],
          "scattergl": [
           {
            "marker": {
             "colorbar": {
              "outlinewidth": 0,
              "ticks": ""
             }
            },
            "type": "scattergl"
           }
          ],
          "scattermapbox": [
           {
            "marker": {
             "colorbar": {
              "outlinewidth": 0,
              "ticks": ""
             }
            },
            "type": "scattermapbox"
           }
          ],
          "scatterpolar": [
           {
            "marker": {
             "colorbar": {
              "outlinewidth": 0,
              "ticks": ""
             }
            },
            "type": "scatterpolar"
           }
          ],
          "scatterpolargl": [
           {
            "marker": {
             "colorbar": {
              "outlinewidth": 0,
              "ticks": ""
             }
            },
            "type": "scatterpolargl"
           }
          ],
          "scatterternary": [
           {
            "marker": {
             "colorbar": {
              "outlinewidth": 0,
              "ticks": ""
             }
            },
            "type": "scatterternary"
           }
          ],
          "surface": [
           {
            "colorbar": {
             "outlinewidth": 0,
             "ticks": ""
            },
            "colorscale": [
             [
              0,
              "#0d0887"
             ],
             [
              0.1111111111111111,
              "#46039f"
             ],
             [
              0.2222222222222222,
              "#7201a8"
             ],
             [
              0.3333333333333333,
              "#9c179e"
             ],
             [
              0.4444444444444444,
              "#bd3786"
             ],
             [
              0.5555555555555556,
              "#d8576b"
             ],
             [
              0.6666666666666666,
              "#ed7953"
             ],
             [
              0.7777777777777778,
              "#fb9f3a"
             ],
             [
              0.8888888888888888,
              "#fdca26"
             ],
             [
              1,
              "#f0f921"
             ]
            ],
            "type": "surface"
           }
          ],
          "table": [
           {
            "cells": {
             "fill": {
              "color": "#EBF0F8"
             },
             "line": {
              "color": "white"
             }
            },
            "header": {
             "fill": {
              "color": "#C8D4E3"
             },
             "line": {
              "color": "white"
             }
            },
            "type": "table"
           }
          ]
         },
         "layout": {
          "annotationdefaults": {
           "arrowcolor": "#2a3f5f",
           "arrowhead": 0,
           "arrowwidth": 1
          },
          "autotypenumbers": "strict",
          "coloraxis": {
           "colorbar": {
            "outlinewidth": 0,
            "ticks": ""
           }
          },
          "colorscale": {
           "diverging": [
            [
             0,
             "#8e0152"
            ],
            [
             0.1,
             "#c51b7d"
            ],
            [
             0.2,
             "#de77ae"
            ],
            [
             0.3,
             "#f1b6da"
            ],
            [
             0.4,
             "#fde0ef"
            ],
            [
             0.5,
             "#f7f7f7"
            ],
            [
             0.6,
             "#e6f5d0"
            ],
            [
             0.7,
             "#b8e186"
            ],
            [
             0.8,
             "#7fbc41"
            ],
            [
             0.9,
             "#4d9221"
            ],
            [
             1,
             "#276419"
            ]
           ],
           "sequential": [
            [
             0,
             "#0d0887"
            ],
            [
             0.1111111111111111,
             "#46039f"
            ],
            [
             0.2222222222222222,
             "#7201a8"
            ],
            [
             0.3333333333333333,
             "#9c179e"
            ],
            [
             0.4444444444444444,
             "#bd3786"
            ],
            [
             0.5555555555555556,
             "#d8576b"
            ],
            [
             0.6666666666666666,
             "#ed7953"
            ],
            [
             0.7777777777777778,
             "#fb9f3a"
            ],
            [
             0.8888888888888888,
             "#fdca26"
            ],
            [
             1,
             "#f0f921"
            ]
           ],
           "sequentialminus": [
            [
             0,
             "#0d0887"
            ],
            [
             0.1111111111111111,
             "#46039f"
            ],
            [
             0.2222222222222222,
             "#7201a8"
            ],
            [
             0.3333333333333333,
             "#9c179e"
            ],
            [
             0.4444444444444444,
             "#bd3786"
            ],
            [
             0.5555555555555556,
             "#d8576b"
            ],
            [
             0.6666666666666666,
             "#ed7953"
            ],
            [
             0.7777777777777778,
             "#fb9f3a"
            ],
            [
             0.8888888888888888,
             "#fdca26"
            ],
            [
             1,
             "#f0f921"
            ]
           ]
          },
          "colorway": [
           "#636efa",
           "#EF553B",
           "#00cc96",
           "#ab63fa",
           "#FFA15A",
           "#19d3f3",
           "#FF6692",
           "#B6E880",
           "#FF97FF",
           "#FECB52"
          ],
          "font": {
           "color": "#2a3f5f"
          },
          "geo": {
           "bgcolor": "white",
           "lakecolor": "white",
           "landcolor": "#E5ECF6",
           "showlakes": true,
           "showland": true,
           "subunitcolor": "white"
          },
          "hoverlabel": {
           "align": "left"
          },
          "hovermode": "closest",
          "mapbox": {
           "style": "light"
          },
          "paper_bgcolor": "white",
          "plot_bgcolor": "#E5ECF6",
          "polar": {
           "angularaxis": {
            "gridcolor": "white",
            "linecolor": "white",
            "ticks": ""
           },
           "bgcolor": "#E5ECF6",
           "radialaxis": {
            "gridcolor": "white",
            "linecolor": "white",
            "ticks": ""
           }
          },
          "scene": {
           "xaxis": {
            "backgroundcolor": "#E5ECF6",
            "gridcolor": "white",
            "gridwidth": 2,
            "linecolor": "white",
            "showbackground": true,
            "ticks": "",
            "zerolinecolor": "white"
           },
           "yaxis": {
            "backgroundcolor": "#E5ECF6",
            "gridcolor": "white",
            "gridwidth": 2,
            "linecolor": "white",
            "showbackground": true,
            "ticks": "",
            "zerolinecolor": "white"
           },
           "zaxis": {
            "backgroundcolor": "#E5ECF6",
            "gridcolor": "white",
            "gridwidth": 2,
            "linecolor": "white",
            "showbackground": true,
            "ticks": "",
            "zerolinecolor": "white"
           }
          },
          "shapedefaults": {
           "line": {
            "color": "#2a3f5f"
           }
          },
          "ternary": {
           "aaxis": {
            "gridcolor": "white",
            "linecolor": "white",
            "ticks": ""
           },
           "baxis": {
            "gridcolor": "white",
            "linecolor": "white",
            "ticks": ""
           },
           "bgcolor": "#E5ECF6",
           "caxis": {
            "gridcolor": "white",
            "linecolor": "white",
            "ticks": ""
           }
          },
          "title": {
           "x": 0.05
          },
          "xaxis": {
           "automargin": true,
           "gridcolor": "white",
           "linecolor": "white",
           "ticks": "",
           "title": {
            "standoff": 15
           },
           "zerolinecolor": "white",
           "zerolinewidth": 2
          },
          "yaxis": {
           "automargin": true,
           "gridcolor": "white",
           "linecolor": "white",
           "ticks": "",
           "title": {
            "standoff": 15
           },
           "zerolinecolor": "white",
           "zerolinewidth": 2
          }
         }
        },
        "title": {
         "text": "State wise recovery cases of COVID-19 in USA"
        },
        "xaxis": {
         "anchor": "y",
         "domain": [
          0,
          1
         ],
         "title": {
          "text": "Province_State"
         }
        },
        "yaxis": {
         "anchor": "x",
         "domain": [
          0,
          1
         ],
         "title": {
          "text": "Active"
         }
        }
       }
      },
      "text/html": [
       "<div>                            <div id=\"c9d0f3e7-947a-49e4-920c-511c5cca0016\" class=\"plotly-graph-div\" style=\"height:525px; width:100%;\"></div>            <script type=\"text/javascript\">                require([\"plotly\"], function(Plotly) {                    window.PLOTLYENV=window.PLOTLYENV || {};                                    if (document.getElementById(\"c9d0f3e7-947a-49e4-920c-511c5cca0016\")) {                    Plotly.newPlot(                        \"c9d0f3e7-947a-49e4-920c-511c5cca0016\",                        [{\"alignmentgroup\": \"True\", \"hovertemplate\": \"Province_State=%{x}<br>Active=%{text}<extra></extra>\", \"legendgroup\": \"\", \"marker\": {\"color\": \"#636efa\"}, \"name\": \"\", \"offsetgroup\": \"\", \"orientation\": \"v\", \"showlegend\": false, \"text\": [288739.0, 40321.0, 395267.0, 181341.0, 1528218.0, 281763.0, 141398.0, 44061.0, 49.0, 23930.0, 1097188.0, 527965.0, 100.0, 6964.0, 19240.0, 119463.0, 826457.0, 412778.0, 251801.0, 186388.0, 218467.0, 257424.0, 15363.0, 226909.0, 274418.0, 453964.0, 370980.0, 173767.0, 345786.0, 71828.0, 146323.0, 181429.0, 29644.0, 378764.0, 116445.0, 729525.0, 423980.0, 86438.0, 111.0, 545984.0, 231294.0, 91689.0, 472959.0, 60457.0, 69309.0, 244113.0, 89164.0, 437553.0, 1376381.0, 230783.0, 5531.0, 1768.0, 274206.0, 196856.0, 61185.0, 461667.0, 38586.0], \"textposition\": \"auto\", \"type\": \"bar\", \"x\": [\"Alabama\", \"Alaska\", \"Arizona\", \"Arkansas\", \"California\", \"Colorado\", \"Connecticut\", \"Delaware\", \"Diamond Princess\", \"District of Columbia\", \"Florida\", \"Georgia\", \"Grand Princess\", \"Guam\", \"Hawaii\", \"Idaho\", \"Illinois\", \"Indiana\", \"Iowa\", \"Kansas\", \"Kentucky\", \"Louisiana\", \"Maine\", \"Maryland\", \"Massachusetts\", \"Michigan\", \"Minnesota\", \"Mississippi\", \"Missouri\", \"Montana\", \"Nebraska\", \"Nevada\", \"New Hampshire\", \"New Jersey\", \"New Mexico\", \"New York\", \"North Carolina\", \"North Dakota\", \"Northern Mariana Islands\", \"Ohio\", \"Oklahoma\", \"Oregon\", \"Pennsylvania\", \"Puerto Rico\", \"Rhode Island\", \"South Carolina\", \"South Dakota\", \"Tennessee\", \"Texas\", \"Utah\", \"Vermont\", \"Virgin Islands\", \"Virginia\", \"Washington\", \"West Virginia\", \"Wisconsin\", \"Wyoming\"], \"xaxis\": \"x\", \"y\": [288739, 40321, 395267, 181341, 1528218, 281763, 141398, 44061, 49, 23930, 1097188, 527965, 100, 6964, 19240, 119463, 826457, 412778, 251801, 186388, 218467, 257424, 15363, 226909, 274418, 453964, 370980, 173767, 345786, 71828, 146323, 181429, 29644, 378764, 116445, 729525, 423980, 86438, 111, 545984, 231294, 91689, 472959, 60457, 69309, 244113, 89164, 437553, 1376381, 230783, 5531, 1768, 274206, 196856, 61185, 461667, 38586], \"yaxis\": \"y\"}],                        {\"barmode\": \"relative\", \"legend\": {\"tracegroupgap\": 0}, \"template\": {\"data\": {\"bar\": [{\"error_x\": {\"color\": \"#2a3f5f\"}, \"error_y\": {\"color\": \"#2a3f5f\"}, \"marker\": {\"line\": {\"color\": \"#E5ECF6\", \"width\": 0.5}}, \"type\": \"bar\"}], \"barpolar\": [{\"marker\": {\"line\": {\"color\": \"#E5ECF6\", \"width\": 0.5}}, \"type\": \"barpolar\"}], \"carpet\": [{\"aaxis\": {\"endlinecolor\": \"#2a3f5f\", \"gridcolor\": \"white\", \"linecolor\": \"white\", \"minorgridcolor\": \"white\", \"startlinecolor\": \"#2a3f5f\"}, \"baxis\": {\"endlinecolor\": \"#2a3f5f\", \"gridcolor\": \"white\", \"linecolor\": \"white\", \"minorgridcolor\": \"white\", \"startlinecolor\": \"#2a3f5f\"}, \"type\": \"carpet\"}], \"choropleth\": [{\"colorbar\": {\"outlinewidth\": 0, \"ticks\": \"\"}, \"type\": \"choropleth\"}], \"contour\": [{\"colorbar\": {\"outlinewidth\": 0, \"ticks\": \"\"}, \"colorscale\": [[0.0, \"#0d0887\"], [0.1111111111111111, \"#46039f\"], [0.2222222222222222, \"#7201a8\"], [0.3333333333333333, \"#9c179e\"], [0.4444444444444444, \"#bd3786\"], [0.5555555555555556, \"#d8576b\"], [0.6666666666666666, \"#ed7953\"], [0.7777777777777778, \"#fb9f3a\"], [0.8888888888888888, \"#fdca26\"], [1.0, \"#f0f921\"]], \"type\": \"contour\"}], \"contourcarpet\": [{\"colorbar\": {\"outlinewidth\": 0, \"ticks\": \"\"}, \"type\": \"contourcarpet\"}], \"heatmap\": [{\"colorbar\": {\"outlinewidth\": 0, \"ticks\": \"\"}, \"colorscale\": [[0.0, \"#0d0887\"], [0.1111111111111111, \"#46039f\"], [0.2222222222222222, \"#7201a8\"], [0.3333333333333333, \"#9c179e\"], [0.4444444444444444, \"#bd3786\"], [0.5555555555555556, \"#d8576b\"], [0.6666666666666666, \"#ed7953\"], [0.7777777777777778, \"#fb9f3a\"], [0.8888888888888888, \"#fdca26\"], [1.0, \"#f0f921\"]], \"type\": \"heatmap\"}], \"heatmapgl\": [{\"colorbar\": {\"outlinewidth\": 0, \"ticks\": \"\"}, \"colorscale\": [[0.0, \"#0d0887\"], [0.1111111111111111, \"#46039f\"], [0.2222222222222222, \"#7201a8\"], [0.3333333333333333, \"#9c179e\"], [0.4444444444444444, \"#bd3786\"], [0.5555555555555556, \"#d8576b\"], [0.6666666666666666, \"#ed7953\"], [0.7777777777777778, \"#fb9f3a\"], [0.8888888888888888, \"#fdca26\"], [1.0, \"#f0f921\"]], \"type\": \"heatmapgl\"}], \"histogram\": [{\"marker\": {\"colorbar\": {\"outlinewidth\": 0, \"ticks\": \"\"}}, \"type\": \"histogram\"}], \"histogram2d\": [{\"colorbar\": {\"outlinewidth\": 0, \"ticks\": \"\"}, \"colorscale\": [[0.0, \"#0d0887\"], [0.1111111111111111, \"#46039f\"], [0.2222222222222222, \"#7201a8\"], [0.3333333333333333, \"#9c179e\"], [0.4444444444444444, \"#bd3786\"], [0.5555555555555556, \"#d8576b\"], [0.6666666666666666, \"#ed7953\"], [0.7777777777777778, \"#fb9f3a\"], [0.8888888888888888, \"#fdca26\"], [1.0, \"#f0f921\"]], \"type\": \"histogram2d\"}], \"histogram2dcontour\": [{\"colorbar\": {\"outlinewidth\": 0, \"ticks\": \"\"}, \"colorscale\": [[0.0, \"#0d0887\"], [0.1111111111111111, \"#46039f\"], [0.2222222222222222, \"#7201a8\"], [0.3333333333333333, \"#9c179e\"], [0.4444444444444444, \"#bd3786\"], [0.5555555555555556, \"#d8576b\"], [0.6666666666666666, \"#ed7953\"], [0.7777777777777778, \"#fb9f3a\"], [0.8888888888888888, \"#fdca26\"], [1.0, \"#f0f921\"]], \"type\": \"histogram2dcontour\"}], \"mesh3d\": [{\"colorbar\": {\"outlinewidth\": 0, \"ticks\": \"\"}, \"type\": \"mesh3d\"}], \"parcoords\": [{\"line\": {\"colorbar\": {\"outlinewidth\": 0, \"ticks\": \"\"}}, \"type\": \"parcoords\"}], \"pie\": [{\"automargin\": true, \"type\": \"pie\"}], \"scatter\": [{\"marker\": {\"colorbar\": {\"outlinewidth\": 0, \"ticks\": \"\"}}, \"type\": \"scatter\"}], \"scatter3d\": [{\"line\": {\"colorbar\": {\"outlinewidth\": 0, \"ticks\": \"\"}}, \"marker\": {\"colorbar\": {\"outlinewidth\": 0, \"ticks\": \"\"}}, \"type\": \"scatter3d\"}], \"scattercarpet\": [{\"marker\": {\"colorbar\": {\"outlinewidth\": 0, \"ticks\": \"\"}}, \"type\": \"scattercarpet\"}], \"scattergeo\": [{\"marker\": {\"colorbar\": {\"outlinewidth\": 0, \"ticks\": \"\"}}, \"type\": \"scattergeo\"}], \"scattergl\": [{\"marker\": {\"colorbar\": {\"outlinewidth\": 0, \"ticks\": \"\"}}, \"type\": \"scattergl\"}], \"scattermapbox\": [{\"marker\": {\"colorbar\": {\"outlinewidth\": 0, \"ticks\": \"\"}}, \"type\": \"scattermapbox\"}], \"scatterpolar\": [{\"marker\": {\"colorbar\": {\"outlinewidth\": 0, \"ticks\": \"\"}}, \"type\": \"scatterpolar\"}], \"scatterpolargl\": [{\"marker\": {\"colorbar\": {\"outlinewidth\": 0, \"ticks\": \"\"}}, \"type\": \"scatterpolargl\"}], \"scatterternary\": [{\"marker\": {\"colorbar\": {\"outlinewidth\": 0, \"ticks\": \"\"}}, \"type\": \"scatterternary\"}], \"surface\": [{\"colorbar\": {\"outlinewidth\": 0, \"ticks\": \"\"}, \"colorscale\": [[0.0, \"#0d0887\"], [0.1111111111111111, \"#46039f\"], [0.2222222222222222, \"#7201a8\"], [0.3333333333333333, \"#9c179e\"], [0.4444444444444444, \"#bd3786\"], [0.5555555555555556, \"#d8576b\"], [0.6666666666666666, \"#ed7953\"], [0.7777777777777778, \"#fb9f3a\"], [0.8888888888888888, \"#fdca26\"], [1.0, \"#f0f921\"]], \"type\": \"surface\"}], \"table\": [{\"cells\": {\"fill\": {\"color\": \"#EBF0F8\"}, \"line\": {\"color\": \"white\"}}, \"header\": {\"fill\": {\"color\": \"#C8D4E3\"}, \"line\": {\"color\": \"white\"}}, \"type\": \"table\"}]}, \"layout\": {\"annotationdefaults\": {\"arrowcolor\": \"#2a3f5f\", \"arrowhead\": 0, \"arrowwidth\": 1}, \"autotypenumbers\": \"strict\", \"coloraxis\": {\"colorbar\": {\"outlinewidth\": 0, \"ticks\": \"\"}}, \"colorscale\": {\"diverging\": [[0, \"#8e0152\"], [0.1, \"#c51b7d\"], [0.2, \"#de77ae\"], [0.3, \"#f1b6da\"], [0.4, \"#fde0ef\"], [0.5, \"#f7f7f7\"], [0.6, \"#e6f5d0\"], [0.7, \"#b8e186\"], [0.8, \"#7fbc41\"], [0.9, \"#4d9221\"], [1, \"#276419\"]], \"sequential\": [[0.0, \"#0d0887\"], [0.1111111111111111, \"#46039f\"], [0.2222222222222222, \"#7201a8\"], [0.3333333333333333, \"#9c179e\"], [0.4444444444444444, \"#bd3786\"], [0.5555555555555556, \"#d8576b\"], [0.6666666666666666, \"#ed7953\"], [0.7777777777777778, \"#fb9f3a\"], [0.8888888888888888, \"#fdca26\"], [1.0, \"#f0f921\"]], \"sequentialminus\": [[0.0, \"#0d0887\"], [0.1111111111111111, \"#46039f\"], [0.2222222222222222, \"#7201a8\"], [0.3333333333333333, \"#9c179e\"], [0.4444444444444444, \"#bd3786\"], [0.5555555555555556, \"#d8576b\"], [0.6666666666666666, \"#ed7953\"], [0.7777777777777778, \"#fb9f3a\"], [0.8888888888888888, \"#fdca26\"], [1.0, \"#f0f921\"]]}, \"colorway\": [\"#636efa\", \"#EF553B\", \"#00cc96\", \"#ab63fa\", \"#FFA15A\", \"#19d3f3\", \"#FF6692\", \"#B6E880\", \"#FF97FF\", \"#FECB52\"], \"font\": {\"color\": \"#2a3f5f\"}, \"geo\": {\"bgcolor\": \"white\", \"lakecolor\": \"white\", \"landcolor\": \"#E5ECF6\", \"showlakes\": true, \"showland\": true, \"subunitcolor\": \"white\"}, \"hoverlabel\": {\"align\": \"left\"}, \"hovermode\": \"closest\", \"mapbox\": {\"style\": \"light\"}, \"paper_bgcolor\": \"white\", \"plot_bgcolor\": \"#E5ECF6\", \"polar\": {\"angularaxis\": {\"gridcolor\": \"white\", \"linecolor\": \"white\", \"ticks\": \"\"}, \"bgcolor\": \"#E5ECF6\", \"radialaxis\": {\"gridcolor\": \"white\", \"linecolor\": \"white\", \"ticks\": \"\"}}, \"scene\": {\"xaxis\": {\"backgroundcolor\": \"#E5ECF6\", \"gridcolor\": \"white\", \"gridwidth\": 2, \"linecolor\": \"white\", \"showbackground\": true, \"ticks\": \"\", \"zerolinecolor\": \"white\"}, \"yaxis\": {\"backgroundcolor\": \"#E5ECF6\", \"gridcolor\": \"white\", \"gridwidth\": 2, \"linecolor\": \"white\", \"showbackground\": true, \"ticks\": \"\", \"zerolinecolor\": \"white\"}, \"zaxis\": {\"backgroundcolor\": \"#E5ECF6\", \"gridcolor\": \"white\", \"gridwidth\": 2, \"linecolor\": \"white\", \"showbackground\": true, \"ticks\": \"\", \"zerolinecolor\": \"white\"}}, \"shapedefaults\": {\"line\": {\"color\": \"#2a3f5f\"}}, \"ternary\": {\"aaxis\": {\"gridcolor\": \"white\", \"linecolor\": \"white\", \"ticks\": \"\"}, \"baxis\": {\"gridcolor\": \"white\", \"linecolor\": \"white\", \"ticks\": \"\"}, \"bgcolor\": \"#E5ECF6\", \"caxis\": {\"gridcolor\": \"white\", \"linecolor\": \"white\", \"ticks\": \"\"}}, \"title\": {\"x\": 0.05}, \"xaxis\": {\"automargin\": true, \"gridcolor\": \"white\", \"linecolor\": \"white\", \"ticks\": \"\", \"title\": {\"standoff\": 15}, \"zerolinecolor\": \"white\", \"zerolinewidth\": 2}, \"yaxis\": {\"automargin\": true, \"gridcolor\": \"white\", \"linecolor\": \"white\", \"ticks\": \"\", \"title\": {\"standoff\": 15}, \"zerolinecolor\": \"white\", \"zerolinewidth\": 2}}}, \"title\": {\"text\": \"State wise recovery cases of COVID-19 in USA\"}, \"xaxis\": {\"anchor\": \"y\", \"domain\": [0.0, 1.0], \"title\": {\"text\": \"Province_State\"}}, \"yaxis\": {\"anchor\": \"x\", \"domain\": [0.0, 1.0], \"title\": {\"text\": \"Active\"}}},                        {\"responsive\": true}                    ).then(function(){\n",
       "                            \n",
       "var gd = document.getElementById('c9d0f3e7-947a-49e4-920c-511c5cca0016');\n",
       "var x = new MutationObserver(function (mutations, observer) {{\n",
       "        var display = window.getComputedStyle(gd).display;\n",
       "        if (!display || display === 'none') {{\n",
       "            console.log([gd, 'removed!']);\n",
       "            Plotly.purge(gd);\n",
       "            observer.disconnect();\n",
       "        }}\n",
       "}});\n",
       "\n",
       "// Listen for the removal of the full notebook cells\n",
       "var notebookContainer = gd.closest('#notebook-container');\n",
       "if (notebookContainer) {{\n",
       "    x.observe(notebookContainer, {childList: true});\n",
       "}}\n",
       "\n",
       "// Listen for the clearing of the current output cell\n",
       "var outputEl = gd.closest('.output');\n",
       "if (outputEl) {{\n",
       "    x.observe(outputEl, {childList: true});\n",
       "}}\n",
       "\n",
       "                        })                };                });            </script>        </div>"
      ]
     },
     "metadata": {},
     "output_type": "display_data"
    }
   ],
   "source": [
    "df['Active'] = df['Confirmed'] - df['Deaths'] - df['Recovered']\n",
    "us_data2 = df[df['Country_Region']=='US'].drop(['Country_Region',], axis=1)\n",
    "us_data2 = us_data2[us_data2.sum(axis = 1) > 0]\n",
    " \n",
    "us_data2 = us_data2.groupby(['Province_State'])['Active'].sum().reset_index()\n",
    "us_data_death = us_data2[us_data2['Active'] > 0]\n",
    "state_fig = px.bar(us_data_death, x='Province_State', y='Active', title='State wise recovery cases of COVID-19 in USA', text='Active')\n",
    "state_fig.show()"
   ]
  },
  {
   "cell_type": "markdown",
   "metadata": {},
   "source": [
    "# Task 13"
   ]
  },
  {
   "cell_type": "markdown",
   "metadata": {},
   "source": [
    "Write a Python program to visualize the state/province wise combined number of confirmed, deaths, recovered, active Novel Coronavirus (COVID-19) cases in Pakistan"
   ]
  },
  {
   "cell_type": "code",
   "execution_count": 9,
   "metadata": {},
   "outputs": [
    {
     "name": "stderr",
     "output_type": "stream",
     "text": [
      "<ipython-input-9-ee253ad7b6ea>:4: FutureWarning:\n",
      "\n",
      "Indexing with multiple keys (implicitly converted to a tuple of keys) will be deprecated, use a list instead.\n",
      "\n"
     ]
    },
    {
     "data": {
      "application/vnd.plotly.v1+json": {
       "config": {
        "plotlyServerURL": "https://plot.ly"
       },
       "data": [
        {
         "alignmentgroup": "True",
         "hovertemplate": "Case=Confirmed<br>Province_State=%{x}<br>Count=%{text}<extra></extra>",
         "legendgroup": "Confirmed",
         "marker": {
          "color": "#636efa"
         },
         "name": "Confirmed",
         "offsetgroup": "Confirmed",
         "orientation": "v",
         "showlegend": true,
         "text": [
          7663,
          17737,
          4783,
          34579,
          52092,
          127212,
          194359
         ],
         "textposition": "auto",
         "type": "bar",
         "x": [
          "Azad Jammu and Kashmir",
          "Balochistan",
          "Gilgit-Baltistan",
          "Islamabad",
          "Khyber Pakhtunkhwa",
          "Punjab",
          "Sindh"
         ],
         "xaxis": "x",
         "y": [
          7663,
          17737,
          4783,
          34579,
          52092,
          127212,
          194359
         ],
         "yaxis": "y"
        },
        {
         "alignmentgroup": "True",
         "hovertemplate": "Case=Deaths<br>Province_State=%{x}<br>Count=%{text}<extra></extra>",
         "legendgroup": "Deaths",
         "marker": {
          "color": "#EF553B"
         },
         "name": "Deaths",
         "offsetgroup": "Deaths",
         "orientation": "v",
         "showlegend": true,
         "text": [
          191,
          175,
          99,
          368,
          1463,
          3351,
          3149
         ],
         "textposition": "auto",
         "type": "bar",
         "x": [
          "Azad Jammu and Kashmir",
          "Balochistan",
          "Gilgit-Baltistan",
          "Islamabad",
          "Khyber Pakhtunkhwa",
          "Punjab",
          "Sindh"
         ],
         "xaxis": "x",
         "y": [
          191,
          175,
          99,
          368,
          1463,
          3351,
          3149
         ],
         "yaxis": "y"
        },
        {
         "alignmentgroup": "True",
         "hovertemplate": "Case=Recovered<br>Province_State=%{x}<br>Count=%{text}<extra></extra>",
         "legendgroup": "Recovered",
         "marker": {
          "color": "#00cc96"
         },
         "name": "Recovered",
         "offsetgroup": "Recovered",
         "orientation": "v",
         "showlegend": true,
         "text": [
          6156,
          16997,
          4559,
          28020,
          45866,
          114910,
          166492
         ],
         "textposition": "auto",
         "type": "bar",
         "x": [
          "Azad Jammu and Kashmir",
          "Balochistan",
          "Gilgit-Baltistan",
          "Islamabad",
          "Khyber Pakhtunkhwa",
          "Punjab",
          "Sindh"
         ],
         "xaxis": "x",
         "y": [
          6156,
          16997,
          4559,
          28020,
          45866,
          114910,
          166492
         ],
         "yaxis": "y"
        },
        {
         "alignmentgroup": "True",
         "hovertemplate": "Case=Active<br>Province_State=%{x}<br>Count=%{text}<extra></extra>",
         "legendgroup": "Active",
         "marker": {
          "color": "#ab63fa"
         },
         "name": "Active",
         "offsetgroup": "Active",
         "orientation": "v",
         "showlegend": true,
         "text": [
          1316,
          565,
          125,
          6191,
          4763,
          8951,
          24718
         ],
         "textposition": "auto",
         "type": "bar",
         "x": [
          "Azad Jammu and Kashmir",
          "Balochistan",
          "Gilgit-Baltistan",
          "Islamabad",
          "Khyber Pakhtunkhwa",
          "Punjab",
          "Sindh"
         ],
         "xaxis": "x",
         "y": [
          1316,
          565,
          125,
          6191,
          4763,
          8951,
          24718
         ],
         "yaxis": "y"
        }
       ],
       "layout": {
        "barmode": "group",
        "legend": {
         "title": {
          "text": "Case"
         },
         "tracegroupgap": 0
        },
        "template": {
         "data": {
          "bar": [
           {
            "error_x": {
             "color": "#2a3f5f"
            },
            "error_y": {
             "color": "#2a3f5f"
            },
            "marker": {
             "line": {
              "color": "#E5ECF6",
              "width": 0.5
             }
            },
            "type": "bar"
           }
          ],
          "barpolar": [
           {
            "marker": {
             "line": {
              "color": "#E5ECF6",
              "width": 0.5
             }
            },
            "type": "barpolar"
           }
          ],
          "carpet": [
           {
            "aaxis": {
             "endlinecolor": "#2a3f5f",
             "gridcolor": "white",
             "linecolor": "white",
             "minorgridcolor": "white",
             "startlinecolor": "#2a3f5f"
            },
            "baxis": {
             "endlinecolor": "#2a3f5f",
             "gridcolor": "white",
             "linecolor": "white",
             "minorgridcolor": "white",
             "startlinecolor": "#2a3f5f"
            },
            "type": "carpet"
           }
          ],
          "choropleth": [
           {
            "colorbar": {
             "outlinewidth": 0,
             "ticks": ""
            },
            "type": "choropleth"
           }
          ],
          "contour": [
           {
            "colorbar": {
             "outlinewidth": 0,
             "ticks": ""
            },
            "colorscale": [
             [
              0,
              "#0d0887"
             ],
             [
              0.1111111111111111,
              "#46039f"
             ],
             [
              0.2222222222222222,
              "#7201a8"
             ],
             [
              0.3333333333333333,
              "#9c179e"
             ],
             [
              0.4444444444444444,
              "#bd3786"
             ],
             [
              0.5555555555555556,
              "#d8576b"
             ],
             [
              0.6666666666666666,
              "#ed7953"
             ],
             [
              0.7777777777777778,
              "#fb9f3a"
             ],
             [
              0.8888888888888888,
              "#fdca26"
             ],
             [
              1,
              "#f0f921"
             ]
            ],
            "type": "contour"
           }
          ],
          "contourcarpet": [
           {
            "colorbar": {
             "outlinewidth": 0,
             "ticks": ""
            },
            "type": "contourcarpet"
           }
          ],
          "heatmap": [
           {
            "colorbar": {
             "outlinewidth": 0,
             "ticks": ""
            },
            "colorscale": [
             [
              0,
              "#0d0887"
             ],
             [
              0.1111111111111111,
              "#46039f"
             ],
             [
              0.2222222222222222,
              "#7201a8"
             ],
             [
              0.3333333333333333,
              "#9c179e"
             ],
             [
              0.4444444444444444,
              "#bd3786"
             ],
             [
              0.5555555555555556,
              "#d8576b"
             ],
             [
              0.6666666666666666,
              "#ed7953"
             ],
             [
              0.7777777777777778,
              "#fb9f3a"
             ],
             [
              0.8888888888888888,
              "#fdca26"
             ],
             [
              1,
              "#f0f921"
             ]
            ],
            "type": "heatmap"
           }
          ],
          "heatmapgl": [
           {
            "colorbar": {
             "outlinewidth": 0,
             "ticks": ""
            },
            "colorscale": [
             [
              0,
              "#0d0887"
             ],
             [
              0.1111111111111111,
              "#46039f"
             ],
             [
              0.2222222222222222,
              "#7201a8"
             ],
             [
              0.3333333333333333,
              "#9c179e"
             ],
             [
              0.4444444444444444,
              "#bd3786"
             ],
             [
              0.5555555555555556,
              "#d8576b"
             ],
             [
              0.6666666666666666,
              "#ed7953"
             ],
             [
              0.7777777777777778,
              "#fb9f3a"
             ],
             [
              0.8888888888888888,
              "#fdca26"
             ],
             [
              1,
              "#f0f921"
             ]
            ],
            "type": "heatmapgl"
           }
          ],
          "histogram": [
           {
            "marker": {
             "colorbar": {
              "outlinewidth": 0,
              "ticks": ""
             }
            },
            "type": "histogram"
           }
          ],
          "histogram2d": [
           {
            "colorbar": {
             "outlinewidth": 0,
             "ticks": ""
            },
            "colorscale": [
             [
              0,
              "#0d0887"
             ],
             [
              0.1111111111111111,
              "#46039f"
             ],
             [
              0.2222222222222222,
              "#7201a8"
             ],
             [
              0.3333333333333333,
              "#9c179e"
             ],
             [
              0.4444444444444444,
              "#bd3786"
             ],
             [
              0.5555555555555556,
              "#d8576b"
             ],
             [
              0.6666666666666666,
              "#ed7953"
             ],
             [
              0.7777777777777778,
              "#fb9f3a"
             ],
             [
              0.8888888888888888,
              "#fdca26"
             ],
             [
              1,
              "#f0f921"
             ]
            ],
            "type": "histogram2d"
           }
          ],
          "histogram2dcontour": [
           {
            "colorbar": {
             "outlinewidth": 0,
             "ticks": ""
            },
            "colorscale": [
             [
              0,
              "#0d0887"
             ],
             [
              0.1111111111111111,
              "#46039f"
             ],
             [
              0.2222222222222222,
              "#7201a8"
             ],
             [
              0.3333333333333333,
              "#9c179e"
             ],
             [
              0.4444444444444444,
              "#bd3786"
             ],
             [
              0.5555555555555556,
              "#d8576b"
             ],
             [
              0.6666666666666666,
              "#ed7953"
             ],
             [
              0.7777777777777778,
              "#fb9f3a"
             ],
             [
              0.8888888888888888,
              "#fdca26"
             ],
             [
              1,
              "#f0f921"
             ]
            ],
            "type": "histogram2dcontour"
           }
          ],
          "mesh3d": [
           {
            "colorbar": {
             "outlinewidth": 0,
             "ticks": ""
            },
            "type": "mesh3d"
           }
          ],
          "parcoords": [
           {
            "line": {
             "colorbar": {
              "outlinewidth": 0,
              "ticks": ""
             }
            },
            "type": "parcoords"
           }
          ],
          "pie": [
           {
            "automargin": true,
            "type": "pie"
           }
          ],
          "scatter": [
           {
            "marker": {
             "colorbar": {
              "outlinewidth": 0,
              "ticks": ""
             }
            },
            "type": "scatter"
           }
          ],
          "scatter3d": [
           {
            "line": {
             "colorbar": {
              "outlinewidth": 0,
              "ticks": ""
             }
            },
            "marker": {
             "colorbar": {
              "outlinewidth": 0,
              "ticks": ""
             }
            },
            "type": "scatter3d"
           }
          ],
          "scattercarpet": [
           {
            "marker": {
             "colorbar": {
              "outlinewidth": 0,
              "ticks": ""
             }
            },
            "type": "scattercarpet"
           }
          ],
          "scattergeo": [
           {
            "marker": {
             "colorbar": {
              "outlinewidth": 0,
              "ticks": ""
             }
            },
            "type": "scattergeo"
           }
          ],
          "scattergl": [
           {
            "marker": {
             "colorbar": {
              "outlinewidth": 0,
              "ticks": ""
             }
            },
            "type": "scattergl"
           }
          ],
          "scattermapbox": [
           {
            "marker": {
             "colorbar": {
              "outlinewidth": 0,
              "ticks": ""
             }
            },
            "type": "scattermapbox"
           }
          ],
          "scatterpolar": [
           {
            "marker": {
             "colorbar": {
              "outlinewidth": 0,
              "ticks": ""
             }
            },
            "type": "scatterpolar"
           }
          ],
          "scatterpolargl": [
           {
            "marker": {
             "colorbar": {
              "outlinewidth": 0,
              "ticks": ""
             }
            },
            "type": "scatterpolargl"
           }
          ],
          "scatterternary": [
           {
            "marker": {
             "colorbar": {
              "outlinewidth": 0,
              "ticks": ""
             }
            },
            "type": "scatterternary"
           }
          ],
          "surface": [
           {
            "colorbar": {
             "outlinewidth": 0,
             "ticks": ""
            },
            "colorscale": [
             [
              0,
              "#0d0887"
             ],
             [
              0.1111111111111111,
              "#46039f"
             ],
             [
              0.2222222222222222,
              "#7201a8"
             ],
             [
              0.3333333333333333,
              "#9c179e"
             ],
             [
              0.4444444444444444,
              "#bd3786"
             ],
             [
              0.5555555555555556,
              "#d8576b"
             ],
             [
              0.6666666666666666,
              "#ed7953"
             ],
             [
              0.7777777777777778,
              "#fb9f3a"
             ],
             [
              0.8888888888888888,
              "#fdca26"
             ],
             [
              1,
              "#f0f921"
             ]
            ],
            "type": "surface"
           }
          ],
          "table": [
           {
            "cells": {
             "fill": {
              "color": "#EBF0F8"
             },
             "line": {
              "color": "white"
             }
            },
            "header": {
             "fill": {
              "color": "#C8D4E3"
             },
             "line": {
              "color": "white"
             }
            },
            "type": "table"
           }
          ]
         },
         "layout": {
          "annotationdefaults": {
           "arrowcolor": "#2a3f5f",
           "arrowhead": 0,
           "arrowwidth": 1
          },
          "autotypenumbers": "strict",
          "coloraxis": {
           "colorbar": {
            "outlinewidth": 0,
            "ticks": ""
           }
          },
          "colorscale": {
           "diverging": [
            [
             0,
             "#8e0152"
            ],
            [
             0.1,
             "#c51b7d"
            ],
            [
             0.2,
             "#de77ae"
            ],
            [
             0.3,
             "#f1b6da"
            ],
            [
             0.4,
             "#fde0ef"
            ],
            [
             0.5,
             "#f7f7f7"
            ],
            [
             0.6,
             "#e6f5d0"
            ],
            [
             0.7,
             "#b8e186"
            ],
            [
             0.8,
             "#7fbc41"
            ],
            [
             0.9,
             "#4d9221"
            ],
            [
             1,
             "#276419"
            ]
           ],
           "sequential": [
            [
             0,
             "#0d0887"
            ],
            [
             0.1111111111111111,
             "#46039f"
            ],
            [
             0.2222222222222222,
             "#7201a8"
            ],
            [
             0.3333333333333333,
             "#9c179e"
            ],
            [
             0.4444444444444444,
             "#bd3786"
            ],
            [
             0.5555555555555556,
             "#d8576b"
            ],
            [
             0.6666666666666666,
             "#ed7953"
            ],
            [
             0.7777777777777778,
             "#fb9f3a"
            ],
            [
             0.8888888888888888,
             "#fdca26"
            ],
            [
             1,
             "#f0f921"
            ]
           ],
           "sequentialminus": [
            [
             0,
             "#0d0887"
            ],
            [
             0.1111111111111111,
             "#46039f"
            ],
            [
             0.2222222222222222,
             "#7201a8"
            ],
            [
             0.3333333333333333,
             "#9c179e"
            ],
            [
             0.4444444444444444,
             "#bd3786"
            ],
            [
             0.5555555555555556,
             "#d8576b"
            ],
            [
             0.6666666666666666,
             "#ed7953"
            ],
            [
             0.7777777777777778,
             "#fb9f3a"
            ],
            [
             0.8888888888888888,
             "#fdca26"
            ],
            [
             1,
             "#f0f921"
            ]
           ]
          },
          "colorway": [
           "#636efa",
           "#EF553B",
           "#00cc96",
           "#ab63fa",
           "#FFA15A",
           "#19d3f3",
           "#FF6692",
           "#B6E880",
           "#FF97FF",
           "#FECB52"
          ],
          "font": {
           "color": "#2a3f5f"
          },
          "geo": {
           "bgcolor": "white",
           "lakecolor": "white",
           "landcolor": "#E5ECF6",
           "showlakes": true,
           "showland": true,
           "subunitcolor": "white"
          },
          "hoverlabel": {
           "align": "left"
          },
          "hovermode": "closest",
          "mapbox": {
           "style": "light"
          },
          "paper_bgcolor": "white",
          "plot_bgcolor": "#E5ECF6",
          "polar": {
           "angularaxis": {
            "gridcolor": "white",
            "linecolor": "white",
            "ticks": ""
           },
           "bgcolor": "#E5ECF6",
           "radialaxis": {
            "gridcolor": "white",
            "linecolor": "white",
            "ticks": ""
           }
          },
          "scene": {
           "xaxis": {
            "backgroundcolor": "#E5ECF6",
            "gridcolor": "white",
            "gridwidth": 2,
            "linecolor": "white",
            "showbackground": true,
            "ticks": "",
            "zerolinecolor": "white"
           },
           "yaxis": {
            "backgroundcolor": "#E5ECF6",
            "gridcolor": "white",
            "gridwidth": 2,
            "linecolor": "white",
            "showbackground": true,
            "ticks": "",
            "zerolinecolor": "white"
           },
           "zaxis": {
            "backgroundcolor": "#E5ECF6",
            "gridcolor": "white",
            "gridwidth": 2,
            "linecolor": "white",
            "showbackground": true,
            "ticks": "",
            "zerolinecolor": "white"
           }
          },
          "shapedefaults": {
           "line": {
            "color": "#2a3f5f"
           }
          },
          "ternary": {
           "aaxis": {
            "gridcolor": "white",
            "linecolor": "white",
            "ticks": ""
           },
           "baxis": {
            "gridcolor": "white",
            "linecolor": "white",
            "ticks": ""
           },
           "bgcolor": "#E5ECF6",
           "caxis": {
            "gridcolor": "white",
            "linecolor": "white",
            "ticks": ""
           }
          },
          "title": {
           "x": 0.05
          },
          "xaxis": {
           "automargin": true,
           "gridcolor": "white",
           "linecolor": "white",
           "ticks": "",
           "title": {
            "standoff": 15
           },
           "zerolinecolor": "white",
           "zerolinewidth": 2
          },
          "yaxis": {
           "automargin": true,
           "gridcolor": "white",
           "linecolor": "white",
           "ticks": "",
           "title": {
            "standoff": 15
           },
           "zerolinecolor": "white",
           "zerolinewidth": 2
          }
         }
        },
        "title": {
         "text": "Pakistan State wise combine number of confirmed, deaths, recovered, active COVID-19 cases"
        },
        "xaxis": {
         "anchor": "y",
         "domain": [
          0,
          1
         ],
         "title": {
          "text": "Province_State"
         }
        },
        "yaxis": {
         "anchor": "x",
         "domain": [
          0,
          1
         ],
         "title": {
          "text": "Count"
         }
        }
       }
      },
      "text/html": [
       "<div>                            <div id=\"8ef610e4-3a82-43bc-a124-d02d7bd0fcf3\" class=\"plotly-graph-div\" style=\"height:525px; width:100%;\"></div>            <script type=\"text/javascript\">                require([\"plotly\"], function(Plotly) {                    window.PLOTLYENV=window.PLOTLYENV || {};                                    if (document.getElementById(\"8ef610e4-3a82-43bc-a124-d02d7bd0fcf3\")) {                    Plotly.newPlot(                        \"8ef610e4-3a82-43bc-a124-d02d7bd0fcf3\",                        [{\"alignmentgroup\": \"True\", \"hovertemplate\": \"Case=Confirmed<br>Province_State=%{x}<br>Count=%{text}<extra></extra>\", \"legendgroup\": \"Confirmed\", \"marker\": {\"color\": \"#636efa\"}, \"name\": \"Confirmed\", \"offsetgroup\": \"Confirmed\", \"orientation\": \"v\", \"showlegend\": true, \"text\": [7663.0, 17737.0, 4783.0, 34579.0, 52092.0, 127212.0, 194359.0], \"textposition\": \"auto\", \"type\": \"bar\", \"x\": [\"Azad Jammu and Kashmir\", \"Balochistan\", \"Gilgit-Baltistan\", \"Islamabad\", \"Khyber Pakhtunkhwa\", \"Punjab\", \"Sindh\"], \"xaxis\": \"x\", \"y\": [7663, 17737, 4783, 34579, 52092, 127212, 194359], \"yaxis\": \"y\"}, {\"alignmentgroup\": \"True\", \"hovertemplate\": \"Case=Deaths<br>Province_State=%{x}<br>Count=%{text}<extra></extra>\", \"legendgroup\": \"Deaths\", \"marker\": {\"color\": \"#EF553B\"}, \"name\": \"Deaths\", \"offsetgroup\": \"Deaths\", \"orientation\": \"v\", \"showlegend\": true, \"text\": [191.0, 175.0, 99.0, 368.0, 1463.0, 3351.0, 3149.0], \"textposition\": \"auto\", \"type\": \"bar\", \"x\": [\"Azad Jammu and Kashmir\", \"Balochistan\", \"Gilgit-Baltistan\", \"Islamabad\", \"Khyber Pakhtunkhwa\", \"Punjab\", \"Sindh\"], \"xaxis\": \"x\", \"y\": [191, 175, 99, 368, 1463, 3351, 3149], \"yaxis\": \"y\"}, {\"alignmentgroup\": \"True\", \"hovertemplate\": \"Case=Recovered<br>Province_State=%{x}<br>Count=%{text}<extra></extra>\", \"legendgroup\": \"Recovered\", \"marker\": {\"color\": \"#00cc96\"}, \"name\": \"Recovered\", \"offsetgroup\": \"Recovered\", \"orientation\": \"v\", \"showlegend\": true, \"text\": [6156.0, 16997.0, 4559.0, 28020.0, 45866.0, 114910.0, 166492.0], \"textposition\": \"auto\", \"type\": \"bar\", \"x\": [\"Azad Jammu and Kashmir\", \"Balochistan\", \"Gilgit-Baltistan\", \"Islamabad\", \"Khyber Pakhtunkhwa\", \"Punjab\", \"Sindh\"], \"xaxis\": \"x\", \"y\": [6156, 16997, 4559, 28020, 45866, 114910, 166492], \"yaxis\": \"y\"}, {\"alignmentgroup\": \"True\", \"hovertemplate\": \"Case=Active<br>Province_State=%{x}<br>Count=%{text}<extra></extra>\", \"legendgroup\": \"Active\", \"marker\": {\"color\": \"#ab63fa\"}, \"name\": \"Active\", \"offsetgroup\": \"Active\", \"orientation\": \"v\", \"showlegend\": true, \"text\": [1316.0, 565.0, 125.0, 6191.0, 4763.0, 8951.0, 24718.0], \"textposition\": \"auto\", \"type\": \"bar\", \"x\": [\"Azad Jammu and Kashmir\", \"Balochistan\", \"Gilgit-Baltistan\", \"Islamabad\", \"Khyber Pakhtunkhwa\", \"Punjab\", \"Sindh\"], \"xaxis\": \"x\", \"y\": [1316, 565, 125, 6191, 4763, 8951, 24718], \"yaxis\": \"y\"}],                        {\"barmode\": \"group\", \"legend\": {\"title\": {\"text\": \"Case\"}, \"tracegroupgap\": 0}, \"template\": {\"data\": {\"bar\": [{\"error_x\": {\"color\": \"#2a3f5f\"}, \"error_y\": {\"color\": \"#2a3f5f\"}, \"marker\": {\"line\": {\"color\": \"#E5ECF6\", \"width\": 0.5}}, \"type\": \"bar\"}], \"barpolar\": [{\"marker\": {\"line\": {\"color\": \"#E5ECF6\", \"width\": 0.5}}, \"type\": \"barpolar\"}], \"carpet\": [{\"aaxis\": {\"endlinecolor\": \"#2a3f5f\", \"gridcolor\": \"white\", \"linecolor\": \"white\", \"minorgridcolor\": \"white\", \"startlinecolor\": \"#2a3f5f\"}, \"baxis\": {\"endlinecolor\": \"#2a3f5f\", \"gridcolor\": \"white\", \"linecolor\": \"white\", \"minorgridcolor\": \"white\", \"startlinecolor\": \"#2a3f5f\"}, \"type\": \"carpet\"}], \"choropleth\": [{\"colorbar\": {\"outlinewidth\": 0, \"ticks\": \"\"}, \"type\": \"choropleth\"}], \"contour\": [{\"colorbar\": {\"outlinewidth\": 0, \"ticks\": \"\"}, \"colorscale\": [[0.0, \"#0d0887\"], [0.1111111111111111, \"#46039f\"], [0.2222222222222222, \"#7201a8\"], [0.3333333333333333, \"#9c179e\"], [0.4444444444444444, \"#bd3786\"], [0.5555555555555556, \"#d8576b\"], [0.6666666666666666, \"#ed7953\"], [0.7777777777777778, \"#fb9f3a\"], [0.8888888888888888, \"#fdca26\"], [1.0, \"#f0f921\"]], \"type\": \"contour\"}], \"contourcarpet\": [{\"colorbar\": {\"outlinewidth\": 0, \"ticks\": \"\"}, \"type\": \"contourcarpet\"}], \"heatmap\": [{\"colorbar\": {\"outlinewidth\": 0, \"ticks\": \"\"}, \"colorscale\": [[0.0, \"#0d0887\"], [0.1111111111111111, \"#46039f\"], [0.2222222222222222, \"#7201a8\"], [0.3333333333333333, \"#9c179e\"], [0.4444444444444444, \"#bd3786\"], [0.5555555555555556, \"#d8576b\"], [0.6666666666666666, \"#ed7953\"], [0.7777777777777778, \"#fb9f3a\"], [0.8888888888888888, \"#fdca26\"], [1.0, \"#f0f921\"]], \"type\": \"heatmap\"}], \"heatmapgl\": [{\"colorbar\": {\"outlinewidth\": 0, \"ticks\": \"\"}, \"colorscale\": [[0.0, \"#0d0887\"], [0.1111111111111111, \"#46039f\"], [0.2222222222222222, \"#7201a8\"], [0.3333333333333333, \"#9c179e\"], [0.4444444444444444, \"#bd3786\"], [0.5555555555555556, \"#d8576b\"], [0.6666666666666666, \"#ed7953\"], [0.7777777777777778, \"#fb9f3a\"], [0.8888888888888888, \"#fdca26\"], [1.0, \"#f0f921\"]], \"type\": \"heatmapgl\"}], \"histogram\": [{\"marker\": {\"colorbar\": {\"outlinewidth\": 0, \"ticks\": \"\"}}, \"type\": \"histogram\"}], \"histogram2d\": [{\"colorbar\": {\"outlinewidth\": 0, \"ticks\": \"\"}, \"colorscale\": [[0.0, \"#0d0887\"], [0.1111111111111111, \"#46039f\"], [0.2222222222222222, \"#7201a8\"], [0.3333333333333333, \"#9c179e\"], [0.4444444444444444, \"#bd3786\"], [0.5555555555555556, \"#d8576b\"], [0.6666666666666666, \"#ed7953\"], [0.7777777777777778, \"#fb9f3a\"], [0.8888888888888888, \"#fdca26\"], [1.0, \"#f0f921\"]], \"type\": \"histogram2d\"}], \"histogram2dcontour\": [{\"colorbar\": {\"outlinewidth\": 0, \"ticks\": \"\"}, \"colorscale\": [[0.0, \"#0d0887\"], [0.1111111111111111, \"#46039f\"], [0.2222222222222222, \"#7201a8\"], [0.3333333333333333, \"#9c179e\"], [0.4444444444444444, \"#bd3786\"], [0.5555555555555556, \"#d8576b\"], [0.6666666666666666, \"#ed7953\"], [0.7777777777777778, \"#fb9f3a\"], [0.8888888888888888, \"#fdca26\"], [1.0, \"#f0f921\"]], \"type\": \"histogram2dcontour\"}], \"mesh3d\": [{\"colorbar\": {\"outlinewidth\": 0, \"ticks\": \"\"}, \"type\": \"mesh3d\"}], \"parcoords\": [{\"line\": {\"colorbar\": {\"outlinewidth\": 0, \"ticks\": \"\"}}, \"type\": \"parcoords\"}], \"pie\": [{\"automargin\": true, \"type\": \"pie\"}], \"scatter\": [{\"marker\": {\"colorbar\": {\"outlinewidth\": 0, \"ticks\": \"\"}}, \"type\": \"scatter\"}], \"scatter3d\": [{\"line\": {\"colorbar\": {\"outlinewidth\": 0, \"ticks\": \"\"}}, \"marker\": {\"colorbar\": {\"outlinewidth\": 0, \"ticks\": \"\"}}, \"type\": \"scatter3d\"}], \"scattercarpet\": [{\"marker\": {\"colorbar\": {\"outlinewidth\": 0, \"ticks\": \"\"}}, \"type\": \"scattercarpet\"}], \"scattergeo\": [{\"marker\": {\"colorbar\": {\"outlinewidth\": 0, \"ticks\": \"\"}}, \"type\": \"scattergeo\"}], \"scattergl\": [{\"marker\": {\"colorbar\": {\"outlinewidth\": 0, \"ticks\": \"\"}}, \"type\": \"scattergl\"}], \"scattermapbox\": [{\"marker\": {\"colorbar\": {\"outlinewidth\": 0, \"ticks\": \"\"}}, \"type\": \"scattermapbox\"}], \"scatterpolar\": [{\"marker\": {\"colorbar\": {\"outlinewidth\": 0, \"ticks\": \"\"}}, \"type\": \"scatterpolar\"}], \"scatterpolargl\": [{\"marker\": {\"colorbar\": {\"outlinewidth\": 0, \"ticks\": \"\"}}, \"type\": \"scatterpolargl\"}], \"scatterternary\": [{\"marker\": {\"colorbar\": {\"outlinewidth\": 0, \"ticks\": \"\"}}, \"type\": \"scatterternary\"}], \"surface\": [{\"colorbar\": {\"outlinewidth\": 0, \"ticks\": \"\"}, \"colorscale\": [[0.0, \"#0d0887\"], [0.1111111111111111, \"#46039f\"], [0.2222222222222222, \"#7201a8\"], [0.3333333333333333, \"#9c179e\"], [0.4444444444444444, \"#bd3786\"], [0.5555555555555556, \"#d8576b\"], [0.6666666666666666, \"#ed7953\"], [0.7777777777777778, \"#fb9f3a\"], [0.8888888888888888, \"#fdca26\"], [1.0, \"#f0f921\"]], \"type\": \"surface\"}], \"table\": [{\"cells\": {\"fill\": {\"color\": \"#EBF0F8\"}, \"line\": {\"color\": \"white\"}}, \"header\": {\"fill\": {\"color\": \"#C8D4E3\"}, \"line\": {\"color\": \"white\"}}, \"type\": \"table\"}]}, \"layout\": {\"annotationdefaults\": {\"arrowcolor\": \"#2a3f5f\", \"arrowhead\": 0, \"arrowwidth\": 1}, \"autotypenumbers\": \"strict\", \"coloraxis\": {\"colorbar\": {\"outlinewidth\": 0, \"ticks\": \"\"}}, \"colorscale\": {\"diverging\": [[0, \"#8e0152\"], [0.1, \"#c51b7d\"], [0.2, \"#de77ae\"], [0.3, \"#f1b6da\"], [0.4, \"#fde0ef\"], [0.5, \"#f7f7f7\"], [0.6, \"#e6f5d0\"], [0.7, \"#b8e186\"], [0.8, \"#7fbc41\"], [0.9, \"#4d9221\"], [1, \"#276419\"]], \"sequential\": [[0.0, \"#0d0887\"], [0.1111111111111111, \"#46039f\"], [0.2222222222222222, \"#7201a8\"], [0.3333333333333333, \"#9c179e\"], [0.4444444444444444, \"#bd3786\"], [0.5555555555555556, \"#d8576b\"], [0.6666666666666666, \"#ed7953\"], [0.7777777777777778, \"#fb9f3a\"], [0.8888888888888888, \"#fdca26\"], [1.0, \"#f0f921\"]], \"sequentialminus\": [[0.0, \"#0d0887\"], [0.1111111111111111, \"#46039f\"], [0.2222222222222222, \"#7201a8\"], [0.3333333333333333, \"#9c179e\"], [0.4444444444444444, \"#bd3786\"], [0.5555555555555556, \"#d8576b\"], [0.6666666666666666, \"#ed7953\"], [0.7777777777777778, \"#fb9f3a\"], [0.8888888888888888, \"#fdca26\"], [1.0, \"#f0f921\"]]}, \"colorway\": [\"#636efa\", \"#EF553B\", \"#00cc96\", \"#ab63fa\", \"#FFA15A\", \"#19d3f3\", \"#FF6692\", \"#B6E880\", \"#FF97FF\", \"#FECB52\"], \"font\": {\"color\": \"#2a3f5f\"}, \"geo\": {\"bgcolor\": \"white\", \"lakecolor\": \"white\", \"landcolor\": \"#E5ECF6\", \"showlakes\": true, \"showland\": true, \"subunitcolor\": \"white\"}, \"hoverlabel\": {\"align\": \"left\"}, \"hovermode\": \"closest\", \"mapbox\": {\"style\": \"light\"}, \"paper_bgcolor\": \"white\", \"plot_bgcolor\": \"#E5ECF6\", \"polar\": {\"angularaxis\": {\"gridcolor\": \"white\", \"linecolor\": \"white\", \"ticks\": \"\"}, \"bgcolor\": \"#E5ECF6\", \"radialaxis\": {\"gridcolor\": \"white\", \"linecolor\": \"white\", \"ticks\": \"\"}}, \"scene\": {\"xaxis\": {\"backgroundcolor\": \"#E5ECF6\", \"gridcolor\": \"white\", \"gridwidth\": 2, \"linecolor\": \"white\", \"showbackground\": true, \"ticks\": \"\", \"zerolinecolor\": \"white\"}, \"yaxis\": {\"backgroundcolor\": \"#E5ECF6\", \"gridcolor\": \"white\", \"gridwidth\": 2, \"linecolor\": \"white\", \"showbackground\": true, \"ticks\": \"\", \"zerolinecolor\": \"white\"}, \"zaxis\": {\"backgroundcolor\": \"#E5ECF6\", \"gridcolor\": \"white\", \"gridwidth\": 2, \"linecolor\": \"white\", \"showbackground\": true, \"ticks\": \"\", \"zerolinecolor\": \"white\"}}, \"shapedefaults\": {\"line\": {\"color\": \"#2a3f5f\"}}, \"ternary\": {\"aaxis\": {\"gridcolor\": \"white\", \"linecolor\": \"white\", \"ticks\": \"\"}, \"baxis\": {\"gridcolor\": \"white\", \"linecolor\": \"white\", \"ticks\": \"\"}, \"bgcolor\": \"#E5ECF6\", \"caxis\": {\"gridcolor\": \"white\", \"linecolor\": \"white\", \"ticks\": \"\"}}, \"title\": {\"x\": 0.05}, \"xaxis\": {\"automargin\": true, \"gridcolor\": \"white\", \"linecolor\": \"white\", \"ticks\": \"\", \"title\": {\"standoff\": 15}, \"zerolinecolor\": \"white\", \"zerolinewidth\": 2}, \"yaxis\": {\"automargin\": true, \"gridcolor\": \"white\", \"linecolor\": \"white\", \"ticks\": \"\", \"title\": {\"standoff\": 15}, \"zerolinecolor\": \"white\", \"zerolinewidth\": 2}}}, \"title\": {\"text\": \"Pakistan State wise combine number of confirmed, deaths, recovered, active COVID-19 cases\"}, \"xaxis\": {\"anchor\": \"y\", \"domain\": [0.0, 1.0], \"title\": {\"text\": \"Province_State\"}}, \"yaxis\": {\"anchor\": \"x\", \"domain\": [0.0, 1.0], \"title\": {\"text\": \"Count\"}}},                        {\"responsive\": true}                    ).then(function(){\n",
       "                            \n",
       "var gd = document.getElementById('8ef610e4-3a82-43bc-a124-d02d7bd0fcf3');\n",
       "var x = new MutationObserver(function (mutations, observer) {{\n",
       "        var display = window.getComputedStyle(gd).display;\n",
       "        if (!display || display === 'none') {{\n",
       "            console.log([gd, 'removed!']);\n",
       "            Plotly.purge(gd);\n",
       "            observer.disconnect();\n",
       "        }}\n",
       "}});\n",
       "\n",
       "// Listen for the removal of the full notebook cells\n",
       "var notebookContainer = gd.closest('#notebook-container');\n",
       "if (notebookContainer) {{\n",
       "    x.observe(notebookContainer, {childList: true});\n",
       "}}\n",
       "\n",
       "// Listen for the clearing of the current output cell\n",
       "var outputEl = gd.closest('.output');\n",
       "if (outputEl) {{\n",
       "    x.observe(outputEl, {childList: true});\n",
       "}}\n",
       "\n",
       "                        })                };                });            </script>        </div>"
      ]
     },
     "metadata": {},
     "output_type": "display_data"
    }
   ],
   "source": [
    "df['Active'] = df['Confirmed'] - df['Deaths'] - df['Recovered']\n",
    "pk_data = df[df['Country_Region']=='Pakistan'].drop(['Country_Region',], axis=1)\n",
    "pk_data = pk_data[pk_data.sum(axis = 1) > 0]\n",
    "pk_data = pk_data.groupby(['Province_State'])['Confirmed', 'Deaths', 'Recovered', 'Active'].sum().reset_index()\n",
    "pk_data = pd.melt(pk_data, id_vars='Province_State', value_vars=['Confirmed', 'Deaths', 'Recovered', 'Active'], value_name='Count', var_name='Case')\n",
    "fig = px.bar(pk_data, x='Province_State', y='Count', text='Count', barmode='group', color='Case', title='Pakistan State wise combine number of confirmed, deaths, recovered, active COVID-19 cases')\n",
    "fig.show()"
   ]
  },
  {
   "cell_type": "markdown",
   "metadata": {},
   "source": [
    "# Task 14"
   ]
  },
  {
   "cell_type": "markdown",
   "metadata": {},
   "source": [
    "Write a Python program to visualize Worldwide Confirmed Novel Coronavirus (COVID-19) cases over time"
   ]
  },
  {
   "cell_type": "code",
   "execution_count": 11,
   "metadata": {},
   "outputs": [
    {
     "name": "stderr",
     "output_type": "stream",
     "text": [
      "<ipython-input-11-7d51ac72ef10>:1: FutureWarning:\n",
      "\n",
      "Indexing with multiple keys (implicitly converted to a tuple of keys) will be deprecated, use a list instead.\n",
      "\n"
     ]
    },
    {
     "data": {
      "application/vnd.plotly.v1+json": {
       "config": {
        "plotlyServerURL": "https://plot.ly"
       },
       "data": [
        {
         "hovertemplate": "Last_Update=%{x}<br>Confirmed=%{y}<extra></extra>",
         "legendgroup": "",
         "line": {
          "color": "#636efa",
          "dash": "solid"
         },
         "mode": "lines",
         "name": "",
         "orientation": "v",
         "showlegend": false,
         "type": "scatter",
         "x": [
          "2020-08-04 02:27:56",
          "2020-08-07 22:34:20",
          "2020-12-13 05:27:20"
         ],
         "xaxis": "x",
         "y": [
          152,
          0,
          71704733
         ],
         "yaxis": "y"
        }
       ],
       "layout": {
        "legend": {
         "tracegroupgap": 0
        },
        "template": {
         "data": {
          "bar": [
           {
            "error_x": {
             "color": "#2a3f5f"
            },
            "error_y": {
             "color": "#2a3f5f"
            },
            "marker": {
             "line": {
              "color": "#E5ECF6",
              "width": 0.5
             }
            },
            "type": "bar"
           }
          ],
          "barpolar": [
           {
            "marker": {
             "line": {
              "color": "#E5ECF6",
              "width": 0.5
             }
            },
            "type": "barpolar"
           }
          ],
          "carpet": [
           {
            "aaxis": {
             "endlinecolor": "#2a3f5f",
             "gridcolor": "white",
             "linecolor": "white",
             "minorgridcolor": "white",
             "startlinecolor": "#2a3f5f"
            },
            "baxis": {
             "endlinecolor": "#2a3f5f",
             "gridcolor": "white",
             "linecolor": "white",
             "minorgridcolor": "white",
             "startlinecolor": "#2a3f5f"
            },
            "type": "carpet"
           }
          ],
          "choropleth": [
           {
            "colorbar": {
             "outlinewidth": 0,
             "ticks": ""
            },
            "type": "choropleth"
           }
          ],
          "contour": [
           {
            "colorbar": {
             "outlinewidth": 0,
             "ticks": ""
            },
            "colorscale": [
             [
              0,
              "#0d0887"
             ],
             [
              0.1111111111111111,
              "#46039f"
             ],
             [
              0.2222222222222222,
              "#7201a8"
             ],
             [
              0.3333333333333333,
              "#9c179e"
             ],
             [
              0.4444444444444444,
              "#bd3786"
             ],
             [
              0.5555555555555556,
              "#d8576b"
             ],
             [
              0.6666666666666666,
              "#ed7953"
             ],
             [
              0.7777777777777778,
              "#fb9f3a"
             ],
             [
              0.8888888888888888,
              "#fdca26"
             ],
             [
              1,
              "#f0f921"
             ]
            ],
            "type": "contour"
           }
          ],
          "contourcarpet": [
           {
            "colorbar": {
             "outlinewidth": 0,
             "ticks": ""
            },
            "type": "contourcarpet"
           }
          ],
          "heatmap": [
           {
            "colorbar": {
             "outlinewidth": 0,
             "ticks": ""
            },
            "colorscale": [
             [
              0,
              "#0d0887"
             ],
             [
              0.1111111111111111,
              "#46039f"
             ],
             [
              0.2222222222222222,
              "#7201a8"
             ],
             [
              0.3333333333333333,
              "#9c179e"
             ],
             [
              0.4444444444444444,
              "#bd3786"
             ],
             [
              0.5555555555555556,
              "#d8576b"
             ],
             [
              0.6666666666666666,
              "#ed7953"
             ],
             [
              0.7777777777777778,
              "#fb9f3a"
             ],
             [
              0.8888888888888888,
              "#fdca26"
             ],
             [
              1,
              "#f0f921"
             ]
            ],
            "type": "heatmap"
           }
          ],
          "heatmapgl": [
           {
            "colorbar": {
             "outlinewidth": 0,
             "ticks": ""
            },
            "colorscale": [
             [
              0,
              "#0d0887"
             ],
             [
              0.1111111111111111,
              "#46039f"
             ],
             [
              0.2222222222222222,
              "#7201a8"
             ],
             [
              0.3333333333333333,
              "#9c179e"
             ],
             [
              0.4444444444444444,
              "#bd3786"
             ],
             [
              0.5555555555555556,
              "#d8576b"
             ],
             [
              0.6666666666666666,
              "#ed7953"
             ],
             [
              0.7777777777777778,
              "#fb9f3a"
             ],
             [
              0.8888888888888888,
              "#fdca26"
             ],
             [
              1,
              "#f0f921"
             ]
            ],
            "type": "heatmapgl"
           }
          ],
          "histogram": [
           {
            "marker": {
             "colorbar": {
              "outlinewidth": 0,
              "ticks": ""
             }
            },
            "type": "histogram"
           }
          ],
          "histogram2d": [
           {
            "colorbar": {
             "outlinewidth": 0,
             "ticks": ""
            },
            "colorscale": [
             [
              0,
              "#0d0887"
             ],
             [
              0.1111111111111111,
              "#46039f"
             ],
             [
              0.2222222222222222,
              "#7201a8"
             ],
             [
              0.3333333333333333,
              "#9c179e"
             ],
             [
              0.4444444444444444,
              "#bd3786"
             ],
             [
              0.5555555555555556,
              "#d8576b"
             ],
             [
              0.6666666666666666,
              "#ed7953"
             ],
             [
              0.7777777777777778,
              "#fb9f3a"
             ],
             [
              0.8888888888888888,
              "#fdca26"
             ],
             [
              1,
              "#f0f921"
             ]
            ],
            "type": "histogram2d"
           }
          ],
          "histogram2dcontour": [
           {
            "colorbar": {
             "outlinewidth": 0,
             "ticks": ""
            },
            "colorscale": [
             [
              0,
              "#0d0887"
             ],
             [
              0.1111111111111111,
              "#46039f"
             ],
             [
              0.2222222222222222,
              "#7201a8"
             ],
             [
              0.3333333333333333,
              "#9c179e"
             ],
             [
              0.4444444444444444,
              "#bd3786"
             ],
             [
              0.5555555555555556,
              "#d8576b"
             ],
             [
              0.6666666666666666,
              "#ed7953"
             ],
             [
              0.7777777777777778,
              "#fb9f3a"
             ],
             [
              0.8888888888888888,
              "#fdca26"
             ],
             [
              1,
              "#f0f921"
             ]
            ],
            "type": "histogram2dcontour"
           }
          ],
          "mesh3d": [
           {
            "colorbar": {
             "outlinewidth": 0,
             "ticks": ""
            },
            "type": "mesh3d"
           }
          ],
          "parcoords": [
           {
            "line": {
             "colorbar": {
              "outlinewidth": 0,
              "ticks": ""
             }
            },
            "type": "parcoords"
           }
          ],
          "pie": [
           {
            "automargin": true,
            "type": "pie"
           }
          ],
          "scatter": [
           {
            "marker": {
             "colorbar": {
              "outlinewidth": 0,
              "ticks": ""
             }
            },
            "type": "scatter"
           }
          ],
          "scatter3d": [
           {
            "line": {
             "colorbar": {
              "outlinewidth": 0,
              "ticks": ""
             }
            },
            "marker": {
             "colorbar": {
              "outlinewidth": 0,
              "ticks": ""
             }
            },
            "type": "scatter3d"
           }
          ],
          "scattercarpet": [
           {
            "marker": {
             "colorbar": {
              "outlinewidth": 0,
              "ticks": ""
             }
            },
            "type": "scattercarpet"
           }
          ],
          "scattergeo": [
           {
            "marker": {
             "colorbar": {
              "outlinewidth": 0,
              "ticks": ""
             }
            },
            "type": "scattergeo"
           }
          ],
          "scattergl": [
           {
            "marker": {
             "colorbar": {
              "outlinewidth": 0,
              "ticks": ""
             }
            },
            "type": "scattergl"
           }
          ],
          "scattermapbox": [
           {
            "marker": {
             "colorbar": {
              "outlinewidth": 0,
              "ticks": ""
             }
            },
            "type": "scattermapbox"
           }
          ],
          "scatterpolar": [
           {
            "marker": {
             "colorbar": {
              "outlinewidth": 0,
              "ticks": ""
             }
            },
            "type": "scatterpolar"
           }
          ],
          "scatterpolargl": [
           {
            "marker": {
             "colorbar": {
              "outlinewidth": 0,
              "ticks": ""
             }
            },
            "type": "scatterpolargl"
           }
          ],
          "scatterternary": [
           {
            "marker": {
             "colorbar": {
              "outlinewidth": 0,
              "ticks": ""
             }
            },
            "type": "scatterternary"
           }
          ],
          "surface": [
           {
            "colorbar": {
             "outlinewidth": 0,
             "ticks": ""
            },
            "colorscale": [
             [
              0,
              "#0d0887"
             ],
             [
              0.1111111111111111,
              "#46039f"
             ],
             [
              0.2222222222222222,
              "#7201a8"
             ],
             [
              0.3333333333333333,
              "#9c179e"
             ],
             [
              0.4444444444444444,
              "#bd3786"
             ],
             [
              0.5555555555555556,
              "#d8576b"
             ],
             [
              0.6666666666666666,
              "#ed7953"
             ],
             [
              0.7777777777777778,
              "#fb9f3a"
             ],
             [
              0.8888888888888888,
              "#fdca26"
             ],
             [
              1,
              "#f0f921"
             ]
            ],
            "type": "surface"
           }
          ],
          "table": [
           {
            "cells": {
             "fill": {
              "color": "#EBF0F8"
             },
             "line": {
              "color": "white"
             }
            },
            "header": {
             "fill": {
              "color": "#C8D4E3"
             },
             "line": {
              "color": "white"
             }
            },
            "type": "table"
           }
          ]
         },
         "layout": {
          "annotationdefaults": {
           "arrowcolor": "#2a3f5f",
           "arrowhead": 0,
           "arrowwidth": 1
          },
          "autotypenumbers": "strict",
          "coloraxis": {
           "colorbar": {
            "outlinewidth": 0,
            "ticks": ""
           }
          },
          "colorscale": {
           "diverging": [
            [
             0,
             "#8e0152"
            ],
            [
             0.1,
             "#c51b7d"
            ],
            [
             0.2,
             "#de77ae"
            ],
            [
             0.3,
             "#f1b6da"
            ],
            [
             0.4,
             "#fde0ef"
            ],
            [
             0.5,
             "#f7f7f7"
            ],
            [
             0.6,
             "#e6f5d0"
            ],
            [
             0.7,
             "#b8e186"
            ],
            [
             0.8,
             "#7fbc41"
            ],
            [
             0.9,
             "#4d9221"
            ],
            [
             1,
             "#276419"
            ]
           ],
           "sequential": [
            [
             0,
             "#0d0887"
            ],
            [
             0.1111111111111111,
             "#46039f"
            ],
            [
             0.2222222222222222,
             "#7201a8"
            ],
            [
             0.3333333333333333,
             "#9c179e"
            ],
            [
             0.4444444444444444,
             "#bd3786"
            ],
            [
             0.5555555555555556,
             "#d8576b"
            ],
            [
             0.6666666666666666,
             "#ed7953"
            ],
            [
             0.7777777777777778,
             "#fb9f3a"
            ],
            [
             0.8888888888888888,
             "#fdca26"
            ],
            [
             1,
             "#f0f921"
            ]
           ],
           "sequentialminus": [
            [
             0,
             "#0d0887"
            ],
            [
             0.1111111111111111,
             "#46039f"
            ],
            [
             0.2222222222222222,
             "#7201a8"
            ],
            [
             0.3333333333333333,
             "#9c179e"
            ],
            [
             0.4444444444444444,
             "#bd3786"
            ],
            [
             0.5555555555555556,
             "#d8576b"
            ],
            [
             0.6666666666666666,
             "#ed7953"
            ],
            [
             0.7777777777777778,
             "#fb9f3a"
            ],
            [
             0.8888888888888888,
             "#fdca26"
            ],
            [
             1,
             "#f0f921"
            ]
           ]
          },
          "colorway": [
           "#636efa",
           "#EF553B",
           "#00cc96",
           "#ab63fa",
           "#FFA15A",
           "#19d3f3",
           "#FF6692",
           "#B6E880",
           "#FF97FF",
           "#FECB52"
          ],
          "font": {
           "color": "#2a3f5f"
          },
          "geo": {
           "bgcolor": "white",
           "lakecolor": "white",
           "landcolor": "#E5ECF6",
           "showlakes": true,
           "showland": true,
           "subunitcolor": "white"
          },
          "hoverlabel": {
           "align": "left"
          },
          "hovermode": "closest",
          "mapbox": {
           "style": "light"
          },
          "paper_bgcolor": "white",
          "plot_bgcolor": "#E5ECF6",
          "polar": {
           "angularaxis": {
            "gridcolor": "white",
            "linecolor": "white",
            "ticks": ""
           },
           "bgcolor": "#E5ECF6",
           "radialaxis": {
            "gridcolor": "white",
            "linecolor": "white",
            "ticks": ""
           }
          },
          "scene": {
           "xaxis": {
            "backgroundcolor": "#E5ECF6",
            "gridcolor": "white",
            "gridwidth": 2,
            "linecolor": "white",
            "showbackground": true,
            "ticks": "",
            "zerolinecolor": "white"
           },
           "yaxis": {
            "backgroundcolor": "#E5ECF6",
            "gridcolor": "white",
            "gridwidth": 2,
            "linecolor": "white",
            "showbackground": true,
            "ticks": "",
            "zerolinecolor": "white"
           },
           "zaxis": {
            "backgroundcolor": "#E5ECF6",
            "gridcolor": "white",
            "gridwidth": 2,
            "linecolor": "white",
            "showbackground": true,
            "ticks": "",
            "zerolinecolor": "white"
           }
          },
          "shapedefaults": {
           "line": {
            "color": "#2a3f5f"
           }
          },
          "ternary": {
           "aaxis": {
            "gridcolor": "white",
            "linecolor": "white",
            "ticks": ""
           },
           "baxis": {
            "gridcolor": "white",
            "linecolor": "white",
            "ticks": ""
           },
           "bgcolor": "#E5ECF6",
           "caxis": {
            "gridcolor": "white",
            "linecolor": "white",
            "ticks": ""
           }
          },
          "title": {
           "x": 0.05
          },
          "xaxis": {
           "automargin": true,
           "gridcolor": "white",
           "linecolor": "white",
           "ticks": "",
           "title": {
            "standoff": 15
           },
           "zerolinecolor": "white",
           "zerolinewidth": 2
          },
          "yaxis": {
           "automargin": true,
           "gridcolor": "white",
           "linecolor": "white",
           "ticks": "",
           "title": {
            "standoff": 15
           },
           "zerolinecolor": "white",
           "zerolinewidth": 2
          }
         }
        },
        "title": {
         "text": "Worldwide Confirmed Novel Coronavirus(COVID-19) Cases Over Time"
        },
        "xaxis": {
         "anchor": "y",
         "domain": [
          0,
          1
         ],
         "title": {
          "text": "Last_Update"
         }
        },
        "yaxis": {
         "anchor": "x",
         "domain": [
          0,
          1
         ],
         "title": {
          "text": "Confirmed"
         }
        }
       }
      },
      "text/html": [
       "<div>                            <div id=\"24b43abb-1cac-4959-827d-e19a36889236\" class=\"plotly-graph-div\" style=\"height:525px; width:100%;\"></div>            <script type=\"text/javascript\">                require([\"plotly\"], function(Plotly) {                    window.PLOTLYENV=window.PLOTLYENV || {};                                    if (document.getElementById(\"24b43abb-1cac-4959-827d-e19a36889236\")) {                    Plotly.newPlot(                        \"24b43abb-1cac-4959-827d-e19a36889236\",                        [{\"hovertemplate\": \"Last_Update=%{x}<br>Confirmed=%{y}<extra></extra>\", \"legendgroup\": \"\", \"line\": {\"color\": \"#636efa\", \"dash\": \"solid\"}, \"mode\": \"lines\", \"name\": \"\", \"orientation\": \"v\", \"showlegend\": false, \"type\": \"scatter\", \"x\": [\"2020-08-04 02:27:56\", \"2020-08-07 22:34:20\", \"2020-12-13 05:27:20\"], \"xaxis\": \"x\", \"y\": [152, 0, 71704733], \"yaxis\": \"y\"}],                        {\"legend\": {\"tracegroupgap\": 0}, \"template\": {\"data\": {\"bar\": [{\"error_x\": {\"color\": \"#2a3f5f\"}, \"error_y\": {\"color\": \"#2a3f5f\"}, \"marker\": {\"line\": {\"color\": \"#E5ECF6\", \"width\": 0.5}}, \"type\": \"bar\"}], \"barpolar\": [{\"marker\": {\"line\": {\"color\": \"#E5ECF6\", \"width\": 0.5}}, \"type\": \"barpolar\"}], \"carpet\": [{\"aaxis\": {\"endlinecolor\": \"#2a3f5f\", \"gridcolor\": \"white\", \"linecolor\": \"white\", \"minorgridcolor\": \"white\", \"startlinecolor\": \"#2a3f5f\"}, \"baxis\": {\"endlinecolor\": \"#2a3f5f\", \"gridcolor\": \"white\", \"linecolor\": \"white\", \"minorgridcolor\": \"white\", \"startlinecolor\": \"#2a3f5f\"}, \"type\": \"carpet\"}], \"choropleth\": [{\"colorbar\": {\"outlinewidth\": 0, \"ticks\": \"\"}, \"type\": \"choropleth\"}], \"contour\": [{\"colorbar\": {\"outlinewidth\": 0, \"ticks\": \"\"}, \"colorscale\": [[0.0, \"#0d0887\"], [0.1111111111111111, \"#46039f\"], [0.2222222222222222, \"#7201a8\"], [0.3333333333333333, \"#9c179e\"], [0.4444444444444444, \"#bd3786\"], [0.5555555555555556, \"#d8576b\"], [0.6666666666666666, \"#ed7953\"], [0.7777777777777778, \"#fb9f3a\"], [0.8888888888888888, \"#fdca26\"], [1.0, \"#f0f921\"]], \"type\": \"contour\"}], \"contourcarpet\": [{\"colorbar\": {\"outlinewidth\": 0, \"ticks\": \"\"}, \"type\": \"contourcarpet\"}], \"heatmap\": [{\"colorbar\": {\"outlinewidth\": 0, \"ticks\": \"\"}, \"colorscale\": [[0.0, \"#0d0887\"], [0.1111111111111111, \"#46039f\"], [0.2222222222222222, \"#7201a8\"], [0.3333333333333333, \"#9c179e\"], [0.4444444444444444, \"#bd3786\"], [0.5555555555555556, \"#d8576b\"], [0.6666666666666666, \"#ed7953\"], [0.7777777777777778, \"#fb9f3a\"], [0.8888888888888888, \"#fdca26\"], [1.0, \"#f0f921\"]], \"type\": \"heatmap\"}], \"heatmapgl\": [{\"colorbar\": {\"outlinewidth\": 0, \"ticks\": \"\"}, \"colorscale\": [[0.0, \"#0d0887\"], [0.1111111111111111, \"#46039f\"], [0.2222222222222222, \"#7201a8\"], [0.3333333333333333, \"#9c179e\"], [0.4444444444444444, \"#bd3786\"], [0.5555555555555556, \"#d8576b\"], [0.6666666666666666, \"#ed7953\"], [0.7777777777777778, \"#fb9f3a\"], [0.8888888888888888, \"#fdca26\"], [1.0, \"#f0f921\"]], \"type\": \"heatmapgl\"}], \"histogram\": [{\"marker\": {\"colorbar\": {\"outlinewidth\": 0, \"ticks\": \"\"}}, \"type\": \"histogram\"}], \"histogram2d\": [{\"colorbar\": {\"outlinewidth\": 0, \"ticks\": \"\"}, \"colorscale\": [[0.0, \"#0d0887\"], [0.1111111111111111, \"#46039f\"], [0.2222222222222222, \"#7201a8\"], [0.3333333333333333, \"#9c179e\"], [0.4444444444444444, \"#bd3786\"], [0.5555555555555556, \"#d8576b\"], [0.6666666666666666, \"#ed7953\"], [0.7777777777777778, \"#fb9f3a\"], [0.8888888888888888, \"#fdca26\"], [1.0, \"#f0f921\"]], \"type\": \"histogram2d\"}], \"histogram2dcontour\": [{\"colorbar\": {\"outlinewidth\": 0, \"ticks\": \"\"}, \"colorscale\": [[0.0, \"#0d0887\"], [0.1111111111111111, \"#46039f\"], [0.2222222222222222, \"#7201a8\"], [0.3333333333333333, \"#9c179e\"], [0.4444444444444444, \"#bd3786\"], [0.5555555555555556, \"#d8576b\"], [0.6666666666666666, \"#ed7953\"], [0.7777777777777778, \"#fb9f3a\"], [0.8888888888888888, \"#fdca26\"], [1.0, \"#f0f921\"]], \"type\": \"histogram2dcontour\"}], \"mesh3d\": [{\"colorbar\": {\"outlinewidth\": 0, \"ticks\": \"\"}, \"type\": \"mesh3d\"}], \"parcoords\": [{\"line\": {\"colorbar\": {\"outlinewidth\": 0, \"ticks\": \"\"}}, \"type\": \"parcoords\"}], \"pie\": [{\"automargin\": true, \"type\": \"pie\"}], \"scatter\": [{\"marker\": {\"colorbar\": {\"outlinewidth\": 0, \"ticks\": \"\"}}, \"type\": \"scatter\"}], \"scatter3d\": [{\"line\": {\"colorbar\": {\"outlinewidth\": 0, \"ticks\": \"\"}}, \"marker\": {\"colorbar\": {\"outlinewidth\": 0, \"ticks\": \"\"}}, \"type\": \"scatter3d\"}], \"scattercarpet\": [{\"marker\": {\"colorbar\": {\"outlinewidth\": 0, \"ticks\": \"\"}}, \"type\": \"scattercarpet\"}], \"scattergeo\": [{\"marker\": {\"colorbar\": {\"outlinewidth\": 0, \"ticks\": \"\"}}, \"type\": \"scattergeo\"}], \"scattergl\": [{\"marker\": {\"colorbar\": {\"outlinewidth\": 0, \"ticks\": \"\"}}, \"type\": \"scattergl\"}], \"scattermapbox\": [{\"marker\": {\"colorbar\": {\"outlinewidth\": 0, \"ticks\": \"\"}}, \"type\": \"scattermapbox\"}], \"scatterpolar\": [{\"marker\": {\"colorbar\": {\"outlinewidth\": 0, \"ticks\": \"\"}}, \"type\": \"scatterpolar\"}], \"scatterpolargl\": [{\"marker\": {\"colorbar\": {\"outlinewidth\": 0, \"ticks\": \"\"}}, \"type\": \"scatterpolargl\"}], \"scatterternary\": [{\"marker\": {\"colorbar\": {\"outlinewidth\": 0, \"ticks\": \"\"}}, \"type\": \"scatterternary\"}], \"surface\": [{\"colorbar\": {\"outlinewidth\": 0, \"ticks\": \"\"}, \"colorscale\": [[0.0, \"#0d0887\"], [0.1111111111111111, \"#46039f\"], [0.2222222222222222, \"#7201a8\"], [0.3333333333333333, \"#9c179e\"], [0.4444444444444444, \"#bd3786\"], [0.5555555555555556, \"#d8576b\"], [0.6666666666666666, \"#ed7953\"], [0.7777777777777778, \"#fb9f3a\"], [0.8888888888888888, \"#fdca26\"], [1.0, \"#f0f921\"]], \"type\": \"surface\"}], \"table\": [{\"cells\": {\"fill\": {\"color\": \"#EBF0F8\"}, \"line\": {\"color\": \"white\"}}, \"header\": {\"fill\": {\"color\": \"#C8D4E3\"}, \"line\": {\"color\": \"white\"}}, \"type\": \"table\"}]}, \"layout\": {\"annotationdefaults\": {\"arrowcolor\": \"#2a3f5f\", \"arrowhead\": 0, \"arrowwidth\": 1}, \"autotypenumbers\": \"strict\", \"coloraxis\": {\"colorbar\": {\"outlinewidth\": 0, \"ticks\": \"\"}}, \"colorscale\": {\"diverging\": [[0, \"#8e0152\"], [0.1, \"#c51b7d\"], [0.2, \"#de77ae\"], [0.3, \"#f1b6da\"], [0.4, \"#fde0ef\"], [0.5, \"#f7f7f7\"], [0.6, \"#e6f5d0\"], [0.7, \"#b8e186\"], [0.8, \"#7fbc41\"], [0.9, \"#4d9221\"], [1, \"#276419\"]], \"sequential\": [[0.0, \"#0d0887\"], [0.1111111111111111, \"#46039f\"], [0.2222222222222222, \"#7201a8\"], [0.3333333333333333, \"#9c179e\"], [0.4444444444444444, \"#bd3786\"], [0.5555555555555556, \"#d8576b\"], [0.6666666666666666, \"#ed7953\"], [0.7777777777777778, \"#fb9f3a\"], [0.8888888888888888, \"#fdca26\"], [1.0, \"#f0f921\"]], \"sequentialminus\": [[0.0, \"#0d0887\"], [0.1111111111111111, \"#46039f\"], [0.2222222222222222, \"#7201a8\"], [0.3333333333333333, \"#9c179e\"], [0.4444444444444444, \"#bd3786\"], [0.5555555555555556, \"#d8576b\"], [0.6666666666666666, \"#ed7953\"], [0.7777777777777778, \"#fb9f3a\"], [0.8888888888888888, \"#fdca26\"], [1.0, \"#f0f921\"]]}, \"colorway\": [\"#636efa\", \"#EF553B\", \"#00cc96\", \"#ab63fa\", \"#FFA15A\", \"#19d3f3\", \"#FF6692\", \"#B6E880\", \"#FF97FF\", \"#FECB52\"], \"font\": {\"color\": \"#2a3f5f\"}, \"geo\": {\"bgcolor\": \"white\", \"lakecolor\": \"white\", \"landcolor\": \"#E5ECF6\", \"showlakes\": true, \"showland\": true, \"subunitcolor\": \"white\"}, \"hoverlabel\": {\"align\": \"left\"}, \"hovermode\": \"closest\", \"mapbox\": {\"style\": \"light\"}, \"paper_bgcolor\": \"white\", \"plot_bgcolor\": \"#E5ECF6\", \"polar\": {\"angularaxis\": {\"gridcolor\": \"white\", \"linecolor\": \"white\", \"ticks\": \"\"}, \"bgcolor\": \"#E5ECF6\", \"radialaxis\": {\"gridcolor\": \"white\", \"linecolor\": \"white\", \"ticks\": \"\"}}, \"scene\": {\"xaxis\": {\"backgroundcolor\": \"#E5ECF6\", \"gridcolor\": \"white\", \"gridwidth\": 2, \"linecolor\": \"white\", \"showbackground\": true, \"ticks\": \"\", \"zerolinecolor\": \"white\"}, \"yaxis\": {\"backgroundcolor\": \"#E5ECF6\", \"gridcolor\": \"white\", \"gridwidth\": 2, \"linecolor\": \"white\", \"showbackground\": true, \"ticks\": \"\", \"zerolinecolor\": \"white\"}, \"zaxis\": {\"backgroundcolor\": \"#E5ECF6\", \"gridcolor\": \"white\", \"gridwidth\": 2, \"linecolor\": \"white\", \"showbackground\": true, \"ticks\": \"\", \"zerolinecolor\": \"white\"}}, \"shapedefaults\": {\"line\": {\"color\": \"#2a3f5f\"}}, \"ternary\": {\"aaxis\": {\"gridcolor\": \"white\", \"linecolor\": \"white\", \"ticks\": \"\"}, \"baxis\": {\"gridcolor\": \"white\", \"linecolor\": \"white\", \"ticks\": \"\"}, \"bgcolor\": \"#E5ECF6\", \"caxis\": {\"gridcolor\": \"white\", \"linecolor\": \"white\", \"ticks\": \"\"}}, \"title\": {\"x\": 0.05}, \"xaxis\": {\"automargin\": true, \"gridcolor\": \"white\", \"linecolor\": \"white\", \"ticks\": \"\", \"title\": {\"standoff\": 15}, \"zerolinecolor\": \"white\", \"zerolinewidth\": 2}, \"yaxis\": {\"automargin\": true, \"gridcolor\": \"white\", \"linecolor\": \"white\", \"ticks\": \"\", \"title\": {\"standoff\": 15}, \"zerolinecolor\": \"white\", \"zerolinewidth\": 2}}}, \"title\": {\"text\": \"Worldwide Confirmed Novel Coronavirus(COVID-19) Cases Over Time\"}, \"xaxis\": {\"anchor\": \"y\", \"domain\": [0.0, 1.0], \"title\": {\"text\": \"Last_Update\"}}, \"yaxis\": {\"anchor\": \"x\", \"domain\": [0.0, 1.0], \"title\": {\"text\": \"Confirmed\"}}},                        {\"responsive\": true}                    ).then(function(){\n",
       "                            \n",
       "var gd = document.getElementById('24b43abb-1cac-4959-827d-e19a36889236');\n",
       "var x = new MutationObserver(function (mutations, observer) {{\n",
       "        var display = window.getComputedStyle(gd).display;\n",
       "        if (!display || display === 'none') {{\n",
       "            console.log([gd, 'removed!']);\n",
       "            Plotly.purge(gd);\n",
       "            observer.disconnect();\n",
       "        }}\n",
       "}});\n",
       "\n",
       "// Listen for the removal of the full notebook cells\n",
       "var notebookContainer = gd.closest('#notebook-container');\n",
       "if (notebookContainer) {{\n",
       "    x.observe(notebookContainer, {childList: true});\n",
       "}}\n",
       "\n",
       "// Listen for the clearing of the current output cell\n",
       "var outputEl = gd.closest('.output');\n",
       "if (outputEl) {{\n",
       "    x.observe(outputEl, {childList: true});\n",
       "}}\n",
       "\n",
       "                        })                };                });            </script>        </div>"
      ]
     },
     "metadata": {},
     "output_type": "display_data"
    }
   ],
   "source": [
    "grouped = df.groupby('Last_Update')['Last_Update', 'Confirmed', 'Deaths'].sum().reset_index()\n",
    "fig = px.line(grouped, x=\"Last_Update\", y=\"Confirmed\", title=\"Worldwide Confirmed Novel Coronavirus(COVID-19) Cases Over Time\")\n",
    "fig.show()"
   ]
  },
  {
   "cell_type": "code",
   "execution_count": null,
   "metadata": {},
   "outputs": [],
   "source": []
  }
 ],
 "metadata": {
  "kernelspec": {
   "display_name": "Python 3",
   "language": "python",
   "name": "python3"
  },
  "language_info": {
   "codemirror_mode": {
    "name": "ipython",
    "version": 3
   },
   "file_extension": ".py",
   "mimetype": "text/x-python",
   "name": "python",
   "nbconvert_exporter": "python",
   "pygments_lexer": "ipython3",
   "version": "3.8.3"
  }
 },
 "nbformat": 4,
 "nbformat_minor": 2
}
